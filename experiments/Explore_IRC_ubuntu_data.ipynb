{
 "cells": [
  {
   "cell_type": "markdown",
   "metadata": {},
   "source": [
    "NOTES:\n",
    "\n",
    "   - multiple attachments upwards are 50% ubottu (documentation bot)\n",
    "       otherwise: seems annotator was unsure of the real target, but probably same cluster anyway -> probbaly very annotator-dependent, do we have that info ? \n",
    "   - self-loops starts cluster, but crosses end of previous clusters (how much overlap?)\n",
    "   - isolated self-loop probably its own class (short/smiley/etc)\n",
    "   - some turns with no head acts as self-loops/beginning of clusters\n",
    "   - server always self-loop ? -> no cluster\n",
    "   - bcp de petits clusters (server, etc)\n",
    "   - différence de longueur dans train (xx->500) vs dev (250) : problème ? \n"
   ]
  },
  {
   "cell_type": "code",
   "execution_count": 1,
   "metadata": {},
   "outputs": [],
   "source": [
    "import itertools\n",
    "import sys\n",
    "import logging\n",
    "from typing import Any, Tuple, Dict, List, Iterable\n",
    "import torch\n",
    "import torch.optim as optim"
   ]
  },
  {
   "cell_type": "code",
   "execution_count": 2,
   "metadata": {},
   "outputs": [],
   "source": [
    "from allennlp.data.dataset_readers.dataset_reader import DatasetReader\n",
    "from allennlp.data.fields import Field, LabelField, TextField, ListField, SequenceLabelField\n",
    "from allennlp.data.instance import Instance\n",
    "from allennlp.data.token_indexers import TokenIndexer, SingleIdTokenIndexer, PretrainedBertIndexer\n",
    "from allennlp.data.tokenizers import Token, Tokenizer, WordTokenizer, PretrainedTransformerTokenizer\n",
    "from allennlp.modules.text_field_embedders import TextFieldEmbedder, BasicTextFieldEmbedder\n",
    "from allennlp.modules.token_embedders import Embedding, PretrainedBertEmbedder\n",
    "from allennlp.modules.seq2vec_encoders import BertPooler\n",
    "\n",
    "from allennlp.modules import Seq2VecEncoder, Seq2SeqEncoder\n",
    "from allennlp.training.metrics import CategoricalAccuracy\n",
    "from allennlp.nn.util import get_text_field_mask, sequence_cross_entropy_with_logits\n",
    "from allennlp.data.vocabulary import Vocabulary\n",
    "\n",
    "from allennlp.training.trainer import Trainer\n",
    "from allennlp.data.iterators import BucketIterator\n",
    "from allennlp.common import Params\n",
    "from allennlp.nn import util"
   ]
  },
  {
   "cell_type": "code",
   "execution_count": 3,
   "metadata": {},
   "outputs": [],
   "source": [
    "%load_ext autoreload\n",
    "%autoreload 2"
   ]
  },
  {
   "cell_type": "code",
   "execution_count": 4,
   "metadata": {},
   "outputs": [],
   "source": [
    "#from dummy_chat_reader import ChatReader\n",
    "from irc_chat_reader import ChatReader"
   ]
  },
  {
   "cell_type": "code",
   "execution_count": 5,
   "metadata": {},
   "outputs": [],
   "source": [
    "token_indexers = {\"tokens\": SingleIdTokenIndexer()}\n",
    "\n",
    "tokenizer_cfg = Params({\"word_splitter\": {\"language\": \"en\"}})\n",
    "\n",
    "word_tokenizer = Tokenizer.from_params(tokenizer_cfg)"
   ]
  },
  {
   "cell_type": "code",
   "execution_count": 6,
   "metadata": {},
   "outputs": [
    {
     "name": "stderr",
     "output_type": "stream",
     "text": [
      "153it [00:42,  2.92it/s]\n",
      "10it [00:01,  7.90it/s]\n"
     ]
    }
   ],
   "source": [
    "reader = ChatReader(\n",
    "    tokenizer=word_tokenizer,\n",
    "    token_indexers=token_indexers,\n",
    "    raw = True,\n",
    "    sub_sequence = None,\n",
    "    #clip = 200\n",
    "    )\n",
    "train_instances = reader.read(\"../data/train\")\n",
    "dev_instances = reader.read(\"../data/dev\")"
   ]
  },
  {
   "cell_type": "code",
   "execution_count": 7,
   "metadata": {},
   "outputs": [
    {
     "name": "stderr",
     "output_type": "stream",
     "text": [
      "100%|██████████| 163/163 [00:00<00:00, 163.98it/s]\n"
     ]
    }
   ],
   "source": [
    "vocab = Vocabulary.from_instances(train_instances+dev_instances)"
   ]
  },
  {
   "cell_type": "code",
   "execution_count": 8,
   "metadata": {
    "scrolled": true
   },
   "outputs": [],
   "source": [
    "#for i in train_instances:\n",
    "#    #print(i)\n",
    "#    i[\"lines\"].index(vocab)\n",
    "#    i[\"arcs\"].index(vocab)\n",
    "#    print(i[\"lines\"].get_padding_lengths())"
   ]
  },
  {
   "cell_type": "code",
   "execution_count": 9,
   "metadata": {},
   "outputs": [
    {
     "data": {
      "text/plain": [
       "array([False,  True, False, False, False, False, False, False, False,\n",
       "       False])"
      ]
     },
     "execution_count": 9,
     "metadata": {},
     "output_type": "execute_result"
    }
   ],
   "source": [
    "i0 = train_instances[0]\n",
    "i0[\"is_server\"].array[:10]"
   ]
  },
  {
   "cell_type": "code",
   "execution_count": 10,
   "metadata": {},
   "outputs": [],
   "source": [
    "#while True:\n",
    "#    pass"
   ]
  },
  {
   "cell_type": "code",
   "execution_count": 11,
   "metadata": {},
   "outputs": [],
   "source": [
    "#sum([len([x for x in i[\"metadata\"].metadata[\"addressees\"] if x is None]) for i in train_instances])"
   ]
  },
  {
   "cell_type": "code",
   "execution_count": 12,
   "metadata": {},
   "outputs": [
    {
     "name": "stdout",
     "output_type": "stream",
     "text": [
      "nb of document with zeros edges: 0\n"
     ]
    }
   ],
   "source": [
    "c = 0\n",
    "for n,i in enumerate(train_instances):\n",
    "    nbarcs = len(i[\"arcs\"].indices)\n",
    "    if nbarcs==0: \n",
    "        c+=1 \n",
    "        print(n)\n",
    "print(\"nb of document with zeros edges:\",c)"
   ]
  },
  {
   "cell_type": "code",
   "execution_count": 13,
   "metadata": {},
   "outputs": [],
   "source": [
    "#distance max\n",
    "#for instance in train_instances:\n",
    "#    maxl = max([abs(j-i) for (i,j) in instance[\"arcs\"].indices])\n",
    "#    print(maxl)\n",
    "               "
   ]
  },
  {
   "cell_type": "code",
   "execution_count": 14,
   "metadata": {},
   "outputs": [],
   "source": [
    "from allennlp.models import Model\n",
    "from typing import Dict, List, Iterable\n",
    "from allennlp.modules import TimeDistributed\n",
    "from allennlp.nn.util import get_text_field_mask, sequence_cross_entropy_with_logits"
   ]
  },
  {
   "cell_type": "code",
   "execution_count": 15,
   "metadata": {},
   "outputs": [
    {
     "name": "stderr",
     "output_type": "stream",
     "text": [
      "10it [00:01,  7.90it/s]\n"
     ]
    }
   ],
   "source": [
    "dev_instances = reader.read(\"../data/dev\")"
   ]
  },
  {
   "cell_type": "code",
   "execution_count": 16,
   "metadata": {},
   "outputs": [],
   "source": [
    "# probing the gold annotations to see how many multiple attachements\n",
    "def store_gold(instances,chat_id):\n",
    "    gold = {}\n",
    "    for (i,j) in instances[chat_id][\"arcs\"].indices:\n",
    "        if i in gold:\n",
    "            gold[i].append(j)\n",
    "        else:\n",
    "            gold[i] = [j]\n",
    "    return gold"
   ]
  },
  {
   "cell_type": "code",
   "execution_count": 34,
   "metadata": {},
   "outputs": [],
   "source": [
    "dev_gold = {i:store_gold(dev_instances,i) for i in range(len(dev_instances))}\n",
    "train_gold = {i:store_gold(train_instances,i) for i in range(len(train_instances))}"
   ]
  },
  {
   "cell_type": "code",
   "execution_count": 18,
   "metadata": {},
   "outputs": [],
   "source": [
    "chat_id = 0"
   ]
  },
  {
   "cell_type": "code",
   "execution_count": 19,
   "metadata": {},
   "outputs": [
    {
     "data": {
      "text/plain": [
       "Counter({1: 243, 2: 5})"
      ]
     },
     "execution_count": 19,
     "metadata": {},
     "output_type": "execute_result"
    }
   ],
   "source": [
    "# check multiple attachments\n",
    "from collections import Counter\n",
    "c = Counter([len(dev_gold[chat_id][i]) for i in dev_gold[chat_id]])\n",
    "c"
   ]
  },
  {
   "cell_type": "code",
   "execution_count": 20,
   "metadata": {},
   "outputs": [
    {
     "name": "stdout",
     "output_type": "stream",
     "text": [
      "------ 0\n",
      "ubottu\n",
      "edbian\n",
      "ubottu\n",
      "ubottu\n",
      "toad\n",
      "------ 1\n",
      "ubottu\n",
      "ubottu\n",
      "ubottu\n",
      "Frantic\n",
      "optiks\n",
      "optiks\n",
      "ubottu\n",
      "ubottu\n",
      "ubottu\n",
      "ubottu\n",
      "------ 2\n",
      "ud\n",
      "phill\n",
      "CPayan\n",
      "phill\n",
      "------ 3\n",
      "allsystemsarego\n",
      "ActionParsnip1\n",
      "ubottu\n",
      "ActionParsnip1\n",
      "ubottu\n",
      "rookeeeeeeeee\n",
      "sinuc\n",
      "sken\n",
      "sinuc\n",
      "sken\n",
      "sken\n",
      "sken\n",
      "ubottu\n",
      "ubottu\n",
      "ubottu\n",
      "BoogieBoo\n",
      "Panarchy\n",
      "BoogieBoo\n",
      "------ 4\n",
      "jasoncohen\n",
      "Raf99\n",
      "f_newton\n",
      "MartenH\n",
      "Nevado\n",
      "linlin\n",
      "jasoncohen\n",
      "MartenH\n",
      "f_newton\n",
      "CircleofChaos\n",
      "f_newton\n",
      "Agamotto\n",
      "------ 5\n",
      "ubottu\n",
      "ubottu\n",
      "eepberries\n",
      "Nytrix\n",
      "ubottu\n",
      "ubottu\n",
      "b1n42y\n",
      "stevr1it\n",
      "ubottu\n",
      "ubottu\n",
      "Silicium\n",
      "Nytrix\n",
      "ubottu\n",
      "Nytrix\n",
      "ubottu\n",
      "ActionParsnip\n",
      "rogerio\n",
      "------ 6\n",
      "nubbe\n",
      "microhaxo\n",
      "microhaxo\n",
      "bob2\n",
      "bob2\n",
      "microhaxo\n",
      "lukus001\n",
      "xabbu|\n",
      "CDK\n",
      "microhaxo\n",
      "floo\n",
      "------ 7\n",
      "ubottu\n",
      "ubottu\n",
      "ubottu\n",
      "ubottu\n",
      "ubottu\n",
      "ubottu\n",
      "ubottu\n",
      "ubottu\n",
      "ubottu\n",
      "ubottu\n",
      "ubottu\n",
      "ubottu\n",
      "ubottu\n",
      "tstebut\n",
      "------ 8\n",
      "L1nuxRules\n",
      "ubottu\n",
      "bonhoffer\n",
      "bonhoffer\n",
      "OttScorp\n",
      "bonhoffer\n",
      "------ 9\n",
      "corba\n",
      "ubottu\n",
      "ubottu\n",
      "ubottu\n",
      "corba\n",
      "MonkeyDust\n",
      "figure002\n",
      "groob\n",
      "total 105\n"
     ]
    },
    {
     "data": {
      "text/plain": [
       "[(ubottu, 40),\n",
       " (sken, 4),\n",
       " (microhaxo, 4),\n",
       " (f_newton, 3),\n",
       " (Nytrix, 3),\n",
       " (bonhoffer, 3),\n",
       " (optiks, 2),\n",
       " (phill, 2),\n",
       " (ActionParsnip1, 2),\n",
       " (sinuc, 2)]"
      ]
     },
     "execution_count": 20,
     "metadata": {},
     "output_type": "execute_result"
    }
   ],
   "source": [
    "# print users for turns with multiple heads\n",
    "all = []\n",
    "for chat_id in range(len(dev_instances)):\n",
    "    print(\"------\",chat_id)\n",
    "    for i in dev_gold[chat_id]: \n",
    "        if len(dev_gold[chat_id][i])>1:\n",
    "            all.append((dev_instances[chat_id][\"lines\"][i].tokens[1]))\n",
    "            print(all[-1])\n",
    "print(\"total\",len(all))        \n",
    "Counter(all).most_common(10)"
   ]
  },
  {
   "cell_type": "code",
   "execution_count": 36,
   "metadata": {},
   "outputs": [],
   "source": [
    "def display_chat(instances,gold,chat_id,start=0,nb=250,file=sys.stdout):\n",
    "    turn_key = \"lines\"\n",
    "    for i,turn in enumerate(instances[chat_id][turn_key][start:start+nb]):\n",
    "        k = i + start\n",
    "        head = gold[chat_id].get(k,\"NONE\")\n",
    "        if head == [k]: head = \"SELF-LOOP\"\n",
    "        print(k,\"->\",head,turn.tokens,file=file)"
   ]
  },
  {
   "cell_type": "code",
   "execution_count": 37,
   "metadata": {},
   "outputs": [
    {
     "name": "stdout",
     "output_type": "stream",
     "text": [
      "0 -> NONE [<, MWM, >, oh, jeeze, :, I, keep, crossing, what, you, are, saying, iun, my, head, ., I, got, it, mixed, up, again, and, was, right, the, first, time, ., I, do, nt, know, how, to, get, Windows, from, xubuntu, ..., only, xubuntu, from, windows, ., sorry]\n",
      "1 -> [0] [<, corba, >, no, prob, :)]\n",
      "2 -> SELF-LOOP [_, server, nicomach2s, is, now, known, as, nicomachus]\n",
      "3 -> [0] [<, corba, >, i, ve, done, it, a, thousand, times, in, cinnamon, but, this, is, an, old, computer, and, i, have, to, use, xfce, or, lxde, ,, i, do, nt, know, if, i, can, run, mate, ...]\n",
      "4 -> NONE [<, wafflejock, >, ah, yeah, the, shares, plugin, appears, to, be, for, adding, shared, folders, ,, might, be, useful, but, not, for, this, issue]\n",
      "5 -> [3] [<, corba, >, not, only, that, ,, i, m, having, problems, downloading, it, form, the, ppa, haha]\n",
      "6 -> [3] [<, wafflejock, >, corba, ,, you, try, running, thunar, from, the, command, line, and/or, watching, syslog, while, you, try, to, copy, /, paste, ?, might, give, more, info]\n",
      "7 -> [6] [<, corba, >, wafflejock, ,, i, m, going, to, try, that]\n",
      "8 -> [6, 0] [<, corba, >, i, m, going, to, restart, ill, be, bakc, in, a, while, ,, thanks, for, the, help]\n",
      "9 -> [8] [<, wafflejock, >, good, luck]\n",
      "10 -> SELF-LOOP [<, MEGAx, >, hello, my, friends]\n",
      "11 -> [10] [<, home, >, hello]\n",
      "12 -> SELF-LOOP [<, caco, >, Hello, Everyne, :, has, someone, tried, to, install, ubuntu, on, lvm, with, xfs, ?, i, have, been, trying, with, 16.10, ,, but, i, can, not, get, grub, to, boot]\n",
      "13 -> [12] [<, MEGAx, >, usb, boot]\n",
      "14 -> [13] [<, caco, >, MEGAx, :, That, is, for, me, ?, What, do, you, mean, by, usb, boot, ?]\n",
      "15 -> [14] [<, MEGAx, >, install, ubuntu, with, usb, boot]\n",
      "16 -> [15] [<, MEGAx, >, make, usb, boot]\n",
      "17 -> SELF-LOOP [_, server, dax, is, now, known, as, ro]\n",
      "18 -> [12] [<, OerHeks, >, caco, ,, You, may, need, to, install, the, xfsprogs, package, in, the, live, system, ,, before, installing, ., #, http]\n",
      "19 -> SELF-LOOP [<, MEGAx, >, a, flet, njeri, shqip, ktu, me, vlla]\n",
      "20 -> [14] [<, OerHeks, >, !, usb]\n",
      "21 -> [14, 20] [<, ubottu, >, For, information, about, installing, Ubuntu, from, USB, flash, drives, ,, see, #, http, -, For, a, persistent, live, USB, install, ,, see, :, #, http]\n",
      "22 -> [19] [<, Menzador, >, !, al, |, MEGAx]\n",
      "23 -> [8] [<, corba, >, now, i, ca, nt, even, access, my, windows, shares, haha]\n",
      "24 -> [18] [<, caco, >, OerHeks, :, What, is, that, for, ?, i, usually, create, the, xfs, lvm, partitions, from, the, live, system, without, issues, ,, its, after, the, install, that, i, can, not, boot, to, linux]\n",
      "25 -> [22] [<, MEGAx, >, my, lenova, g50, working, with, usb, boot, ai, hev, ubuntu, mate, live, installer, ai, do, nt, hev, hdd, on, lenovo]\n",
      "26 -> [18] [<, caco, >, OerHeks, :, I, just, checked, ,, in, the, live, systems, ,, xfsprogs, is, current]\n",
      "27 -> SELF-LOOP [<, groob, >, I, 'm, dual, booting, 2, ubuntu, systems, (, both, are, 16.04, ), ., Call, them, OS1, and, OS2, ., Currently, grub, is, installed, from, OS1, ,, so, update, -, grub, only, has, an, effect, when, run, from, OS1, ., What, is, the, best, way, to, get, the, bootloader, to, automatically, update, if, OS2, has, a, kernel, update, ?]\n",
      "28 -> SELF-LOOP [<, jamesrleimer, >, hi]\n",
      "29 -> [27] [<, corba, >, groob, ,, I, guess, the, easiest, way, is, to, instal, grub, customizer, in, os2, ,, and, when, you, update, the, kernel, ,, also, update, grub, from, grub, -, customizer]\n",
      "30 -> [25] [<, MEGAx, >, my, pc, alienware, r5, ai, hev, install, 4, booting, windows, 7-backtrack, r5-ubuntu, kylin, -, end, wifislax, ok]\n",
      "31 -> [30] [<, corba, >, MEGAx, ,, what, is, your, question, ?]\n",
      "32 -> [29] [<, groob, >, corba, :, Thanks, !, That, wo, n't, be, automated, though, ,, right, ?]\n",
      "33 -> [30] [<, Menzador, >, MEGAx, :, Ju, mund, të, provoni, bashkuar, kanalin, #, flossk, për, mbështetje, Ubuntu, në, gjuhën, shqipe, ., (, Ajo, u, krijua, fillimisht, për, Kosovën, ,, por, gjithashtu, mbështet, zona, të, tjera, shqipfolëse, ., )]\n",
      "34 -> [32] [<, corba, >, nope, ,, and, i, do, nt, know, if, it, will, correctly, update, the, grub, because, the, past, update, was, in, /boot, from, OS1]\n",
      "35 -> [34] [<, corba, >, but, you, can, give, it, a, try, ,, i, always, use, it, to, update, grub, graphically, ,, change, font, ,, background, image, ...]\n",
      "36 -> SELF-LOOP [<, janat08, >, I, ca, n't, find, windows, partition]\n",
      "37 -> [36] [<, janat08, >, which, i, think, is, ntfs, so, i, should, read, it]\n",
      "38 -> [34] [<, groob, >, corba, :, Ah, ok, ., Yea, ,, that, 's, the, issue, that, I, 'm, hitting, ., Each, OS, has, a, seperate, /boot, that, is, updated, ., I, suspect, that, the, solution, would, require, OS2, to, change, the, /boot, location, to, be, the, same, as, OS1, .]\n",
      "39 -> [38] [<, corba, >, groob, ,, you, could, put, /boot, on, a, separate, partition, :)]\n",
      "40 -> [39] [<, groob, >, corba, :, Hmm, ..., You, might, be, on, to, something, there, haha]\n",
      "41 -> [36] [<, wafflejock, >, janat08, ,, ca, n't, find, it, where, ?]\n",
      "42 -> [41] [<, janat08, >, file, manager]\n",
      "43 -> [40] [<, corba, >, groob, ,, but, why, do, you, need, two, OS, ?]\n",
      "44 -> [42] [<, wafflejock, >, janat08, ,, depending, on, file, manager, it, should, show, up, there]\n",
      "45 -> [43] [<, groob, >, corba, :, \", reasons, \"]\n",
      "46 -> [43] [*, genii, ponders, OS/2]\n",
      "47 -> [45] [<, corba, >, groob, ,, virtualization, would, nt, do, the, trick, ?]\n",
      "48 -> [44] [<, janat08, >, well, i, got, the, default, one, ,, and, it, does, n't, have, my, computer, tab]\n",
      "49 -> [45] [<, groob, >, corba, :, I, 'm, running, 2, filesystems, and, also, I, just, like, to, keep, things, isolated, .]\n",
      "50 -> [47, 49] [<, groob, >, corba, :, I, tried, virtualization, but, the, performance, just, is, n't, that, great, on, my, hardware, sadly, .]\n",
      "51 -> [44] [<, janat08, >, how, do, i, access, windows, partition, ?]\n",
      "52 -> [51] [<, corba, >, janat08, ,, you, mount, it]\n",
      "53 -> [47] [<, groob, >, corba, :, Thanks, for, the, help, !, I, 'll, try, using, a, dedicated, boot, partition, instead, ., The, biggest, downside, that, I, can, think, of, is, that, the, partition, order, in, the, menu, will, change, depending, on, which, OS, ran, update, -, grub, last, ., If, that, could, be, solved, ,, then, it, would, be, perfect, .]\n",
      "54 -> [53] [<, corba, >, partition, order, ?]\n",
      "55 -> SELF-LOOP [<, test12345, _, >, So, has, anybody, here, used, phpvirtualbox, recently, ?, i, installed, ubuntu, 16.04, server, yesterday, ,, but, i, seem, to, be, to, stupid, to, setup, phpvirtualbox, haha]\n",
      "56 -> [55] [<, corba, >, test12345, _, ,, i, use, normal, virtualbox, daily, not, problems, with, it]\n",
      "57 -> [54] [<, groob, >, corba, :, Err, ,, I, mean, the, order, of, the, operating, systems, ., OS1, appears, first, currently, ,, but, if, OS2, ran, update, -, grub, ,, it, would, cause, OS2, to, be, listed, first, .]\n",
      "58 -> [57] [<, corba, >, groob, ,, you, could, change, that, with, grub, -, customizer, easily]\n",
      "59 -> [58] [<, groob, >, corba, :, Oh, ,, cool, ., Good, to, know, !, Thanks, !]\n",
      "60 -> [59] [<, corba, >, you, need, to, install, it, through, the, ppa, though]\n",
      "61 -> [56] [<, test12345, _, >, yeah, i, thinkj, normal, one, works, ,, it, is, just, that, i, do, nt, have, gui, on, the, srever, ,, and, doing, everything, via, VBoxManage, and, cli, seems, a, lot, of, work, (, especially, if, you, never, did, it, )]\n",
      "62 -> [33] [<, MEGAx, >, kemi, naj, shqiptar, ktu, apo, fare]\n",
      "63 -> [62] [<, nicomachus, >, what, language, is, that, ...., ?]\n",
      "64 -> [63] [<, MEGAx, >, albanian]\n",
      "65 -> [64] [<, nicomachus, >, MEGAx, :, this, channel, is, English, only]\n",
      "66 -> [53] [<, Bashing, -, om, >, groob, :, There, can, be, only, one, boot, control, authority, per, hard, drive, ., What, I, do, is, disable, 30_os, -, prober, in, the, seconday, system, ,, ', sudo, update, -, grub, ', amd, in, the, primary, also, ', sudo, apt, -, update, -, grub, ', to, propogate, the, changes, to, the, system(s, ), .]\n",
      "67 -> [64] [<, nicomachus, >, !, Albanian, |, MEGAx]\n",
      "68 -> [61] [<, tomreyn, >, test12345, _, :, you, could, use, libvirt, +, kvm, on, the, server, and, virt, -, manager, on, the, client]\n",
      "69 -> [62] [<, Pici, >, MEGAx, :, have, you, asked, in, #, flossk, ?]\n",
      "70 -> [69] [<, MEGAx, >, yes, ai, nou]\n",
      "71 -> [67] [<, nicomachus, >, we, do, n't, have, an, albanian, factoid, ..., go, figure]\n",
      "72 -> [71] [<, Pici, >, !, al]\n",
      "73 -> [71, 72] [<, ubottu, >, Edhe, Ubuntu, Ekipi, LoCo, Shqipe, shërben, si, Shqipërinë, dhe, Kosovën, ,, dhe, ofron, mbështetje, në, kanalin, #, flossk, ., Për, të, hyrë, ,, lloji, \", /join, #, flossk, \", (, pa, thonjëza, ), .]\n",
      "74 -> [68] [<, test12345, _, >, tomreyn, :, ah, i, might, look, into, that, also, seems, like, an, idea]\n",
      "75 -> [73] [<, nicomachus, >, huh, .]\n",
      "76 -> [66] [<, Bashing, -, om, >, groob, :, Typo, .., sudo, apt, -, update, -, grub, ', s, /, b, ', sudo, update, -, grub, ']\n",
      "77 -> [69] [<, MEGAx, >, ok, men, albanian, is, on, flossk, chat, bye]\n",
      "78 -> [66] [<, groob, >, Bashing, -, om, :, Thanks, !, Wo, n't, that, still, require, manually, running, update, -, grub, every, time, the, kernel, updates, though, ?]\n",
      "79 -> SELF-LOOP [<, zacky83, >, Hi, everybody, ,, my, fail2ban, does, not, seem, to, be, active, ,, I, keep, getting, asterisk, hacking, attempts, but, I, never, see, result, in, fail2ban, log]\n",
      "80 -> SELF-LOOP [<, walidof, >, hello, all]\n",
      "81 -> [79] [<, groob, >, zacky83, :, Did, you, copy, the, config, file, in, /etc, /, fail2ban, after, you, installed, it, ?, By, default, I, think, fail2ban, does, nothing, .]\n",
      "82 -> [78] [<, Bashing, -, om, >, groob, :, Yes, that, is, true, /, ', sudo, update, -, grub, ', will, be, needed, ach, time, the, kernel, is, changed, ., But, that, is, no, big, deal, ,, is, it, ?]\n",
      "83 -> SELF-LOOP [<, walidof, >, i, need, help, for, first, login, to, ubuntu, core, ,, i, need, localhost, login, name, /, pass, ,, i, try, add, :, ubuntu, -, ubuntu, -, toor, -, root, -, startx, ,, and, the, problem, not, solved, .]\n",
      "84 -> [82] [<, groob, >, Bashing, -, om, :, It, 's, not, a, huge, deal, ., It, 's, what, I, 'm, currently, doing, ., I, update, the, kernel, in, the, secondary, OS, followed, by, running, update, -, grub, within, the, primary, OS, .]\n",
      "85 -> [83] [<, walidof, >, i, use, ubuntu, core, for, raspberry, pi, 2]\n",
      "86 -> [81] [<, zacky83, >, groob, I, do, n't, have, any, /etc, /, fail2ban, directory, under, my, ubuntu, server]\n",
      "87 -> [82] [<, groob, >, Bashing, -, om, :, I, was, just, hoping, that, there, was, an, easy, way, to, automate, it, ,, that, 's, all, .]\n",
      "88 -> [87] [<, groob, >, Bashing, -, om, :, But, thanks, !]\n",
      "89 -> [87] [<, Bashing, -, om, >, groob, :, My, expeprience, with, out, disabling, 30_os, -, prober, in, my, secondary, systems, is, that, there, is, the, propability, of, recurssion, in, the, primary, grub.cfg, file, .]\n",
      "90 -> [86] [<, groob, >, zacky83, :, Did, you, install, fail2ban, already, ?, If, so, ,, was, it, installed, by, running, \", sudo, apt, -, get, install, fail2ban, \", ?]\n",
      "91 -> [90] [<, zacky83, >, groob, yes, ,, it, is, installed]\n",
      "92 -> [91] [<, zacky83, >, groob, in, fail2ban.log, I, have, 2016, -, 12, -, 19, 21:06:25,137, fail2ban.jail, :, INFO, Jail, ', asterisk, -, tcp, ', started]\n",
      "93 -> [85] [<, OerHeks, >, walidof, ,, ubuntu, core, setup, needs, a, SSO, account, ,, #, http, so, you, get, SSH, key, to, login]\n",
      "94 -> [89] [<, groob, >, Bashing, -, om, :, Ah, ,, I, see, ., Currently, I, just, have, 2, /boot, directories, ,, so, nothing, conflicts, ., When, OS2, has, a, kernel, update, ,, it, just, updates, a, /boot, that, is, never, used, ., If, I, set, up, a, decidated, boot, partition, ,, I, 'll, take, note, of, that, ., Thanks]\n",
      "95 -> [93] [<, OerHeks, >, err, #, http]\n",
      "96 -> [92] [<, groob, >, zacky83, :, I, 'm, not, really, sure, then, ., When, I, installed, it, (, using, the, guide, #, http, ), ,, I, had, to, \", cp, /etc, /, fail2ban, /, jail.conf, /etc, /, fail2ban, /, jail.local, \", before, it, worked, ., If, you, do, n't, have, that, directory, ,, however, ,, then, I, 'm, not, sure, what, to, do, .]\n",
      "97 -> SELF-LOOP [<, devn0ll, >, What, do, you, guys, recommend, for, copying, /, cloning, a, directory, ?, (, eg, cloning, /storage1, to, /storage2, locally, ), --, Its, about, 3, TB, data, ,, both, large, single, files, and, very, small, ones, ., Preferably, with, progressbar, and, some, sort, of, verifying, the, integrity, of, the, files, after, the, copy, .]\n",
      "98 -> NONE [<, corba, >, i, think, i, fixed, the, samba, problem, ,, i, install, fuse, ,, sambaclient, ,, and, run, through, cli, \", thunar, smb://'ip_destination, ', \"]\n",
      "99 -> [97] [<, Ben64, >, devn0ll, :, rsync]\n",
      "100 -> [97] [<, OerHeks, >, rsync, with, grsync, as, gui]\n",
      "101 -> [93] [<, walidof, >, i, use, SSH, correct, ,, but, efter, put, email, and, login, ,, the, next, need, localhost, login, name, /, pass, ,, in, general, in, ubuntu, for, pc, is, normal, add, root, /, toor, or, ubuntu, /, ubuntu, to, login, but, in, core, i, try, all, what, i, know, but, not, work]\n",
      "102 -> [96] [<, zacky83, >, groob, sorry, ,, I, have, this, directory, ,, I, have, jail.conf, in, it, but, not, jail.local]\n",
      "103 -> [101] [<, OerHeks, >, try, ubuntu:<empty, >]\n",
      "104 -> [103] [<, walidof, >, i, try]\n",
      "105 -> [104] [<, walidof, >, ubuntu:<empty, >, /, root:<empty, >, /, toor:<empty, >, /, startx:<empty, >]\n",
      "106 -> SELF-LOOP [<, Bachus, >, is, xubuntu, supported, here]\n",
      "107 -> [106] [<, Ben64, >, Bachus, :, yes]\n",
      "108 -> [105] [<, Ben64, >, walidof, :, well, it, 's, not, going, to, be, toor, or, startx, for, sure]\n",
      "109 -> [102] [<, groob, >, zacky83, :, Ah, ,, ok, good, !, The, first, thing, that, I, always, do, is, copy, the, jail.conf, to, jail.local, ., Then, add, all, of, the, necessary, configuration, changes, to, jail.local, .]\n",
      "110 -> [109] [<, zacky83, >, groob, ,, how, can, /etc, /, fail2ban, /, filter.d, /, asterisk.conf, be, taken, in, account, for, fail2ban, ?]\n",
      "111 -> [108] [<, walidof, >, Ben64, :, what, is, the, solution, ?, how, can, login, ?, and, this, is, first, use, ubuntu, core, to, raspberry, pi]\n",
      "112 -> SELF-LOOP [_, server, deanman, is, now, known, as, deanman, _]\n",
      "113 -> [111] [<, Ben64, >, walidof, :, idk, ,, but, it, certainly, is, n't, toor, or, startx]\n",
      "114 -> [107] [<, Bachus, >, til, what, year, are, security, updates, provided, to, the, users, of, xubuntu, 16.04]\n",
      "115 -> [111] [<, OerHeks, >, not, sure, there, is, a, password, ,, the, guide, clearly, states, ssh, key, #, http]\n",
      "116 -> [114] [<, ppf, >, !, lts]\n",
      "117 -> [114, 116] [<, ubottu, >, LTS, means, Long, Term, Support, ., Until, 12.04, LTS, versions, of, Ubuntu, were, supported, for, 3, years, on, the, desktop, ,, and, 5, years, on, the, server, ;, since, 12.04, (, Precise, Pangolin, ), LTS, versions, will, be, supported, for, 5, years, on, the, desktop, and, server, ., The, latest, LTS, version, of, Ubuntu, is, !, Xenial, (, Xenial, Xerus, 16.04.1, )]\n",
      "118 -> [100] [<, corba, >, can, you, use, rsync, with, a, windows, machine, ?]\n",
      "119 -> [118] [<, Ben64, >, sure]\n",
      "120 -> [118] [<, ppf, >, corba, :, via, samba]\n",
      "121 -> [120, 119] [<, corba, >, thx, :)]\n",
      "122 -> [110] [<, groob, >, zacky83, :, That, I, 'm, not, sure, about, unfortunately, ., Perhaps, someone, else, knows, ?, I, 've, never, used, that, fail2ban, filter, .]\n",
      "123 -> [117] [<, Bachus, >, ppf, :, is, xubuntu, 16.04.1, supported, for, three, years, like, 16.04, ?]\n",
      "124 -> [123] [<, Ben64, >, Bachus, :, you, did, n't, seem, to, read, what, ubottu, said]\n",
      "125 -> [124] [<, Bachus, >, Ben64, :, oh, yea]\n",
      "126 -> [124] [<, Bachus, >, i, apologize, for, my, stupidity, ,, Ben64, ,, i, can, assure, you, that, not, all, beginners, are, like, me]\n",
      "127 -> [126] [<, Ben64, >, Bachus, :, no, worries]\n",
      "128 -> [123] [<, OerHeks, >, just, hop, from, lts, to, lts, any, 2, years, :-)]\n",
      "129 -> SELF-LOOP [<, tabakhase, >, :/, Arctis7, wirelessHeadset, gets, detected, -, but, only, shows, as, mono, and, does, nt, actually, work, :(, thanks, god, for, the, lineIn, :, F]\n",
      "130 -> [126] [<, kb90, >, haha]\n",
      "131 -> [129] [<, tabakhase, >, not, like, i, ve, expected, them, to, work, at, all, tho, :D]\n",
      "132 -> SELF-LOOP [_, server, kinow, _, is, now, known, as, kinow]\n",
      "133 -> SELF-LOOP [_, server, thomas, is, now, known, as, Guest48467]\n",
      "134 -> SELF-LOOP [<, MOUD, >, Hey, all]\n",
      "135 -> [134] [<, ghoul, >, hi]\n",
      "136 -> SELF-LOOP [<, worktoner, >, Did, the, ', top, ', program, get, replaced, from, ubuntu, 10, to, 14, ?]\n",
      "137 -> SELF-LOOP [<, MOUD, >, I, 'm, looking, for, a, few, programs, ., I, need, a, program, like, Netbalaner, (, which, tells, each, program, how, much, bandwidth, it, 's, using, and, the, ability, to, block, traffic, for, that, specific, program, ), ., The, other, program, is, one, that, shows, every, page, that, I, visit, but, with, the, full, url, .]\n",
      "138 -> [136] [<, nacc, >, worktoner, :, no, ,, top, still, exists]\n",
      "139 -> [137] [<, nacc, >, MOUD, :, is, n't, the, latter, just, your, browser, history, ?]\n",
      "140 -> [139] [<, MonkeyDust, >, was, thinking, the, same, thing]\n",
      "141 -> [138] [<, worktoner, >, nacc, :, No, i, mean, ,, is, it, a, different, program, for, that, functionality]\n",
      "142 -> [138] [<, worktoner, >, It, seems, very, different, from, how, it, used, to, be]\n",
      "143 -> [142] [<, nacc, >, worktoner, :, are, you, sure, you, 're, not, running, htop, instead, of, top, perhaps, ?]\n",
      "144 -> [141] [<, ppf, >, worktoner, :, there, is, htop, ,, which, is, a, bit, more, colorful]\n",
      "145 -> [139] [<, MOUD, >, nacc, ,, no, ., Some, pages, (, usually, php, ones, ), do, n't, show, the, full, url, when, you, go, to, another, link, .]\n",
      "146 -> [145] [<, MOUD, >, also, ,, some, images, are, the, same, too, .]\n",
      "147 -> SELF-LOOP [<, Elementalist, >, dafuq]\n",
      "148 -> [147] [<, Elementalist, >, i, ca, nt, see, the, users, list]\n",
      "149 -> [148] [<, Elementalist, >, wtf]\n",
      "150 -> [144] [<, worktoner, >, I, used, to, know, how, to, navigate, around, and, change, the, column, priorities, ,, etc, .., now, I, 'm, nearly, useless, with, top, ..]\n",
      "151 -> [149, 147] [<, MonkeyDust, >, Elementalist, mind, your, language]\n",
      "152 -> [151] [<, Elementalist, >, sorry, m8]\n",
      "153 -> [148] [<, Elementalist, >, apparently, i, am, using, wrong, program]\n",
      "154 -> [153] [<, Elementalist, >, is, there, any, program, near, mIrc, ?]\n",
      "155 -> [154] [<, MonkeyDust, >, Elementalist, try, hexchat]\n",
      "156 -> [155] [<, Elementalist, >, i, mean, looks, -, operates]\n",
      "157 -> [156] [<, ppf, >, xchat]\n",
      "158 -> [154] [<, MOUD, >, Elementalist, ,, I, use, HexChat]\n",
      "159 -> [157] [<, ppf, >, or, whatever, that, 's, called, today]\n",
      "160 -> [159] [<, potatolord, >, Weechat]\n",
      "161 -> [158] [<, Elementalist, >, hexchat, ok]\n",
      "162 -> [158] [<, ppf, >, yeah, ,, hexchat, :)]\n",
      "163 -> [150] [<, nacc, >, worktoner, :, run, top, and, then, hit, ', ?, ', to, get, the, help]\n",
      "164 -> [157] [<, Elementalist, >, i, am, currently, using, xchat, and, i, ca, nt, see, the, users]\n",
      "165 -> [150] [<, nacc, >, worktoner, :, it, 's, certainly, possibly, (, although, sort, of, unlikely, ), that, the, options, have, changed, between, major, releases]\n",
      "166 -> [164] [<, Elementalist, >, i, am, just, seeing, only, those, who, speak, /, leave, /, join, .]\n",
      "167 -> [166] [<, Elementalist, >, oh, dear, ...]\n",
      "168 -> [167] [<, Elementalist, >, what, a, tab, can, do, in, that, program, ...]\n",
      "169 -> [168] [<, Elementalist, >, sorry]\n",
      "170 -> [163] [<, worktoner, >, Ahh, I, see, they, 've, changed, around, the, commands, .]\n",
      "171 -> SELF-LOOP [_, server, jcdenton, is, now, known, as, Repentance]\n",
      "172 -> [169] [<, Elementalist, >, brb]\n",
      "173 -> SELF-LOOP [<, bray90820, >, What, would, be, a, good, way, to, slow, down, the, mouse, pointer, speed, from, the, terminal]\n",
      "174 -> [166] [<, pavlos, >, Elementalist, ,, you, can, right, click, on, the, channel, ,, settings, ,, hide, those, who, join, /, leave]\n",
      "175 -> SELF-LOOP [<, MOUD, >, that, reminds, me, ..., how, can, I, use, CTRL+C, /, V, on, terminal, ?]\n",
      "176 -> [175] [<, MonkeyDust, >, MOUD, ctrl, ins, pasts]\n",
      "177 -> [175] [<, nacc, >, MOUD, :, it, depends, on, your, terminal, application, ,, in, gnome, -, terminal, ,, e.g., it, 's, ctrl+shift+c, /, v]\n",
      "178 -> [176] [<, MOUD, >, -.-]\n",
      "179 -> [176] [<, MonkeyDust, >, MOUD, i, mean, ,, shift, -, ins]\n",
      "180 -> [177] [<, MOUD, >, ca, n't, I, change, it, ?, or, another, terminal, alternative, ?]\n",
      "181 -> SELF-LOOP [<, froglok, >, can, anyone, help, me, fixing, an, issue, ?, Using, amazon, EC2, for, a, virtual, ubuntu, server, .., changed, my, hosts, file, to, point, to, the, server, IP, .., setup, virtualhosts, ,, apache, ,, etc, .., and, configured, and, accessing, the, domain, gives, me, 403, Forbidden]\n",
      "182 -> SELF-LOOP [<, figure002, >, hello, .]\n",
      "183 -> [181] [<, nacc, >, froglok, :, anything, in, your, server, 's, logs, ?]\n",
      "184 -> SELF-LOOP [<, figure002, >, I, 'm, trying, to, install, collectd, on, a, Ubuntu, server, ,, but, for, some, reason, it, lists, a, bunch, of, GTK, libs, as, dependencies, (, e.g., libgtk-3, -, 0, ), ., Is, `, collectd, `, the, right, package, ?]\n",
      "185 -> [181] [<, nacc, >, froglok, :, and, did, you, restart, apache, after, all, your, configuration, changes, ?]\n",
      "186 -> [184] [<, nacc, >, figure002, :, are, you, installing, all, the, ', recommends, ', ?]\n",
      "187 -> [184] [<, nacc, >, figure002, :, which, version, of, ubuntu, ?]\n",
      "188 -> SELF-LOOP [<, Elementalist, >, pavlos, here, ?]\n",
      "189 -> [185] [<, froglok, >, yes, I, restarted, ., I, followed, the, instructions, to, setup, a, virtualhost, ., did, the, a2ensite, command, ,, etc, .., it, definitely, did, something, because, previously, it, showed, the, default, index.html, Apache, page, .., once, that, was, done, it, showed, the, 403, forbidden, error]\n",
      "190 -> [184] [<, pavlos, >, figure002, ,, there, is, collectd, and, collectd, -, utils]\n",
      "191 -> [187, 186] [<, figure002, >, nacc, :, Ubuntu, 16.04, ., No, ,, just, the, required, packages, .]\n",
      "192 -> [189] [<, froglok, >, I, have, nt, checked, logs]\n",
      "193 -> [188] [<, pavlos, >, Elementalist, ,, here]\n",
      "194 -> [193] [<, Elementalist, >, ela, re, patrida]\n",
      "195 -> [194] [<, pavlos, >, geia, mas]\n",
      "196 -> [195] [<, Elementalist, >, ti, programma, xrhsimopoieis, ?]\n",
      "197 -> [191] [<, nacc, >, figure002, :, can, you, pastebin, the, command, and, output, you, are, using, /, get, ?]\n",
      "198 -> [186] [<, froglok, >, I, installed, apache2, .., what, other, packages, could, I, be, missing, ?]\n",
      "199 -> [198] [<, wedgie, >, froglok, :, that, depends, a, lot, on, your, site, ...]\n",
      "200 -> [192] [<, nacc, >, froglok, :, i, would, check, the, logs, then, ?]\n",
      "201 -> [200] [<, froglok, >, ok, Ill, see, what, the, logs, say]\n",
      "202 -> [192] [<, wedgie, >, froglok, :, check, /var, /, log, /, apache2, for, logs, ., If, nothing, stands, out, there, then, pastebin, your, vhosts, config]\n",
      "203 -> [197] [<, figure002, >, nacc, :, #, http]\n",
      "204 -> [202] [<, froglok, >, cool, thanks, for, being, helpful, ,, awesome, chatroom, lol]\n",
      "205 -> [203] [<, nacc, >, figure002, :, are, you, fully, up, to, date, *, before, *, installing, collectd, ?, (, `, apt, update, ;, apt, full, -, upgrade, `, )]\n",
      "206 -> [205] [<, figure002, >, nacc, :, you, mean, `, dist, -, upgrade, `, ?, yes, ,, my, system, is, fully, up, -, to, -, date, .]\n",
      "207 -> [205] [<, nacc, >, figure002, :, well, ,, `, apt, `, and, `, apt, -, get, `, have, different, options, ,, but, sure]\n",
      "208 -> [206] [<, nacc, >, figure002, :, ok, ,, i, think, it, 's, because, librrd, pulls, in, a, bunch, of, stuff]\n",
      "209 -> [206] [<, nacc, >, figure002, :, you, could, try, ', collectd, -, core, ', ,, but, not, sure, if, it, will, get, you, everyting, you, want]\n",
      "210 -> [202] [<, froglok, >, it, looks, like, this, is, the, error, :, [, Mon, Dec, 19, 20:32:47.199290, 2016, ], [, authz_core, :, error, ], [, pid, 3963, ], AH01630, :, client, denied, by, server, configuration, :, /home, /, user, /, example.com$]\n",
      "211 -> [209] [<, figure002, >, nacc, :, yeah, ,, I, just, checked, that, packages, ,, but, it, seems, like, I, will, miss, some, stuff, (, e.g., configurations, )]\n",
      "212 -> SELF-LOOP [<, hahuang61, >, hey, guys, ,, I, just, installed, 16.10, and, something, I, noticed, with, the, LiveCD, and, after, install, (, as, well, as, Fedora, 25, LiveCD, ), is, that, my, mouse, cursor, wo, n't, move, ,, but, the, underlying, mouse, moves, (, I, can, move, and, make, a, guess, where, the, cursor, is, and, click, ,, but, the, actual, cursor, displayed, never, moves, )]\n",
      "213 -> SELF-LOOP [<, ph88^, >, hey, guys, ,, i, 'm, using, ubuntu, 16.04, and, i, added, this, repo, to, software, #, http, why, am, i, getting, Could, not, resolve, host, :, apt.dockerproject.org, during, apt, update, ?, ?]\n",
      "214 -> [212] [<, hahuang61, >, anyone, run, into, this, issue, before, ?]\n",
      "215 -> [213] [<, nacc, >, ph88^, :, are, you, able, to, resolve, it, ?]\n",
      "216 -> [215] [<, ph88^, >, what, do, you, mean, resolve, it, ?]\n",
      "217 -> [211] [<, figure002, >, I, guess, I, could, just, pull, the, configuration, from, somewhere, ,, thanks, for, checking, nacc]\n",
      "218 -> [216] [<, nacc, >, ph88^, :, `, nslookup, apt.dockerproject.org, `, or, `, dig, apt.dockerproject.org, `]\n",
      "219 -> [215] [<, pavlos, >, it, pings]\n",
      "220 -> [217] [<, nacc, >, figure002, :, np]\n",
      "221 -> [219] [<, nacc, >, pavlos, :, well, ,, ping, for, you, is, n't, helping, ph88^, :)]\n",
      "222 -> [221] [<, pavlos, >, nacc, ,, sorry]\n",
      "223 -> [210] [<, froglok, >, sweet, I, got, it, working, now]\n",
      "224 -> [218] [<, ph88^, >, nacc, ,, nslookupp, returns, the, ip, adres, ..., by, the, way, if, i, put, it, in, my, browser, i, see, something, as, well]\n",
      "225 -> [224] [<, nacc, >, ph88^, :, pastebin, full, output, ?]\n",
      "226 -> SELF-LOOP [<, sysconfig, >, hi]\n",
      "227 -> [225] [<, ph88^, >, nacc, ,, #, http]\n",
      "228 -> [227] [<, nacc, >, ph88^, :, sorry, ,, pastebin, output, from, `, apt, update, `]\n",
      "229 -> [228] [<, ph88^, >, eh, now, it, 's, not, giving, that, error, anymore, o_O]\n",
      "230 -> [220] [<, figure002, >, nacc, :, this, is, so, weird, .., check, this, out, :, #, http]\n",
      "231 -> [230] [<, sysconfig, >, what, is, weird]\n",
      "232 -> [230] [<, figure002, >, apparently, Ubuntu, installs, recommended, packages, by, default, ?]\n",
      "233 -> [232] [<, nicomachus, >, yes]\n",
      "234 -> [232] [<, sysconfig, >, apparnetly, ,, ..]\n",
      "235 -> [234] [<, figure002, >, sysconfig, :, see, my, previous, posts]\n",
      "236 -> [235] [<, sysconfig, >, about, what]\n",
      "237 -> [236] [<, figure002, >, sysconfig, :, scroll, up, a, little, ,, it, 's, right, there]\n",
      "238 -> SELF-LOOP [<, zh19970205, >, ehh, ...]\n",
      "239 -> [238] [<, zh19970205, >, it, is, the, first, time, I, use, irc, lol, ...]\n",
      "240 -> [239] [<, zh19970205, >, so, .., anybody, can, tell, me, why, I, can, not, use, /help, now, ...]\n",
      "241 -> [230] [<, OerHeks, >, collectD, :, Note, :, The, package, does, not, depend, on, all, packages, that, are, required, by, all, of, the, plugins, ..., so, if, you, want, all, the, plugins, to, work, ,, you, need, them, .]\n",
      "242 -> [240] [<, sysconfig, >, no, ,, nobody, 's, goin, to, tell, ya, anything, like, that]\n",
      "243 -> SELF-LOOP [<, zacky83, >, Hi, ,, I, have, a, problem, with, fail2ban, ,, it, does, not, put, the, IP, in, jail]\n",
      "244 -> [243] [<, zacky83, >, who, can, help, me, on, this]\n",
      "245 -> SELF-LOOP [<, Mccallum1983, >, can, anyone, assist, ,, when, i, try, to, install, bitcoin, from, git, on, 14.04, i, get, autoreconf, :, aclocal, failed, with, exit, status, :, 1, ,, is, this, an, error, with, my, system, or, with, the, dev]\n",
      "246 -> [241] [<, figure002, >, OerHeks, :, still, makes, no, sense, to, me, why, a, daemon, would, need, X11, and, such, ..]\n",
      "247 -> [243] [<, figure002, >, zacky83, :, did, you, enable, the, jails, ?]\n",
      "248 -> [245] [<, Mccallum1983, >, can, anyone, help]\n"
     ]
    }
   ],
   "source": [
    "display_chat(dev_instances,dev_gold,chat_id)"
   ]
  },
  {
   "cell_type": "code",
   "execution_count": 38,
   "metadata": {},
   "outputs": [
    {
     "ename": "NameError",
     "evalue": "name 'FALSE' is not defined",
     "output_type": "error",
     "traceback": [
      "\u001b[0;31m---------------------------------------------------------------------------\u001b[0m",
      "\u001b[0;31mNameError\u001b[0m                                 Traceback (most recent call last)",
      "\u001b[0;32m<ipython-input-38-e9b1aa336c79>\u001b[0m in \u001b[0;36m<module>\u001b[0;34m\u001b[0m\n\u001b[0;32m----> 1\u001b[0;31m \u001b[0mSAVE\u001b[0m\u001b[0;34m=\u001b[0m\u001b[0mFALSE\u001b[0m\u001b[0;34m\u001b[0m\u001b[0;34m\u001b[0m\u001b[0m\n\u001b[0m\u001b[1;32m      2\u001b[0m \u001b[0;34m\u001b[0m\u001b[0m\n\u001b[1;32m      3\u001b[0m \u001b[0;32mif\u001b[0m \u001b[0mSAVE\u001b[0m\u001b[0;34m:\u001b[0m\u001b[0;34m\u001b[0m\u001b[0;34m\u001b[0m\u001b[0m\n\u001b[1;32m      4\u001b[0m     \u001b[0;32mwith\u001b[0m \u001b[0mopen\u001b[0m\u001b[0;34m(\u001b[0m\u001b[0;34m\"log.chat\"\u001b[0m\u001b[0;34m,\u001b[0m\u001b[0;34m\"w\"\u001b[0m\u001b[0;34m)\u001b[0m \u001b[0;32mas\u001b[0m \u001b[0mf_out\u001b[0m\u001b[0;34m:\u001b[0m\u001b[0;34m\u001b[0m\u001b[0;34m\u001b[0m\u001b[0m\n\u001b[1;32m      5\u001b[0m         \u001b[0;32mfor\u001b[0m \u001b[0mchat_id\u001b[0m \u001b[0;32min\u001b[0m \u001b[0mrange\u001b[0m\u001b[0;34m(\u001b[0m\u001b[0mlen\u001b[0m\u001b[0;34m(\u001b[0m\u001b[0mdev_instances\u001b[0m\u001b[0;34m)\u001b[0m\u001b[0;34m)\u001b[0m\u001b[0;34m:\u001b[0m\u001b[0;34m\u001b[0m\u001b[0;34m\u001b[0m\u001b[0m\n",
      "\u001b[0;31mNameError\u001b[0m: name 'FALSE' is not defined"
     ]
    }
   ],
   "source": [
    "SAVE=FALSE\n",
    "\n",
    "if SAVE:\n",
    "    with open(\"log.chat\",\"w\") as f_out:\n",
    "        for chat_id in range(len(dev_instances)):\n",
    "            print(\"==============DEV CHAT nb %s =======\"%chat_id,file=f_out)\n",
    "            display_chat(dev_instances,dev_gold,chat_id,file=f_out)"
   ]
  },
  {
   "cell_type": "code",
   "execution_count": 39,
   "metadata": {},
   "outputs": [],
   "source": [
    "#sorted(dev_instances[0][\"arcs\"].indices)"
   ]
  },
  {
   "cell_type": "code",
   "execution_count": 42,
   "metadata": {},
   "outputs": [],
   "source": [
    "from IPython.display import HTML as html_print\n",
    "import pylab as plt\n",
    "\n",
    "def cstr(s, color='black'):\n",
    "    return \"<text style=color:{}>{}</text>\".format(color, s)\n",
    "\n",
    "map = [\"green\",\"blue\",\"yellow\",\"red\",\"gray\",\n",
    "       \"magenta\",\"olive\",\"purple\",\"lightblue\",\"salmon\",\n",
    "       \"orange\",\"teal\",\"tomato\",\"black\"]\n",
    "\n",
    "\n",
    "def print_color(s,color=\"black\"):\n",
    "    display(html_print(cstr(s,color=color)))\n",
    "\n",
    "def gen_color(map,nmax=30):\n",
    "    i = 0\n",
    "    c = 0\n",
    "    nb = len(map)\n",
    "    while c<nmax:\n",
    "        yield map[i]\n",
    "        i = i + 1\n",
    "        if i==nb:\n",
    "            i=0  \n",
    "        c = c + 1\n",
    "        \n",
    "        \n",
    "colors = list(gen_color(map,nmax=250))\n",
    "#colors"
   ]
  },
  {
   "cell_type": "code",
   "execution_count": 43,
   "metadata": {},
   "outputs": [],
   "source": [
    "#for i in gen_color(map): print_color(\"test\",color=i)"
   ]
  },
  {
   "cell_type": "code",
   "execution_count": 44,
   "metadata": {},
   "outputs": [],
   "source": [
    "def display_clusters(instances,gold,chat_id = 0):\n",
    "    clusters = {}\n",
    "    cid = -1\n",
    "    result = []\n",
    "    all_users = []\n",
    "    for i,turn in enumerate(instances[chat_id][\"lines\"]):\n",
    "        head = gold[chat_id].get(i,\"None\")\n",
    "        user = turn.tokens[1]\n",
    "        auto = (head[0]==i) # self-loop\n",
    "        #print(i,head)\n",
    "        if True:\n",
    "            if auto or head==\"None\":\n",
    "                cid += 1\n",
    "                clusters[i] = cid\n",
    "                if auto: \n",
    "                    symbol = \"X\"\n",
    "                else:\n",
    "                    symbol = \"x\"\n",
    "            else:\n",
    "                clusters[i] = clusters[head[0]]\n",
    "                symbol = \"■\"\n",
    "            color = colors[clusters[i]]\n",
    "            result.append(cstr(symbol,color=color))\n",
    "            if i%50==0:\n",
    "                result.append(\"\\n\")\n",
    "    return clusters, html_print(\"\".join(result))\n"
   ]
  },
  {
   "cell_type": "code",
   "execution_count": 45,
   "metadata": {},
   "outputs": [
    {
     "data": {
      "text/html": [
       "<text style=color:green>x</text>\n",
       "<text style=color:green>■</text><text style=color:blue>x</text><text style=color:yellow>x</text><text style=color:yellow>■</text><text style=color:red>X</text><text style=color:blue>■</text><text style=color:yellow>■</text><text style=color:yellow>■</text><text style=color:yellow>■</text><text style=color:yellow>■</text><text style=color:gray>X</text><text style=color:yellow>■</text><text style=color:blue>■</text><text style=color:yellow>■</text><text style=color:yellow>■</text><text style=color:magenta>X</text><text style=color:blue>■</text><text style=color:yellow>■</text><text style=color:red>■</text><text style=color:magenta>■</text><text style=color:yellow>■</text><text style=color:olive>X</text><text style=color:yellow>■</text><text style=color:olive>■</text><text style=color:yellow>■</text><text style=color:purple>X</text><text style=color:olive>■</text><text style=color:lightblue>X</text><text style=color:yellow>■</text><text style=color:olive>■</text><text style=color:olive>■</text><text style=color:olive>■</text><text style=color:lightblue>■</text><text style=color:magenta>■</text><text style=color:olive>■</text><text style=color:yellow>■</text><text style=color:lightblue>■</text><text style=color:olive>■</text><text style=color:olive>■</text><text style=color:yellow>■</text><text style=color:olive>■</text><text style=color:olive>■</text><text style=color:olive>■</text><text style=color:olive>■</text><text style=color:yellow>■</text><text style=color:olive>■</text><text style=color:olive>■</text><text style=color:yellow>■</text><text style=color:salmon>x</text><text style=color:olive>■</text>\n",
       "<text style=color:orange>X</text><text style=color:olive>■</text><text style=color:blue>■</text><text style=color:olive>■</text><text style=color:blue>■</text><text style=color:blue>■</text><text style=color:blue>■</text><text style=color:blue>■</text><text style=color:blue>■</text><text style=color:blue>■</text><text style=color:olive>■</text><text style=color:olive>■</text><text style=color:blue>■</text><text style=color:yellow>■</text><text style=color:blue>■</text><text style=color:olive>■</text><text style=color:olive>■</text><text style=color:blue>■</text><text style=color:blue>■</text><text style=color:olive>■</text><text style=color:blue>■</text><text style=color:olive>■</text><text style=color:yellow>■</text><text style=color:olive>■</text><text style=color:olive>■</text><text style=color:olive>■</text><text style=color:yellow>■</text><text style=color:olive>■</text><text style=color:yellow>■</text><text style=color:yellow>■</text><text style=color:olive>■</text><text style=color:teal>X</text><text style=color:olive>■</text><text style=color:olive>■</text><text style=color:olive>■</text><text style=color:olive>■</text><text style=color:olive>■</text><text style=color:teal>■</text><text style=color:teal>■</text><text style=color:teal>■</text><text style=color:olive>■</text><text style=color:teal>■</text><text style=color:olive>■</text><text style=color:olive>■</text><text style=color:teal>■</text><text style=color:teal>■</text><text style=color:olive>■</text><text style=color:teal>■</text><text style=color:olive>■</text><text style=color:tomato>X</text>\n",
       "<text style=color:olive>■</text><text style=color:tomato>■</text><text style=color:olive>■</text><text style=color:black>x</text><text style=color:teal>■</text><text style=color:olive>■</text><text style=color:olive>■</text><text style=color:teal>■</text><text style=color:tomato>■</text><text style=color:teal>■</text><text style=color:teal>■</text><text style=color:teal>■</text><text style=color:teal>■</text><text style=color:teal>■</text><text style=color:green>x</text><text style=color:teal>■</text><text style=color:blue>X</text><text style=color:teal>■</text><text style=color:yellow>x</text><text style=color:teal>■</text><text style=color:teal>■</text><text style=color:olive>■</text><text style=color:olive>■</text><text style=color:teal>■</text><text style=color:blue>■</text><text style=color:red>X</text><text style=color:olive>■</text><text style=color:red>■</text><text style=color:red>■</text><text style=color:red>■</text><text style=color:red>■</text><text style=color:gray>X</text><text style=color:magenta>X</text><text style=color:gray>■</text><text style=color:blue>■</text><text style=color:magenta>■</text><text style=color:blue>■</text><text style=color:magenta>■</text><text style=color:teal>■</text><text style=color:blue>■</text><text style=color:blue>■</text><text style=color:blue>■</text><text style=color:blue>■</text><text style=color:blue>■</text><text style=color:magenta>■</text><text style=color:blue>■</text><text style=color:blue>■</text><text style=color:teal>■</text><text style=color:teal>■</text><text style=color:teal>■</text>\n",
       "<text style=color:olive>■</text><text style=color:olive>X</text><text style=color:teal>■</text><text style=color:olive>■</text><text style=color:olive>■</text><text style=color:teal>■</text><text style=color:teal>■</text><text style=color:teal>■</text><text style=color:teal>■</text><text style=color:red>■</text><text style=color:teal>■</text><text style=color:teal>■</text><text style=color:teal>■</text><text style=color:purple>X</text><text style=color:red>■</text><text style=color:lightblue>X</text><text style=color:olive>■</text><text style=color:teal>■</text><text style=color:salmon>X</text><text style=color:olive>■</text><text style=color:red>■</text><text style=color:teal>■</text><text style=color:orange>X</text><text style=color:teal>X</text><text style=color:tomato>X</text><text style=color:teal>■</text><text style=color:blue>■</text><text style=color:teal>■</text><text style=color:lightblue>■</text><text style=color:teal>■</text><text style=color:teal>■</text><text style=color:black>X</text><text style=color:olive>■</text><text style=color:teal>■</text><text style=color:lightblue>■</text><text style=color:teal>■</text><text style=color:lightblue>■</text><text style=color:green>X</text><text style=color:blue>X</text><text style=color:lightblue>■</text><text style=color:teal>■</text><text style=color:olive>■</text><text style=color:teal>■</text><text style=color:olive>■</text><text style=color:lightblue>■</text><text style=color:olive>■</text><text style=color:blue>■</text><text style=color:blue>■</text><text style=color:blue>■</text><text style=color:teal>■</text>\n",
       "<text style=color:teal>■</text><text style=color:yellow>X</text><text style=color:yellow>■</text><text style=color:yellow>■</text><text style=color:yellow>■</text><text style=color:lightblue>■</text><text style=color:teal>■</text><text style=color:red>X</text><text style=color:red>■</text><text style=color:olive>■</text><text style=color:lightblue>■</text><text style=color:lightblue>■</text><text style=color:lightblue>■</text><text style=color:olive>■</text><text style=color:lightblue>■</text><text style=color:lightblue>■</text><text style=color:yellow>■</text><text style=color:olive>■</text><text style=color:red>■</text><text style=color:gray>X</text><text style=color:gray>■</text><text style=color:red>■</text><text style=color:yellow>■</text><text style=color:olive>■</text><text style=color:olive>■</text><text style=color:olive>■</text><text style=color:olive>■</text><text style=color:red>■</text><text style=color:olive>■</text><text style=color:olive>■</text><text style=color:red>■</text><text style=color:magenta>X</text><text style=color:olive>x</text><text style=color:teal>■</text><text style=color:red>■</text><text style=color:olive>■</text><text style=color:teal>■</text><text style=color:teal>■</text><text style=color:olive>■</text><text style=color:purple>X</text><text style=color:teal>■</text><text style=color:olive>■</text><text style=color:teal>■</text><text style=color:teal>■</text><text style=color:olive>■</text><text style=color:olive>■</text><text style=color:olive>■</text><text style=color:teal>■</text><text style=color:olive>■</text>"
      ],
      "text/plain": [
       "<IPython.core.display.HTML object>"
      ]
     },
     "execution_count": 45,
     "metadata": {},
     "output_type": "execute_result"
    }
   ],
   "source": [
    "clusters, figure = display_clusters(dev_instances,dev_gold,1)\n",
    "figure"
   ]
  },
  {
   "cell_type": "code",
   "execution_count": 46,
   "metadata": {},
   "outputs": [
    {
     "data": {
      "text/plain": [
       "(array([15.,  4.,  3.,  4.,  4.,  3.,  1.,  1.,  1.,  0.]),\n",
       " array([  1,   2,   3,   4,   5,  10,  20,  40,  60, 100, 250]),\n",
       " <BarContainer object of 10 artists>)"
      ]
     },
     "execution_count": 46,
     "metadata": {},
     "output_type": "execute_result"
    },
    {
     "data": {
      "image/png": "[encoded data removed]",
      "text/plain": [
       "<Figure size 432x288 with 1 Axes>"
      ]
     },
     "metadata": {
      "needs_background": "light"
     },
     "output_type": "display_data"
    }
   ],
   "source": [
    "plt.hist(list((Counter(clusters.values()).values())),bins=[1,2,3,4,5,10,20,40,60,100,250])"
   ]
  },
  {
   "cell_type": "code",
   "execution_count": 47,
   "metadata": {},
   "outputs": [
    {
     "name": "stdout",
     "output_type": "stream",
     "text": [
      "cluster  0 --- 44  clusters found\n"
     ]
    },
    {
     "data": {
      "text/html": [
       "<text style=color:green>X</text>\n",
       "<text style=color:blue>x</text><text style=color:yellow>x</text><text style=color:green>■</text><text style=color:yellow>■</text><text style=color:yellow>■</text><text style=color:green>■</text><text style=color:blue>■</text><text style=color:green>■</text><text style=color:yellow>■</text><text style=color:green>■</text><text style=color:green>■</text><text style=color:yellow>■</text><text style=color:blue>■</text><text style=color:blue>■</text><text style=color:green>■</text><text style=color:red>X</text><text style=color:yellow>■</text><text style=color:gray>X</text><text style=color:gray>■</text><text style=color:gray>■</text><text style=color:magenta>X</text><text style=color:magenta>■</text><text style=color:gray>■</text><text style=color:gray>■</text><text style=color:gray>■</text><text style=color:gray>■</text><text style=color:gray>■</text><text style=color:olive>X</text><text style=color:gray>■</text><text style=color:gray>■</text><text style=color:gray>■</text><text style=color:purple>X</text><text style=color:lightblue>X</text><text style=color:gray>■</text><text style=color:gray>■</text><text style=color:salmon>X</text><text style=color:orange>X</text><text style=color:purple>■</text><text style=color:gray>■</text><text style=color:teal>X</text><text style=color:tomato>X</text><text style=color:gray>■</text><text style=color:gray>■</text><text style=color:gray>■</text><text style=color:gray>■</text><text style=color:gray>■</text><text style=color:black>X</text><text style=color:black>■</text><text style=color:gray>■</text><text style=color:black>■</text>\n",
       "<text style=color:black>■</text><text style=color:black>■</text><text style=color:green>X</text><text style=color:black>■</text><text style=color:black>■</text><text style=color:black>■</text><text style=color:black>■</text><text style=color:blue>X</text><text style=color:black>■</text><text style=color:black>■</text><text style=color:black>■</text><text style=color:black>■</text><text style=color:black>■</text><text style=color:black>■</text><text style=color:black>■</text><text style=color:black>■</text><text style=color:yellow>X</text><text style=color:black>■</text><text style=color:yellow>■</text><text style=color:black>■</text><text style=color:red>X</text><text style=color:black>■</text><text style=color:gray>X</text><text style=color:gray>■</text><text style=color:black>■</text><text style=color:gray>■</text><text style=color:gray>■</text><text style=color:gray>■</text><text style=color:black>■</text><text style=color:gray>■</text><text style=color:gray>■</text><text style=color:gray>■</text><text style=color:gray>■</text><text style=color:magenta>X</text><text style=color:gray>■</text><text style=color:gray>■</text><text style=color:gray>■</text><text style=color:black>■</text><text style=color:gray>■</text><text style=color:olive>X</text><text style=color:black>■</text><text style=color:gray>■</text><text style=color:black>■</text><text style=color:black>■</text><text style=color:purple>X</text><text style=color:black>■</text><text style=color:purple>■</text><text style=color:black>■</text><text style=color:black>■</text><text style=color:lightblue>X</text>\n",
       "<text style=color:black>■</text><text style=color:black>■</text><text style=color:salmon>X</text><text style=color:lightblue>■</text><text style=color:black>■</text><text style=color:black>■</text><text style=color:orange>X</text><text style=color:black>■</text><text style=color:black>■</text><text style=color:lightblue>■</text><text style=color:black>■</text><text style=color:lightblue>■</text><text style=color:black>■</text><text style=color:orange>■</text><text style=color:orange>■</text><text style=color:black>■</text><text style=color:lightblue>■</text><text style=color:orange>■</text><text style=color:orange>■</text><text style=color:black>■</text><text style=color:lightblue>■</text><text style=color:orange>■</text><text style=color:black>■</text><text style=color:teal>X</text><text style=color:lightblue>■</text><text style=color:black>■</text><text style=color:black>■</text><text style=color:black>■</text><text style=color:black>■</text><text style=color:black>■</text><text style=color:lightblue>■</text><text style=color:black>■</text><text style=color:black>■</text><text style=color:lightblue>■</text><text style=color:teal>■</text><text style=color:black>■</text><text style=color:black>■</text><text style=color:lightblue>■</text><text style=color:lightblue>■</text><text style=color:black>■</text><text style=color:black>■</text><text style=color:tomato>X</text><text style=color:lightblue>■</text><text style=color:black>■</text><text style=color:lightblue>■</text><text style=color:lightblue>■</text><text style=color:lightblue>■</text><text style=color:black>■</text><text style=color:black>X</text><text style=color:black>■</text>\n",
       "<text style=color:black>■</text><text style=color:black>■</text><text style=color:black>■</text><text style=color:black>■</text><text style=color:black>■</text><text style=color:black>■</text><text style=color:black>■</text><text style=color:green>X</text><text style=color:black>■</text><text style=color:green>■</text><text style=color:black>■</text><text style=color:blue>X</text><text style=color:black>■</text><text style=color:yellow>X</text><text style=color:black>■</text><text style=color:red>X</text><text style=color:gray>X</text><text style=color:red>■</text><text style=color:black>■</text><text style=color:black>■</text><text style=color:red>■</text><text style=color:black>■</text><text style=color:red>■</text><text style=color:red>■</text><text style=color:red>■</text><text style=color:black>■</text><text style=color:blue>■</text><text style=color:magenta>X</text><text style=color:yellow>■</text><text style=color:blue>■</text><text style=color:olive>X</text><text style=color:purple>X</text><text style=color:red>■</text><text style=color:yellow>■</text><text style=color:red>■</text><text style=color:yellow>■</text><text style=color:red>■</text><text style=color:yellow>■</text><text style=color:red>■</text><text style=color:yellow>■</text><text style=color:lightblue>X</text><text style=color:salmon>X</text><text style=color:red>■</text><text style=color:orange>X</text><text style=color:black>■</text><text style=color:lightblue>■</text><text style=color:black>■</text><text style=color:green>■</text><text style=color:red>■</text><text style=color:teal>X</text>\n",
       "<text style=color:black>■</text><text style=color:teal>■</text><text style=color:teal>■</text><text style=color:lightblue>■</text><text style=color:red>■</text><text style=color:lightblue>■</text><text style=color:red>■</text><text style=color:teal>■</text><text style=color:yellow>■</text><text style=color:lightblue>■</text><text style=color:teal>■</text><text style=color:teal>■</text><text style=color:teal>■</text><text style=color:teal>■</text><text style=color:red>■</text><text style=color:lightblue>■</text><text style=color:tomato>X</text><text style=color:yellow>■</text><text style=color:red>■</text><text style=color:yellow>■</text><text style=color:yellow>■</text><text style=color:black>X</text><text style=color:green>X</text><text style=color:yellow>■</text><text style=color:red>■</text><text style=color:yellow>■</text><text style=color:teal>■</text><text style=color:teal>■</text><text style=color:teal>■</text><text style=color:teal>■</text><text style=color:teal>■</text><text style=color:teal>■</text><text style=color:red>■</text><text style=color:teal>■</text><text style=color:teal>■</text><text style=color:teal>■</text><text style=color:teal>■</text><text style=color:teal>■</text><text style=color:teal>■</text><text style=color:teal>■</text><text style=color:teal>■</text><text style=color:black>■</text><text style=color:teal>■</text><text style=color:teal>■</text><text style=color:teal>■</text><text style=color:blue>X</text><text style=color:teal>■</text><text style=color:teal>■</text><text style=color:teal>■</text>"
      ],
      "text/plain": [
       "<IPython.core.display.HTML object>"
      ]
     },
     "metadata": {},
     "output_type": "display_data"
    },
    {
     "name": "stdout",
     "output_type": "stream",
     "text": [
      "cluster  1 --- 36  clusters found\n"
     ]
    },
    {
     "data": {
      "text/html": [
       "<text style=color:green>x</text>\n",
       "<text style=color:green>■</text><text style=color:blue>x</text><text style=color:yellow>x</text><text style=color:yellow>■</text><text style=color:red>X</text><text style=color:blue>■</text><text style=color:yellow>■</text><text style=color:yellow>■</text><text style=color:yellow>■</text><text style=color:yellow>■</text><text style=color:gray>X</text><text style=color:yellow>■</text><text style=color:blue>■</text><text style=color:yellow>■</text><text style=color:yellow>■</text><text style=color:magenta>X</text><text style=color:blue>■</text><text style=color:yellow>■</text><text style=color:red>■</text><text style=color:magenta>■</text><text style=color:yellow>■</text><text style=color:olive>X</text><text style=color:yellow>■</text><text style=color:olive>■</text><text style=color:yellow>■</text><text style=color:purple>X</text><text style=color:olive>■</text><text style=color:lightblue>X</text><text style=color:yellow>■</text><text style=color:olive>■</text><text style=color:olive>■</text><text style=color:olive>■</text><text style=color:lightblue>■</text><text style=color:magenta>■</text><text style=color:olive>■</text><text style=color:yellow>■</text><text style=color:lightblue>■</text><text style=color:olive>■</text><text style=color:olive>■</text><text style=color:yellow>■</text><text style=color:olive>■</text><text style=color:olive>■</text><text style=color:olive>■</text><text style=color:olive>■</text><text style=color:yellow>■</text><text style=color:olive>■</text><text style=color:olive>■</text><text style=color:yellow>■</text><text style=color:salmon>x</text><text style=color:olive>■</text>\n",
       "<text style=color:orange>X</text><text style=color:olive>■</text><text style=color:blue>■</text><text style=color:olive>■</text><text style=color:blue>■</text><text style=color:blue>■</text><text style=color:blue>■</text><text style=color:blue>■</text><text style=color:blue>■</text><text style=color:blue>■</text><text style=color:olive>■</text><text style=color:olive>■</text><text style=color:blue>■</text><text style=color:yellow>■</text><text style=color:blue>■</text><text style=color:olive>■</text><text style=color:olive>■</text><text style=color:blue>■</text><text style=color:blue>■</text><text style=color:olive>■</text><text style=color:blue>■</text><text style=color:olive>■</text><text style=color:yellow>■</text><text style=color:olive>■</text><text style=color:olive>■</text><text style=color:olive>■</text><text style=color:yellow>■</text><text style=color:olive>■</text><text style=color:yellow>■</text><text style=color:yellow>■</text><text style=color:olive>■</text><text style=color:teal>X</text><text style=color:olive>■</text><text style=color:olive>■</text><text style=color:olive>■</text><text style=color:olive>■</text><text style=color:olive>■</text><text style=color:teal>■</text><text style=color:teal>■</text><text style=color:teal>■</text><text style=color:olive>■</text><text style=color:teal>■</text><text style=color:olive>■</text><text style=color:olive>■</text><text style=color:teal>■</text><text style=color:teal>■</text><text style=color:olive>■</text><text style=color:teal>■</text><text style=color:olive>■</text><text style=color:tomato>X</text>\n",
       "<text style=color:olive>■</text><text style=color:tomato>■</text><text style=color:olive>■</text><text style=color:black>x</text><text style=color:teal>■</text><text style=color:olive>■</text><text style=color:olive>■</text><text style=color:teal>■</text><text style=color:tomato>■</text><text style=color:teal>■</text><text style=color:teal>■</text><text style=color:teal>■</text><text style=color:teal>■</text><text style=color:teal>■</text><text style=color:green>x</text><text style=color:teal>■</text><text style=color:blue>X</text><text style=color:teal>■</text><text style=color:yellow>x</text><text style=color:teal>■</text><text style=color:teal>■</text><text style=color:olive>■</text><text style=color:olive>■</text><text style=color:teal>■</text><text style=color:blue>■</text><text style=color:red>X</text><text style=color:olive>■</text><text style=color:red>■</text><text style=color:red>■</text><text style=color:red>■</text><text style=color:red>■</text><text style=color:gray>X</text><text style=color:magenta>X</text><text style=color:gray>■</text><text style=color:blue>■</text><text style=color:magenta>■</text><text style=color:blue>■</text><text style=color:magenta>■</text><text style=color:teal>■</text><text style=color:blue>■</text><text style=color:blue>■</text><text style=color:blue>■</text><text style=color:blue>■</text><text style=color:blue>■</text><text style=color:magenta>■</text><text style=color:blue>■</text><text style=color:blue>■</text><text style=color:teal>■</text><text style=color:teal>■</text><text style=color:teal>■</text>\n",
       "<text style=color:olive>■</text><text style=color:olive>X</text><text style=color:teal>■</text><text style=color:olive>■</text><text style=color:olive>■</text><text style=color:teal>■</text><text style=color:teal>■</text><text style=color:teal>■</text><text style=color:teal>■</text><text style=color:red>■</text><text style=color:teal>■</text><text style=color:teal>■</text><text style=color:teal>■</text><text style=color:purple>X</text><text style=color:red>■</text><text style=color:lightblue>X</text><text style=color:olive>■</text><text style=color:teal>■</text><text style=color:salmon>X</text><text style=color:olive>■</text><text style=color:red>■</text><text style=color:teal>■</text><text style=color:orange>X</text><text style=color:teal>X</text><text style=color:tomato>X</text><text style=color:teal>■</text><text style=color:blue>■</text><text style=color:teal>■</text><text style=color:lightblue>■</text><text style=color:teal>■</text><text style=color:teal>■</text><text style=color:black>X</text><text style=color:olive>■</text><text style=color:teal>■</text><text style=color:lightblue>■</text><text style=color:teal>■</text><text style=color:lightblue>■</text><text style=color:green>X</text><text style=color:blue>X</text><text style=color:lightblue>■</text><text style=color:teal>■</text><text style=color:olive>■</text><text style=color:teal>■</text><text style=color:olive>■</text><text style=color:lightblue>■</text><text style=color:olive>■</text><text style=color:blue>■</text><text style=color:blue>■</text><text style=color:blue>■</text><text style=color:teal>■</text>\n",
       "<text style=color:teal>■</text><text style=color:yellow>X</text><text style=color:yellow>■</text><text style=color:yellow>■</text><text style=color:yellow>■</text><text style=color:lightblue>■</text><text style=color:teal>■</text><text style=color:red>X</text><text style=color:red>■</text><text style=color:olive>■</text><text style=color:lightblue>■</text><text style=color:lightblue>■</text><text style=color:lightblue>■</text><text style=color:olive>■</text><text style=color:lightblue>■</text><text style=color:lightblue>■</text><text style=color:yellow>■</text><text style=color:olive>■</text><text style=color:red>■</text><text style=color:gray>X</text><text style=color:gray>■</text><text style=color:red>■</text><text style=color:yellow>■</text><text style=color:olive>■</text><text style=color:olive>■</text><text style=color:olive>■</text><text style=color:olive>■</text><text style=color:red>■</text><text style=color:olive>■</text><text style=color:olive>■</text><text style=color:red>■</text><text style=color:magenta>X</text><text style=color:olive>x</text><text style=color:teal>■</text><text style=color:red>■</text><text style=color:olive>■</text><text style=color:teal>■</text><text style=color:teal>■</text><text style=color:olive>■</text><text style=color:purple>X</text><text style=color:teal>■</text><text style=color:olive>■</text><text style=color:teal>■</text><text style=color:teal>■</text><text style=color:olive>■</text><text style=color:olive>■</text><text style=color:olive>■</text><text style=color:teal>■</text><text style=color:olive>■</text>"
      ],
      "text/plain": [
       "<IPython.core.display.HTML object>"
      ]
     },
     "metadata": {},
     "output_type": "display_data"
    },
    {
     "name": "stdout",
     "output_type": "stream",
     "text": [
      "cluster  2 --- 66  clusters found\n"
     ]
    },
    {
     "data": {
      "text/html": [
       "<text style=color:green>X</text>\n",
       "<text style=color:blue>X</text><text style=color:yellow>X</text><text style=color:yellow>■</text><text style=color:yellow>■</text><text style=color:yellow>■</text><text style=color:yellow>■</text><text style=color:yellow>■</text><text style=color:yellow>■</text><text style=color:yellow>■</text><text style=color:yellow>■</text><text style=color:yellow>■</text><text style=color:yellow>■</text><text style=color:yellow>■</text><text style=color:red>X</text><text style=color:gray>X</text><text style=color:magenta>X</text><text style=color:olive>X</text><text style=color:purple>X</text><text style=color:lightblue>X</text><text style=color:salmon>X</text><text style=color:purple>■</text><text style=color:orange>X</text><text style=color:purple>■</text><text style=color:purple>■</text><text style=color:purple>■</text><text style=color:purple>■</text><text style=color:purple>■</text><text style=color:purple>■</text><text style=color:purple>■</text><text style=color:purple>■</text><text style=color:teal>X</text><text style=color:purple>■</text><text style=color:purple>■</text><text style=color:tomato>X</text><text style=color:purple>■</text><text style=color:black>X</text><text style=color:green>X</text><text style=color:black>■</text><text style=color:blue>X</text><text style=color:black>■</text><text style=color:yellow>X</text><text style=color:black>■</text><text style=color:black>■</text><text style=color:red>X</text><text style=color:black>■</text><text style=color:black>■</text><text style=color:purple>■</text><text style=color:gray>X</text><text style=color:purple>■</text><text style=color:purple>■</text>\n",
       "<text style=color:magenta>X</text><text style=color:purple>■</text><text style=color:gray>■</text><text style=color:magenta>■</text><text style=color:magenta>■</text><text style=color:magenta>■</text><text style=color:magenta>■</text><text style=color:magenta>■</text><text style=color:magenta>■</text><text style=color:olive>X</text><text style=color:magenta>■</text><text style=color:magenta>■</text><text style=color:magenta>■</text><text style=color:magenta>■</text><text style=color:magenta>■</text><text style=color:magenta>■</text><text style=color:magenta>■</text><text style=color:purple>X</text><text style=color:magenta>■</text><text style=color:magenta>■</text><text style=color:lightblue>X</text><text style=color:magenta>■</text><text style=color:salmon>X</text><text style=color:magenta>■</text><text style=color:orange>X</text><text style=color:teal>X</text><text style=color:tomato>X</text><text style=color:black>X</text><text style=color:purple>■</text><text style=color:green>X</text><text style=color:purple>■</text><text style=color:blue>X</text><text style=color:blue>■</text><text style=color:blue>■</text><text style=color:blue>■</text><text style=color:blue>■</text><text style=color:yellow>x</text><text style=color:blue>■</text><text style=color:blue>■</text><text style=color:yellow>■</text><text style=color:red>X</text><text style=color:yellow>■</text><text style=color:yellow>■</text><text style=color:yellow>■</text><text style=color:yellow>■</text><text style=color:yellow>■</text><text style=color:yellow>■</text><text style=color:yellow>■</text><text style=color:yellow>■</text><text style=color:yellow>■</text>\n",
       "<text style=color:yellow>■</text><text style=color:yellow>■</text><text style=color:yellow>■</text><text style=color:yellow>■</text><text style=color:yellow>■</text><text style=color:yellow>■</text><text style=color:yellow>■</text><text style=color:yellow>■</text><text style=color:yellow>■</text><text style=color:yellow>■</text><text style=color:yellow>■</text><text style=color:yellow>■</text><text style=color:yellow>■</text><text style=color:yellow>■</text><text style=color:yellow>■</text><text style=color:yellow>■</text><text style=color:yellow>■</text><text style=color:yellow>■</text><text style=color:yellow>■</text><text style=color:yellow>■</text><text style=color:yellow>■</text><text style=color:yellow>■</text><text style=color:yellow>■</text><text style=color:yellow>■</text><text style=color:yellow>■</text><text style=color:gray>X</text><text style=color:yellow>■</text><text style=color:yellow>■</text><text style=color:yellow>■</text><text style=color:magenta>X</text><text style=color:magenta>■</text><text style=color:yellow>■</text><text style=color:yellow>■</text><text style=color:yellow>■</text><text style=color:olive>X</text><text style=color:yellow>■</text><text style=color:magenta>■</text><text style=color:magenta>■</text><text style=color:yellow>■</text><text style=color:yellow>■</text><text style=color:magenta>■</text><text style=color:purple>X</text><text style=color:yellow>■</text><text style=color:magenta>■</text><text style=color:lightblue>X</text><text style=color:magenta>■</text><text style=color:magenta>■</text><text style=color:magenta>■</text><text style=color:salmon>X</text><text style=color:magenta>■</text>\n",
       "<text style=color:magenta>■</text><text style=color:magenta>■</text><text style=color:orange>X</text><text style=color:teal>X</text><text style=color:blue>■</text><text style=color:blue>■</text><text style=color:magenta>■</text><text style=color:orange>■</text><text style=color:magenta>■</text><text style=color:magenta>■</text><text style=color:tomato>X</text><text style=color:black>X</text><text style=color:magenta>■</text><text style=color:magenta>■</text><text style=color:magenta>■</text><text style=color:magenta>■</text><text style=color:magenta>■</text><text style=color:magenta>■</text><text style=color:magenta>■</text><text style=color:magenta>■</text><text style=color:green>X</text><text style=color:blue>X</text><text style=color:magenta>■</text><text style=color:yellow>X</text><text style=color:red>X</text><text style=color:magenta>■</text><text style=color:magenta>■</text><text style=color:magenta>■</text><text style=color:magenta>■</text><text style=color:gray>X</text><text style=color:magenta>X</text><text style=color:olive>X</text><text style=color:magenta>■</text><text style=color:magenta>■</text><text style=color:magenta>■</text><text style=color:magenta>■</text><text style=color:magenta>■</text><text style=color:magenta>■</text><text style=color:magenta>■</text><text style=color:magenta>■</text><text style=color:magenta>■</text><text style=color:purple>X</text><text style=color:lightblue>X</text><text style=color:lightblue>■</text><text style=color:lightblue>■</text><text style=color:salmon>X</text><text style=color:salmon>■</text><text style=color:orange>X</text><text style=color:salmon>■</text><text style=color:salmon>■</text>\n",
       "<text style=color:salmon>■</text><text style=color:lightblue>■</text><text style=color:salmon>■</text><text style=color:salmon>■</text><text style=color:teal>X</text><text style=color:salmon>■</text><text style=color:salmon>■</text><text style=color:tomato>X</text><text style=color:lightblue>■</text><text style=color:lightblue>■</text><text style=color:lightblue>■</text><text style=color:lightblue>■</text><text style=color:lightblue>■</text><text style=color:black>X</text><text style=color:green>X</text><text style=color:blue>X</text><text style=color:yellow>X</text><text style=color:lightblue>■</text><text style=color:red>X</text><text style=color:lightblue>■</text><text style=color:black>■</text><text style=color:lightblue>■</text><text style=color:lightblue>■</text><text style=color:lightblue>■</text><text style=color:lightblue>■</text><text style=color:gray>X</text><text style=color:lightblue>■</text><text style=color:magenta>X</text><text style=color:salmon>■</text><text style=color:olive>X</text><text style=color:purple>X</text><text style=color:lightblue>X</text><text style=color:salmon>■</text><text style=color:salmon>■</text><text style=color:salmon>X</text><text style=color:salmon>■</text><text style=color:salmon>■</text><text style=color:lightblue>■</text><text style=color:lightblue>■</text><text style=color:lightblue>■</text><text style=color:lightblue>■</text><text style=color:salmon>■</text><text style=color:purple>■</text><text style=color:lightblue>■</text><text style=color:lightblue>■</text><text style=color:purple>■</text><text style=color:purple>■</text><text style=color:purple>■</text><text style=color:salmon>■</text>"
      ],
      "text/plain": [
       "<IPython.core.display.HTML object>"
      ]
     },
     "metadata": {},
     "output_type": "display_data"
    },
    {
     "name": "stdout",
     "output_type": "stream",
     "text": [
      "cluster  3 --- 47  clusters found\n"
     ]
    },
    {
     "data": {
      "text/html": [
       "<text style=color:green>x</text>\n",
       "<text style=color:blue>X</text><text style=color:blue>■</text><text style=color:yellow>x</text><text style=color:yellow>■</text><text style=color:red>X</text><text style=color:yellow>■</text><text style=color:gray>X</text><text style=color:green>■</text><text style=color:gray>■</text><text style=color:gray>■</text><text style=color:gray>■</text><text style=color:magenta>x</text><text style=color:olive>X</text><text style=color:olive>■</text><text style=color:olive>■</text><text style=color:olive>■</text><text style=color:purple>X</text><text style=color:gray>■</text><text style=color:lightblue>X</text><text style=color:olive>■</text><text style=color:salmon>X</text><text style=color:orange>X</text><text style=color:olive>■</text><text style=color:salmon>■</text><text style=color:olive>■</text><text style=color:teal>X</text><text style=color:salmon>■</text><text style=color:salmon>■</text><text style=color:yellow>■</text><text style=color:orange>■</text><text style=color:teal>■</text><text style=color:yellow>■</text><text style=color:teal>■</text><text style=color:yellow>■</text><text style=color:orange>■</text><text style=color:teal>■</text><text style=color:tomato>X</text><text style=color:teal>■</text><text style=color:black>X</text><text style=color:teal>■</text><text style=color:green>X</text><text style=color:green>■</text><text style=color:teal>■</text><text style=color:teal>■</text><text style=color:teal>■</text><text style=color:blue>X</text><text style=color:teal>■</text><text style=color:black>■</text><text style=color:yellow>■</text><text style=color:yellow>X</text>\n",
       "<text style=color:black>■</text><text style=color:black>■</text><text style=color:blue>■</text><text style=color:salmon>■</text><text style=color:red>X</text><text style=color:gray>X</text><text style=color:salmon>■</text><text style=color:yellow>■</text><text style=color:yellow>■</text><text style=color:magenta>X</text><text style=color:yellow>■</text><text style=color:yellow>■</text><text style=color:salmon>■</text><text style=color:magenta>■</text><text style=color:magenta>■</text><text style=color:magenta>■</text><text style=color:salmon>■</text><text style=color:yellow>■</text><text style=color:magenta>■</text><text style=color:magenta>■</text><text style=color:yellow>■</text><text style=color:yellow>■</text><text style=color:yellow>■</text><text style=color:olive>X</text><text style=color:yellow>■</text><text style=color:yellow>■</text><text style=color:yellow>■</text><text style=color:yellow>■</text><text style=color:purple>X</text><text style=color:magenta>■</text><text style=color:magenta>■</text><text style=color:purple>■</text><text style=color:purple>■</text><text style=color:yellow>■</text><text style=color:purple>■</text><text style=color:magenta>■</text><text style=color:magenta>■</text><text style=color:lightblue>X</text><text style=color:purple>■</text><text style=color:salmon>X</text><text style=color:purple>■</text><text style=color:lightblue>■</text><text style=color:lightblue>■</text><text style=color:purple>■</text><text style=color:purple>■</text><text style=color:teal>■</text><text style=color:orange>X</text><text style=color:purple>■</text><text style=color:teal>■</text><text style=color:purple>■</text>\n",
       "<text style=color:purple>■</text><text style=color:purple>■</text><text style=color:teal>X</text><text style=color:purple>■</text><text style=color:teal>■</text><text style=color:teal>■</text><text style=color:teal>■</text><text style=color:teal>■</text><text style=color:teal>■</text><text style=color:teal>■</text><text style=color:teal>■</text><text style=color:teal>■</text><text style=color:teal>■</text><text style=color:purple>■</text><text style=color:purple>■</text><text style=color:teal>■</text><text style=color:teal>■</text><text style=color:teal>■</text><text style=color:teal>■</text><text style=color:teal>■</text><text style=color:teal>■</text><text style=color:tomato>X</text><text style=color:green>■</text><text style=color:tomato>■</text><text style=color:purple>■</text><text style=color:teal>■</text><text style=color:teal>■</text><text style=color:tomato>■</text><text style=color:teal>■</text><text style=color:teal>■</text><text style=color:teal>■</text><text style=color:black>X</text><text style=color:purple>■</text><text style=color:green>X</text><text style=color:green>■</text><text style=color:blue>X</text><text style=color:blue>■</text><text style=color:teal>■</text><text style=color:teal>■</text><text style=color:teal>■</text><text style=color:teal>■</text><text style=color:teal>■</text><text style=color:yellow>X</text><text style=color:teal>■</text><text style=color:yellow>■</text><text style=color:teal>■</text><text style=color:red>X</text><text style=color:red>■</text><text style=color:red>■</text><text style=color:yellow>■</text>\n",
       "<text style=color:purple>■</text><text style=color:black>■</text><text style=color:red>■</text><text style=color:gray>X</text><text style=color:magenta>X</text><text style=color:olive>X</text><text style=color:teal>■</text><text style=color:yellow>■</text><text style=color:purple>X</text><text style=color:olive>■</text><text style=color:purple>■</text><text style=color:purple>■</text><text style=color:purple>■</text><text style=color:purple>■</text><text style=color:purple>■</text><text style=color:purple>■</text><text style=color:purple>■</text><text style=color:lightblue>X</text><text style=color:purple>■</text><text style=color:red>■</text><text style=color:red>■</text><text style=color:purple>■</text><text style=color:purple>■</text><text style=color:purple>■</text><text style=color:salmon>X</text><text style=color:salmon>■</text><text style=color:salmon>■</text><text style=color:salmon>■</text><text style=color:salmon>■</text><text style=color:salmon>■</text><text style=color:orange>X</text><text style=color:lightblue>■</text><text style=color:orange>■</text><text style=color:teal>X</text><text style=color:tomato>X</text><text style=color:teal>■</text><text style=color:lightblue>■</text><text style=color:teal>■</text><text style=color:teal>■</text><text style=color:teal>■</text><text style=color:lightblue>■</text><text style=color:black>X</text><text style=color:black>■</text><text style=color:green>X</text><text style=color:black>■</text><text style=color:black>■</text><text style=color:lightblue>■</text><text style=color:blue>X</text><text style=color:black>■</text><text style=color:lightblue>■</text>\n",
       "<text style=color:lightblue>■</text><text style=color:lightblue>■</text><text style=color:lightblue>■</text><text style=color:teal>■</text><text style=color:teal>■</text><text style=color:yellow>X</text><text style=color:black>■</text><text style=color:teal>■</text><text style=color:yellow>■</text><text style=color:green>■</text><text style=color:green>■</text><text style=color:lightblue>■</text><text style=color:black>■</text><text style=color:green>■</text><text style=color:black>■</text><text style=color:lightblue>■</text><text style=color:black>■</text><text style=color:red>X</text><text style=color:teal>■</text><text style=color:black>■</text><text style=color:teal>■</text><text style=color:red>■</text><text style=color:yellow>■</text><text style=color:teal>■</text><text style=color:teal>■</text><text style=color:teal>■</text><text style=color:yellow>■</text><text style=color:teal>■</text><text style=color:gray>X</text><text style=color:teal>■</text><text style=color:red>■</text><text style=color:black>■</text><text style=color:red>■</text><text style=color:yellow>■</text><text style=color:teal>■</text><text style=color:yellow>■</text><text style=color:teal>■</text><text style=color:teal>■</text><text style=color:teal>■</text><text style=color:teal>■</text><text style=color:red>■</text><text style=color:black>■</text><text style=color:black>■</text><text style=color:black>■</text><text style=color:black>■</text><text style=color:black>■</text><text style=color:black>■</text><text style=color:black>■</text>"
      ],
      "text/plain": [
       "<IPython.core.display.HTML object>"
      ]
     },
     "metadata": {},
     "output_type": "display_data"
    },
    {
     "name": "stdout",
     "output_type": "stream",
     "text": [
      "cluster  4 --- 74  clusters found\n"
     ]
    },
    {
     "data": {
      "text/html": [
       "<text style=color:green>X</text>\n",
       "<text style=color:blue>x</text><text style=color:yellow>x</text><text style=color:yellow>■</text><text style=color:red>x</text><text style=color:gray>X</text><text style=color:red>■</text><text style=color:red>■</text><text style=color:red>■</text><text style=color:red>■</text><text style=color:magenta>X</text><text style=color:olive>X</text><text style=color:green>■</text><text style=color:purple>X</text><text style=color:red>■</text><text style=color:green>■</text><text style=color:red>■</text><text style=color:yellow>■</text><text style=color:lightblue>x</text><text style=color:red>■</text><text style=color:red>■</text><text style=color:salmon>X</text><text style=color:orange>X</text><text style=color:red>■</text><text style=color:red>■</text><text style=color:red>■</text><text style=color:red>■</text><text style=color:teal>X</text><text style=color:tomato>X</text><text style=color:red>■</text><text style=color:red>■</text><text style=color:orange>■</text><text style=color:red>■</text><text style=color:black>X</text><text style=color:black>■</text><text style=color:green>X</text><text style=color:yellow>■</text><text style=color:blue>X</text><text style=color:yellow>X</text><text style=color:yellow>■</text><text style=color:red>X</text><text style=color:yellow>■</text><text style=color:gray>X</text><text style=color:green>■</text><text style=color:red>■</text><text style=color:red>■</text><text style=color:green>■</text><text style=color:yellow>■</text><text style=color:red>■</text><text style=color:red>■</text><text style=color:magenta>X</text>\n",
       "<text style=color:olive>X</text><text style=color:red>■</text><text style=color:yellow>■</text><text style=color:purple>X</text><text style=color:yellow>■</text><text style=color:yellow>■</text><text style=color:magenta>■</text><text style=color:yellow>■</text><text style=color:yellow>■</text><text style=color:yellow>■</text><text style=color:black>■</text><text style=color:yellow>■</text><text style=color:yellow>■</text><text style=color:yellow>■</text><text style=color:yellow>■</text><text style=color:magenta>■</text><text style=color:yellow>■</text><text style=color:green>■</text><text style=color:yellow>■</text><text style=color:yellow>■</text><text style=color:magenta>■</text><text style=color:magenta>■</text><text style=color:black>■</text><text style=color:lightblue>X</text><text style=color:salmon>X</text><text style=color:magenta>■</text><text style=color:yellow>■</text><text style=color:magenta>■</text><text style=color:green>■</text><text style=color:magenta>■</text><text style=color:magenta>■</text><text style=color:magenta>■</text><text style=color:orange>X</text><text style=color:green>■</text><text style=color:teal>X</text><text style=color:magenta>■</text><text style=color:magenta>■</text><text style=color:magenta>■</text><text style=color:tomato>X</text><text style=color:black>X</text><text style=color:magenta>■</text><text style=color:green>■</text><text style=color:magenta>■</text><text style=color:magenta>■</text><text style=color:green>■</text><text style=color:magenta>■</text><text style=color:magenta>■</text><text style=color:magenta>■</text><text style=color:magenta>■</text><text style=color:magenta>■</text>\n",
       "<text style=color:magenta>■</text><text style=color:green>X</text><text style=color:salmon>■</text><text style=color:salmon>■</text><text style=color:blue>X</text><text style=color:magenta>■</text><text style=color:yellow>X</text><text style=color:red>X</text><text style=color:blue>■</text><text style=color:blue>■</text><text style=color:blue>■</text><text style=color:blue>■</text><text style=color:gray>X</text><text style=color:green>■</text><text style=color:magenta>X</text><text style=color:olive>X</text><text style=color:blue>■</text><text style=color:blue>■</text><text style=color:blue>■</text><text style=color:purple>X</text><text style=color:lightblue>X</text><text style=color:blue>■</text><text style=color:blue>■</text><text style=color:salmon>■</text><text style=color:blue>■</text><text style=color:green>■</text><text style=color:blue>■</text><text style=color:salmon>X</text><text style=color:salmon>■</text><text style=color:green>■</text><text style=color:salmon>■</text><text style=color:orange>X</text><text style=color:green>■</text><text style=color:teal>X</text><text style=color:salmon>■</text><text style=color:green>■</text><text style=color:blue>■</text><text style=color:tomato>X</text><text style=color:salmon>■</text><text style=color:blue>■</text><text style=color:green>■</text><text style=color:black>X</text><text style=color:black>■</text><text style=color:blue>■</text><text style=color:green>■</text><text style=color:tomato>■</text><text style=color:blue>■</text><text style=color:green>X</text><text style=color:salmon>■</text><text style=color:blue>X</text>\n",
       "<text style=color:tomato>■</text><text style=color:yellow>X</text><text style=color:salmon>■</text><text style=color:tomato>■</text><text style=color:red>X</text><text style=color:gray>X</text><text style=color:gray>■</text><text style=color:magenta>X</text><text style=color:salmon>■</text><text style=color:magenta>■</text><text style=color:magenta>■</text><text style=color:green>■</text><text style=color:blue>■</text><text style=color:olive>X</text><text style=color:blue>■</text><text style=color:salmon>■</text><text style=color:purple>X</text><text style=color:salmon>■</text><text style=color:lightblue>X</text><text style=color:salmon>X</text><text style=color:orange>X</text><text style=color:teal>X</text><text style=color:lightblue>■</text><text style=color:salmon>■</text><text style=color:tomato>X</text><text style=color:orange>■</text><text style=color:blue>■</text><text style=color:salmon>■</text><text style=color:black>■</text><text style=color:tomato>■</text><text style=color:black>X</text><text style=color:salmon>■</text><text style=color:green>■</text><text style=color:blue>■</text><text style=color:orange>■</text><text style=color:salmon>■</text><text style=color:teal>■</text><text style=color:tomato>■</text><text style=color:tomato>■</text><text style=color:tomato>■</text><text style=color:blue>■</text><text style=color:tomato>■</text><text style=color:green>■</text><text style=color:tomato>■</text><text style=color:blue>■</text><text style=color:orange>■</text><text style=color:green>X</text><text style=color:blue>■</text><text style=color:orange>■</text><text style=color:orange>■</text>\n",
       "<text style=color:salmon>■</text><text style=color:salmon>■</text><text style=color:lightblue>■</text><text style=color:orange>■</text><text style=color:salmon>■</text><text style=color:blue>■</text><text style=color:green>■</text><text style=color:blue>X</text><text style=color:yellow>X</text><text style=color:green>■</text><text style=color:red>X</text><text style=color:lightblue>■</text><text style=color:blue>■</text><text style=color:salmon>■</text><text style=color:gray>X</text><text style=color:lightblue>■</text><text style=color:lightblue>■</text><text style=color:tomato>■</text><text style=color:magenta>X</text><text style=color:salmon>■</text><text style=color:blue>■</text><text style=color:olive>X</text><text style=color:blue>■</text><text style=color:blue>■</text><text style=color:orange>■</text><text style=color:green>■</text><text style=color:blue>■</text><text style=color:blue>■</text><text style=color:purple>X</text><text style=color:lightblue>X</text><text style=color:blue>■</text><text style=color:salmon>X</text><text style=color:green>■</text><text style=color:salmon>■</text><text style=color:salmon>■</text><text style=color:green>■</text><text style=color:green>■</text><text style=color:salmon>■</text><text style=color:green>■</text><text style=color:orange>X</text><text style=color:green>■</text><text style=color:teal>X</text><text style=color:tomato>X</text><text style=color:teal>■</text><text style=color:black>X</text><text style=color:green>X</text><text style=color:blue>X</text><text style=color:yellow>X</text><text style=color:red>X</text>"
      ],
      "text/plain": [
       "<IPython.core.display.HTML object>"
      ]
     },
     "metadata": {},
     "output_type": "display_data"
    },
    {
     "name": "stdout",
     "output_type": "stream",
     "text": [
      "cluster  5 --- 58  clusters found\n"
     ]
    },
    {
     "data": {
      "text/html": [
       "<text style=color:green>x</text>\n",
       "<text style=color:green>■</text><text style=color:blue>X</text><text style=color:yellow>x</text><text style=color:blue>■</text><text style=color:blue>■</text><text style=color:blue>■</text><text style=color:yellow>■</text><text style=color:blue>■</text><text style=color:yellow>■</text><text style=color:blue>■</text><text style=color:red>X</text><text style=color:blue>■</text><text style=color:blue>■</text><text style=color:blue>■</text><text style=color:blue>■</text><text style=color:blue>■</text><text style=color:blue>■</text><text style=color:yellow>■</text><text style=color:yellow>■</text><text style=color:blue>■</text><text style=color:blue>■</text><text style=color:blue>■</text><text style=color:blue>■</text><text style=color:blue>■</text><text style=color:blue>■</text><text style=color:blue>■</text><text style=color:blue>■</text><text style=color:gray>X</text><text style=color:yellow>■</text><text style=color:yellow>■</text><text style=color:blue>■</text><text style=color:blue>■</text><text style=color:yellow>■</text><text style=color:yellow>■</text><text style=color:magenta>X</text><text style=color:yellow>■</text><text style=color:magenta>■</text><text style=color:yellow>■</text><text style=color:yellow>■</text><text style=color:yellow>■</text><text style=color:olive>X</text><text style=color:magenta>■</text><text style=color:yellow>■</text><text style=color:magenta>■</text><text style=color:yellow>■</text><text style=color:yellow>■</text><text style=color:magenta>■</text><text style=color:yellow>■</text><text style=color:magenta>■</text><text style=color:magenta>■</text>\n",
       "<text style=color:purple>X</text><text style=color:yellow>■</text><text style=color:lightblue>X</text><text style=color:magenta>■</text><text style=color:salmon>x</text><text style=color:lightblue>■</text><text style=color:lightblue>■</text><text style=color:magenta>■</text><text style=color:yellow>■</text><text style=color:yellow>■</text><text style=color:blue>■</text><text style=color:blue>■</text><text style=color:yellow>■</text><text style=color:blue>■</text><text style=color:yellow>■</text><text style=color:yellow>■</text><text style=color:blue>■</text><text style=color:yellow>■</text><text style=color:blue>■</text><text style=color:blue>■</text><text style=color:blue>■</text><text style=color:blue>■</text><text style=color:blue>■</text><text style=color:blue>■</text><text style=color:blue>■</text><text style=color:orange>x</text><text style=color:blue>■</text><text style=color:blue>■</text><text style=color:teal>x</text><text style=color:tomato>X</text><text style=color:black>X</text><text style=color:black>■</text><text style=color:green>X</text><text style=color:orange>■</text><text style=color:orange>■</text><text style=color:green>■</text><text style=color:green>■</text><text style=color:green>■</text><text style=color:green>■</text><text style=color:blue>X</text><text style=color:blue>■</text><text style=color:green>■</text><text style=color:green>■</text><text style=color:green>■</text><text style=color:orange>■</text><text style=color:yellow>X</text><text style=color:orange>■</text><text style=color:green>■</text><text style=color:green>■</text><text style=color:orange>■</text>\n",
       "<text style=color:green>■</text><text style=color:green>■</text><text style=color:green>■</text><text style=color:green>■</text><text style=color:green>■</text><text style=color:green>■</text><text style=color:green>■</text><text style=color:red>X</text><text style=color:red>■</text><text style=color:red>■</text><text style=color:gray>X</text><text style=color:green>■</text><text style=color:green>■</text><text style=color:green>■</text><text style=color:gray>■</text><text style=color:green>■</text><text style=color:magenta>X</text><text style=color:magenta>■</text><text style=color:green>■</text><text style=color:olive>X</text><text style=color:magenta>■</text><text style=color:magenta>■</text><text style=color:magenta>■</text><text style=color:purple>X</text><text style=color:lightblue>X</text><text style=color:salmon>X</text><text style=color:orange>X</text><text style=color:orange>■</text><text style=color:teal>X</text><text style=color:tomato>X</text><text style=color:black>X</text><text style=color:black>■</text><text style=color:black>■</text><text style=color:green>■</text><text style=color:black>■</text><text style=color:green>X</text><text style=color:blue>X</text><text style=color:black>■</text><text style=color:blue>■</text><text style=color:blue>■</text><text style=color:blue>■</text><text style=color:blue>■</text><text style=color:blue>■</text><text style=color:blue>■</text><text style=color:blue>■</text><text style=color:blue>■</text><text style=color:blue>■</text><text style=color:blue>■</text><text style=color:blue>■</text><text style=color:blue>■</text>\n",
       "<text style=color:blue>■</text><text style=color:blue>■</text><text style=color:blue>■</text><text style=color:blue>■</text><text style=color:blue>■</text><text style=color:blue>■</text><text style=color:blue>■</text><text style=color:blue>■</text><text style=color:yellow>X</text><text style=color:blue>■</text><text style=color:blue>■</text><text style=color:blue>■</text><text style=color:blue>■</text><text style=color:blue>■</text><text style=color:red>X</text><text style=color:blue>■</text><text style=color:gray>X</text><text style=color:blue>■</text><text style=color:blue>■</text><text style=color:blue>■</text><text style=color:blue>■</text><text style=color:green>■</text><text style=color:magenta>X</text><text style=color:magenta>■</text><text style=color:magenta>■</text><text style=color:magenta>■</text><text style=color:olive>X</text><text style=color:purple>X</text><text style=color:lightblue>X</text><text style=color:salmon>X</text><text style=color:magenta>■</text><text style=color:salmon>■</text><text style=color:salmon>■</text><text style=color:magenta>■</text><text style=color:salmon>■</text><text style=color:magenta>■</text><text style=color:gray>■</text><text style=color:salmon>■</text><text style=color:green>■</text><text style=color:magenta>■</text><text style=color:magenta>■</text><text style=color:gray>■</text><text style=color:gray>■</text><text style=color:orange>X</text><text style=color:magenta>■</text><text style=color:magenta>■</text><text style=color:teal>X</text><text style=color:red>■</text><text style=color:teal>■</text><text style=color:purple>■</text>\n",
       "<text style=color:teal>■</text><text style=color:teal>■</text><text style=color:tomato>X</text><text style=color:tomato>■</text><text style=color:gray>■</text><text style=color:gray>■</text><text style=color:black>X</text><text style=color:gray>■</text><text style=color:gray>■</text><text style=color:green>X</text><text style=color:tomato>■</text><text style=color:tomato>■</text><text style=color:gray>■</text><text style=color:blue>X</text><text style=color:tomato>■</text><text style=color:yellow>X</text><text style=color:red>X</text><text style=color:gray>X</text><text style=color:tomato>■</text><text style=color:tomato>■</text><text style=color:gray>■</text><text style=color:red>■</text><text style=color:magenta>X</text><text style=color:olive>X</text><text style=color:purple>X</text><text style=color:red>■</text><text style=color:lightblue>X</text><text style=color:salmon>X</text><text style=color:tomato>■</text><text style=color:tomato>■</text><text style=color:orange>X</text><text style=color:tomato>■</text><text style=color:teal>X</text><text style=color:olive>■</text><text style=color:orange>■</text><text style=color:tomato>X</text><text style=color:orange>■</text><text style=color:orange>■</text><text style=color:orange>■</text><text style=color:orange>■</text><text style=color:olive>■</text><text style=color:black>X</text><text style=color:black>■</text><text style=color:green>X</text><text style=color:magenta>■</text><text style=color:blue>X</text><text style=color:purple>■</text><text style=color:magenta>■</text><text style=color:purple>■</text>"
      ],
      "text/plain": [
       "<IPython.core.display.HTML object>"
      ]
     },
     "metadata": {},
     "output_type": "display_data"
    },
    {
     "name": "stdout",
     "output_type": "stream",
     "text": [
      "cluster  6 --- 45  clusters found\n"
     ]
    },
    {
     "data": {
      "text/html": [
       "<text style=color:green>X</text>\n",
       "<text style=color:blue>x</text><text style=color:green>■</text><text style=color:green>■</text><text style=color:green>■</text><text style=color:yellow>x</text><text style=color:yellow>■</text><text style=color:yellow>■</text><text style=color:yellow>■</text><text style=color:yellow>■</text><text style=color:yellow>■</text><text style=color:yellow>■</text><text style=color:yellow>■</text><text style=color:yellow>■</text><text style=color:yellow>■</text><text style=color:red>X</text><text style=color:yellow>■</text><text style=color:yellow>■</text><text style=color:gray>X</text><text style=color:yellow>■</text><text style=color:yellow>■</text><text style=color:magenta>X</text><text style=color:magenta>■</text><text style=color:magenta>■</text><text style=color:yellow>■</text><text style=color:magenta>■</text><text style=color:olive>X</text><text style=color:yellow>■</text><text style=color:magenta>■</text><text style=color:purple>x</text><text style=color:lightblue>X</text><text style=color:salmon>X</text><text style=color:purple>■</text><text style=color:orange>X</text><text style=color:magenta>■</text><text style=color:purple>■</text><text style=color:purple>■</text><text style=color:purple>■</text><text style=color:teal>X</text><text style=color:tomato>X</text><text style=color:black>X</text><text style=color:yellow>■</text><text style=color:tomato>■</text><text style=color:green>X</text><text style=color:yellow>■</text><text style=color:yellow>■</text><text style=color:yellow>■</text><text style=color:yellow>■</text><text style=color:blue>X</text><text style=color:black>■</text><text style=color:yellow>■</text>\n",
       "<text style=color:yellow>■</text><text style=color:tomato>■</text><text style=color:yellow>■</text><text style=color:tomato>■</text><text style=color:tomato>■</text><text style=color:yellow>X</text><text style=color:yellow>■</text><text style=color:yellow>■</text><text style=color:green>■</text><text style=color:purple>■</text><text style=color:magenta>■</text><text style=color:yellow>■</text><text style=color:black>■</text><text style=color:tomato>■</text><text style=color:yellow>■</text><text style=color:green>■</text><text style=color:yellow>■</text><text style=color:green>■</text><text style=color:black>■</text><text style=color:black>■</text><text style=color:yellow>■</text><text style=color:tomato>■</text><text style=color:tomato>■</text><text style=color:green>■</text><text style=color:yellow>■</text><text style=color:yellow>■</text><text style=color:magenta>■</text><text style=color:magenta>■</text><text style=color:yellow>■</text><text style=color:yellow>■</text><text style=color:red>X</text><text style=color:tomato>■</text><text style=color:yellow>■</text><text style=color:yellow>■</text><text style=color:gray>X</text><text style=color:tomato>■</text><text style=color:green>■</text><text style=color:gray>■</text><text style=color:tomato>■</text><text style=color:tomato>■</text><text style=color:magenta>X</text><text style=color:tomato>■</text><text style=color:magenta>■</text><text style=color:olive>X</text><text style=color:purple>X</text><text style=color:magenta>■</text><text style=color:lightblue>X</text><text style=color:olive>■</text><text style=color:magenta>■</text><text style=color:olive>■</text>\n",
       "<text style=color:salmon>X</text><text style=color:magenta>■</text><text style=color:tomato>■</text><text style=color:orange>X</text><text style=color:tomato>■</text><text style=color:tomato>■</text><text style=color:teal>X</text><text style=color:magenta>■</text><text style=color:tomato>X</text><text style=color:magenta>■</text><text style=color:magenta>■</text><text style=color:magenta>■</text><text style=color:magenta>■</text><text style=color:magenta>■</text><text style=color:magenta>■</text><text style=color:magenta>■</text><text style=color:magenta>■</text><text style=color:magenta>■</text><text style=color:magenta>■</text><text style=color:magenta>■</text><text style=color:tomato>■</text><text style=color:black>X</text><text style=color:magenta>■</text><text style=color:tomato>■</text><text style=color:magenta>■</text><text style=color:tomato>■</text><text style=color:magenta>■</text><text style=color:magenta>■</text><text style=color:tomato>■</text><text style=color:magenta>■</text><text style=color:magenta>■</text><text style=color:tomato>■</text><text style=color:magenta>■</text><text style=color:green>X</text><text style=color:tomato>■</text><text style=color:tomato>■</text><text style=color:magenta>■</text><text style=color:tomato>■</text><text style=color:tomato>■</text><text style=color:blue>X</text><text style=color:yellow>x</text><text style=color:magenta>■</text><text style=color:magenta>■</text><text style=color:red>X</text><text style=color:gray>X</text><text style=color:magenta>X</text><text style=color:magenta>■</text><text style=color:olive>X</text><text style=color:magenta>■</text><text style=color:purple>X</text>\n",
       "<text style=color:magenta>■</text><text style=color:magenta>■</text><text style=color:lightblue>X</text><text style=color:magenta>■</text><text style=color:magenta>■</text><text style=color:magenta>■</text><text style=color:magenta>■</text><text style=color:magenta>■</text><text style=color:magenta>■</text><text style=color:magenta>■</text><text style=color:magenta>■</text><text style=color:magenta>■</text><text style=color:magenta>■</text><text style=color:magenta>■</text><text style=color:magenta>■</text><text style=color:magenta>■</text><text style=color:magenta>■</text><text style=color:magenta>■</text><text style=color:salmon>X</text><text style=color:magenta>■</text><text style=color:magenta>■</text><text style=color:magenta>■</text><text style=color:magenta>■</text><text style=color:magenta>■</text><text style=color:magenta>■</text><text style=color:orange>X</text><text style=color:magenta>■</text><text style=color:magenta>■</text><text style=color:magenta>■</text><text style=color:magenta>■</text><text style=color:magenta>■</text><text style=color:magenta>■</text><text style=color:magenta>■</text><text style=color:magenta>■</text><text style=color:magenta>■</text><text style=color:magenta>■</text><text style=color:magenta>■</text><text style=color:magenta>■</text><text style=color:magenta>■</text><text style=color:magenta>■</text><text style=color:magenta>■</text><text style=color:magenta>■</text><text style=color:teal>X</text><text style=color:magenta>■</text><text style=color:magenta>■</text><text style=color:magenta>■</text><text style=color:magenta>■</text><text style=color:tomato>X</text><text style=color:black>X</text><text style=color:green>X</text>\n",
       "<text style=color:lightblue>■</text><text style=color:green>■</text><text style=color:lightblue>■</text><text style=color:green>■</text><text style=color:green>■</text><text style=color:green>■</text><text style=color:lightblue>■</text><text style=color:green>■</text><text style=color:green>■</text><text style=color:green>■</text><text style=color:green>■</text><text style=color:green>■</text><text style=color:green>■</text><text style=color:blue>X</text><text style=color:green>■</text><text style=color:blue>■</text><text style=color:blue>■</text><text style=color:blue>■</text><text style=color:blue>■</text><text style=color:blue>■</text><text style=color:blue>■</text><text style=color:blue>■</text><text style=color:blue>■</text><text style=color:blue>■</text><text style=color:blue>■</text><text style=color:blue>■</text><text style=color:blue>■</text><text style=color:blue>■</text><text style=color:blue>■</text><text style=color:magenta>■</text><text style=color:blue>■</text><text style=color:blue>■</text><text style=color:blue>■</text><text style=color:blue>■</text><text style=color:blue>■</text><text style=color:blue>■</text><text style=color:blue>■</text><text style=color:blue>■</text><text style=color:yellow>X</text><text style=color:blue>■</text><text style=color:blue>■</text><text style=color:blue>■</text><text style=color:blue>■</text><text style=color:blue>■</text><text style=color:yellow>■</text><text style=color:blue>■</text><text style=color:yellow>■</text><text style=color:blue>■</text><text style=color:yellow>■</text>"
      ],
      "text/plain": [
       "<IPython.core.display.HTML object>"
      ]
     },
     "metadata": {},
     "output_type": "display_data"
    },
    {
     "name": "stdout",
     "output_type": "stream",
     "text": [
      "cluster  7 --- 48  clusters found\n"
     ]
    },
    {
     "data": {
      "text/html": [
       "<text style=color:green>x</text>\n",
       "<text style=color:blue>x</text><text style=color:yellow>x</text><text style=color:green>■</text><text style=color:green>■</text><text style=color:yellow>■</text><text style=color:blue>■</text><text style=color:blue>■</text><text style=color:red>X</text><text style=color:blue>■</text><text style=color:gray>X</text><text style=color:gray>■</text><text style=color:blue>■</text><text style=color:blue>■</text><text style=color:blue>■</text><text style=color:blue>■</text><text style=color:blue>■</text><text style=color:magenta>X</text><text style=color:blue>■</text><text style=color:olive>X</text><text style=color:green>■</text><text style=color:blue>■</text><text style=color:olive>■</text><text style=color:olive>■</text><text style=color:olive>■</text><text style=color:blue>■</text><text style=color:purple>X</text><text style=color:blue>■</text><text style=color:lightblue>X</text><text style=color:blue>■</text><text style=color:salmon>X</text><text style=color:salmon>■</text><text style=color:salmon>■</text><text style=color:purple>■</text><text style=color:purple>■</text><text style=color:salmon>■</text><text style=color:salmon>■</text><text style=color:salmon>■</text><text style=color:purple>■</text><text style=color:purple>■</text><text style=color:purple>■</text><text style=color:green>■</text><text style=color:orange>X</text><text style=color:teal>X</text><text style=color:green>■</text><text style=color:green>■</text><text style=color:salmon>■</text><text style=color:green>■</text><text style=color:green>■</text><text style=color:green>■</text><text style=color:green>■</text>\n",
       "<text style=color:salmon>■</text><text style=color:teal>■</text><text style=color:green>■</text><text style=color:salmon>■</text><text style=color:tomato>X</text><text style=color:green>■</text><text style=color:green>■</text><text style=color:purple>■</text><text style=color:green>■</text><text style=color:purple>■</text><text style=color:green>■</text><text style=color:black>X</text><text style=color:green>■</text><text style=color:teal>■</text><text style=color:purple>■</text><text style=color:green>X</text><text style=color:green>■</text><text style=color:green>■</text><text style=color:green>■</text><text style=color:green>■</text><text style=color:purple>■</text><text style=color:green>■</text><text style=color:purple>■</text><text style=color:salmon>■</text><text style=color:purple>■</text><text style=color:purple>■</text><text style=color:salmon>■</text><text style=color:purple>■</text><text style=color:teal>■</text><text style=color:blue>X</text><text style=color:teal>■</text><text style=color:yellow>X</text><text style=color:blue>■</text><text style=color:purple>■</text><text style=color:teal>■</text><text style=color:blue>■</text><text style=color:blue>■</text><text style=color:green>■</text><text style=color:teal>■</text><text style=color:green>■</text><text style=color:blue>■</text><text style=color:green>■</text><text style=color:teal>■</text><text style=color:teal>■</text><text style=color:teal>■</text><text style=color:teal>■</text><text style=color:purple>■</text><text style=color:purple>■</text><text style=color:teal>■</text><text style=color:purple>■</text>\n",
       "<text style=color:red>X</text><text style=color:gray>X</text><text style=color:teal>■</text><text style=color:gray>■</text><text style=color:gray>■</text><text style=color:magenta>X</text><text style=color:red>■</text><text style=color:red>■</text><text style=color:red>■</text><text style=color:green>■</text><text style=color:green>■</text><text style=color:green>■</text><text style=color:red>■</text><text style=color:red>■</text><text style=color:green>■</text><text style=color:olive>X</text><text style=color:purple>X</text><text style=color:red>■</text><text style=color:red>■</text><text style=color:lightblue>X</text><text style=color:lightblue>■</text><text style=color:lightblue>■</text><text style=color:lightblue>■</text><text style=color:lightblue>■</text><text style=color:lightblue>■</text><text style=color:red>■</text><text style=color:salmon>X</text><text style=color:lightblue>■</text><text style=color:orange>X</text><text style=color:lightblue>■</text><text style=color:orange>■</text><text style=color:orange>■</text><text style=color:orange>■</text><text style=color:teal>X</text><text style=color:teal>■</text><text style=color:teal>■</text><text style=color:teal>■</text><text style=color:teal>■</text><text style=color:teal>■</text><text style=color:green>■</text><text style=color:teal>■</text><text style=color:teal>■</text><text style=color:tomato>X</text><text style=color:teal>■</text><text style=color:teal>■</text><text style=color:black>X</text><text style=color:teal>■</text><text style=color:teal>■</text><text style=color:green>X</text><text style=color:green>■</text>\n",
       "<text style=color:green>■</text><text style=color:green>■</text><text style=color:teal>■</text><text style=color:teal>■</text><text style=color:blue>X</text><text style=color:teal>■</text><text style=color:green>■</text><text style=color:green>■</text><text style=color:teal>■</text><text style=color:green>■</text><text style=color:green>■</text><text style=color:yellow>X</text><text style=color:red>X</text><text style=color:red>■</text><text style=color:gray>X</text><text style=color:magenta>X</text><text style=color:gray>■</text><text style=color:gray>■</text><text style=color:olive>X</text><text style=color:gray>■</text><text style=color:olive>■</text><text style=color:gray>■</text><text style=color:blue>■</text><text style=color:magenta>■</text><text style=color:purple>■</text><text style=color:olive>■</text><text style=color:magenta>■</text><text style=color:magenta>■</text><text style=color:magenta>■</text><text style=color:purple>X</text><text style=color:olive>■</text><text style=color:magenta>■</text><text style=color:magenta>■</text><text style=color:lightblue>X</text><text style=color:magenta>■</text><text style=color:magenta>■</text><text style=color:magenta>■</text><text style=color:lightblue>■</text><text style=color:lightblue>■</text><text style=color:salmon>X</text><text style=color:salmon>■</text><text style=color:salmon>■</text><text style=color:salmon>■</text><text style=color:salmon>■</text><text style=color:salmon>■</text><text style=color:orange>X</text><text style=color:orange>■</text><text style=color:salmon>■</text><text style=color:orange>■</text><text style=color:orange>■</text>\n",
       "<text style=color:orange>■</text><text style=color:teal>X</text><text style=color:orange>■</text><text style=color:orange>■</text><text style=color:salmon>■</text><text style=color:tomato>X</text><text style=color:tomato>■</text><text style=color:salmon>■</text><text style=color:salmon>■</text><text style=color:salmon>■</text><text style=color:salmon>■</text><text style=color:salmon>■</text><text style=color:tomato>■</text><text style=color:tomato>■</text><text style=color:tomato>■</text><text style=color:black>X</text><text style=color:black>■</text><text style=color:salmon>■</text><text style=color:tomato>■</text><text style=color:black>■</text><text style=color:salmon>■</text><text style=color:salmon>■</text><text style=color:black>■</text><text style=color:salmon>■</text><text style=color:tomato>■</text><text style=color:tomato>■</text><text style=color:tomato>■</text><text style=color:tomato>■</text><text style=color:tomato>■</text><text style=color:green>X</text><text style=color:tomato>■</text><text style=color:green>■</text><text style=color:green>■</text><text style=color:blue>X</text><text style=color:tomato>■</text><text style=color:green>■</text><text style=color:tomato>■</text><text style=color:tomato>■</text><text style=color:tomato>■</text><text style=color:yellow>X</text><text style=color:red>X</text><text style=color:gray>X</text><text style=color:magenta>X</text><text style=color:tomato>■</text><text style=color:green>■</text><text style=color:tomato>■</text><text style=color:blue>■</text><text style=color:tomato>■</text><text style=color:tomato>■</text>"
      ],
      "text/plain": [
       "<IPython.core.display.HTML object>"
      ]
     },
     "metadata": {},
     "output_type": "display_data"
    },
    {
     "name": "stdout",
     "output_type": "stream",
     "text": [
      "cluster  8 --- 41  clusters found\n"
     ]
    },
    {
     "data": {
      "text/html": [
       "<text style=color:green>X</text>\n",
       "<text style=color:blue>X</text><text style=color:yellow>X</text><text style=color:yellow>■</text><text style=color:yellow>■</text><text style=color:yellow>■</text><text style=color:red>X</text><text style=color:red>■</text><text style=color:yellow>■</text><text style=color:gray>X</text><text style=color:yellow>■</text><text style=color:gray>■</text><text style=color:magenta>X</text><text style=color:yellow>■</text><text style=color:red>■</text><text style=color:red>■</text><text style=color:red>■</text><text style=color:red>■</text><text style=color:olive>X</text><text style=color:olive>■</text><text style=color:olive>■</text><text style=color:olive>■</text><text style=color:olive>■</text><text style=color:olive>■</text><text style=color:purple>X</text><text style=color:purple>■</text><text style=color:olive>■</text><text style=color:lightblue>X</text><text style=color:purple>■</text><text style=color:salmon>X</text><text style=color:orange>X</text><text style=color:teal>X</text><text style=color:purple>■</text><text style=color:orange>■</text><text style=color:orange>■</text><text style=color:purple>■</text><text style=color:teal>■</text><text style=color:purple>■</text><text style=color:teal>■</text><text style=color:purple>■</text><text style=color:purple>■</text><text style=color:orange>■</text><text style=color:orange>■</text><text style=color:orange>■</text><text style=color:salmon>■</text><text style=color:purple>■</text><text style=color:orange>■</text><text style=color:tomato>X</text><text style=color:tomato>■</text><text style=color:tomato>■</text><text style=color:black>X</text>\n",
       "<text style=color:olive>■</text><text style=color:green>X</text><text style=color:tomato>■</text><text style=color:green>■</text><text style=color:blue>x</text><text style=color:green>■</text><text style=color:olive>■</text><text style=color:olive>■</text><text style=color:olive>■</text><text style=color:olive>■</text><text style=color:olive>■</text><text style=color:tomato>■</text><text style=color:olive>■</text><text style=color:olive>■</text><text style=color:olive>■</text><text style=color:olive>■</text><text style=color:yellow>X</text><text style=color:red>X</text><text style=color:olive>■</text><text style=color:olive>■</text><text style=color:gray>X</text><text style=color:gray>■</text><text style=color:olive>■</text><text style=color:gray>■</text><text style=color:gray>■</text><text style=color:olive>■</text><text style=color:magenta>X</text><text style=color:olive>■</text><text style=color:olive>■</text><text style=color:gray>■</text><text style=color:olive>■</text><text style=color:magenta>■</text><text style=color:olive>■</text><text style=color:green>■</text><text style=color:olive>■</text><text style=color:olive>■</text><text style=color:olive>■</text><text style=color:olive>■</text><text style=color:green>■</text><text style=color:green>■</text><text style=color:olive>■</text><text style=color:olive>■</text><text style=color:olive>X</text><text style=color:olive>■</text><text style=color:olive>■</text><text style=color:olive>■</text><text style=color:purple>X</text><text style=color:lightblue>X</text><text style=color:salmon>X</text><text style=color:salmon>■</text>\n",
       "<text style=color:green>■</text><text style=color:olive>■</text><text style=color:orange>X</text><text style=color:teal>X</text><text style=color:teal>■</text><text style=color:olive>■</text><text style=color:teal>■</text><text style=color:teal>■</text><text style=color:olive>■</text><text style=color:teal>■</text><text style=color:teal>■</text><text style=color:olive>■</text><text style=color:teal>■</text><text style=color:teal>■</text><text style=color:teal>■</text><text style=color:olive>■</text><text style=color:teal>■</text><text style=color:tomato>X</text><text style=color:tomato>■</text><text style=color:black>X</text><text style=color:teal>■</text><text style=color:teal>■</text><text style=color:teal>■</text><text style=color:teal>■</text><text style=color:olive>■</text><text style=color:teal>■</text><text style=color:teal>■</text><text style=color:teal>■</text><text style=color:teal>■</text><text style=color:teal>■</text><text style=color:teal>■</text><text style=color:teal>■</text><text style=color:teal>■</text><text style=color:teal>■</text><text style=color:teal>■</text><text style=color:teal>■</text><text style=color:teal>■</text><text style=color:teal>■</text><text style=color:green>X</text><text style=color:teal>■</text><text style=color:teal>■</text><text style=color:teal>■</text><text style=color:teal>■</text><text style=color:teal>■</text><text style=color:green>■</text><text style=color:teal>■</text><text style=color:teal>■</text><text style=color:teal>■</text><text style=color:teal>■</text><text style=color:teal>■</text>\n",
       "<text style=color:green>■</text><text style=color:teal>■</text><text style=color:green>■</text><text style=color:green>■</text><text style=color:green>■</text><text style=color:green>■</text><text style=color:blue>X</text><text style=color:green>■</text><text style=color:green>■</text><text style=color:green>■</text><text style=color:green>■</text><text style=color:green>■</text><text style=color:blue>■</text><text style=color:blue>■</text><text style=color:blue>■</text><text style=color:blue>■</text><text style=color:blue>■</text><text style=color:blue>■</text><text style=color:yellow>X</text><text style=color:blue>■</text><text style=color:blue>■</text><text style=color:blue>■</text><text style=color:blue>■</text><text style=color:blue>■</text><text style=color:red>X</text><text style=color:blue>■</text><text style=color:tomato>■</text><text style=color:gray>x</text><text style=color:blue>■</text><text style=color:red>■</text><text style=color:red>■</text><text style=color:red>■</text><text style=color:gray>■</text><text style=color:gray>■</text><text style=color:gray>■</text><text style=color:magenta>X</text><text style=color:gray>■</text><text style=color:magenta>■</text><text style=color:blue>■</text><text style=color:magenta>■</text><text style=color:gray>■</text><text style=color:blue>■</text><text style=color:magenta>■</text><text style=color:green>■</text><text style=color:gray>■</text><text style=color:gray>■</text><text style=color:gray>■</text><text style=color:gray>■</text><text style=color:gray>■</text><text style=color:gray>■</text>\n",
       "<text style=color:blue>■</text><text style=color:gray>■</text><text style=color:gray>■</text><text style=color:gray>■</text><text style=color:gray>■</text><text style=color:gray>■</text><text style=color:gray>■</text><text style=color:gray>■</text><text style=color:green>■</text><text style=color:gray>■</text><text style=color:olive>X</text><text style=color:gray>■</text><text style=color:gray>■</text><text style=color:olive>■</text><text style=color:gray>■</text><text style=color:gray>■</text><text style=color:purple>X</text><text style=color:purple>■</text><text style=color:gray>■</text><text style=color:purple>■</text><text style=color:purple>■</text><text style=color:gray>■</text><text style=color:purple>■</text><text style=color:lightblue>X</text><text style=color:gray>■</text><text style=color:lightblue>■</text><text style=color:salmon>X</text><text style=color:orange>X</text><text style=color:salmon>■</text><text style=color:gray>■</text><text style=color:salmon>■</text><text style=color:gray>■</text><text style=color:salmon>■</text><text style=color:salmon>■</text><text style=color:purple>■</text><text style=color:purple>■</text><text style=color:purple>■</text><text style=color:lightblue>■</text><text style=color:tomato>■</text><text style=color:salmon>■</text><text style=color:purple>■</text><text style=color:green>■</text><text style=color:lightblue>■</text><text style=color:tomato>■</text><text style=color:gray>■</text><text style=color:teal>X</text><text style=color:gray>■</text><text style=color:tomato>X</text>"
      ],
      "text/plain": [
       "<IPython.core.display.HTML object>"
      ]
     },
     "metadata": {},
     "output_type": "display_data"
    },
    {
     "name": "stdout",
     "output_type": "stream",
     "text": [
      "cluster  9 --- 38  clusters found\n"
     ]
    },
    {
     "data": {
      "text/html": [
       "<text style=color:green>x</text>\n",
       "<text style=color:green>■</text><text style=color:blue>X</text><text style=color:green>■</text><text style=color:yellow>x</text><text style=color:green>■</text><text style=color:green>■</text><text style=color:green>■</text><text style=color:green>■</text><text style=color:green>■</text><text style=color:red>X</text><text style=color:red>■</text><text style=color:gray>X</text><text style=color:gray>■</text><text style=color:gray>■</text><text style=color:gray>■</text><text style=color:gray>■</text><text style=color:magenta>X</text><text style=color:gray>■</text><text style=color:olive>X</text><text style=color:gray>■</text><text style=color:gray>■</text><text style=color:olive>■</text><text style=color:green>■</text><text style=color:gray>■</text><text style=color:olive>■</text><text style=color:gray>■</text><text style=color:purple>X</text><text style=color:lightblue>X</text><text style=color:purple>■</text><text style=color:olive>■</text><text style=color:olive>■</text><text style=color:purple>■</text><text style=color:olive>■</text><text style=color:purple>■</text><text style=color:purple>■</text><text style=color:salmon>X</text><text style=color:salmon>■</text><text style=color:purple>■</text><text style=color:purple>■</text><text style=color:purple>■</text><text style=color:salmon>■</text><text style=color:salmon>■</text><text style=color:purple>■</text><text style=color:salmon>■</text><text style=color:purple>■</text><text style=color:purple>■</text><text style=color:purple>■</text><text style=color:salmon>■</text><text style=color:purple>■</text><text style=color:purple>■</text>\n",
       "<text style=color:salmon>■</text><text style=color:salmon>■</text><text style=color:purple>■</text><text style=color:purple>■</text><text style=color:orange>X</text><text style=color:orange>■</text><text style=color:purple>■</text><text style=color:purple>■</text><text style=color:purple>■</text><text style=color:purple>■</text><text style=color:orange>■</text><text style=color:olive>■</text><text style=color:olive>■</text><text style=color:olive>■</text><text style=color:olive>■</text><text style=color:purple>■</text><text style=color:olive>■</text><text style=color:orange>■</text><text style=color:olive>■</text><text style=color:olive>■</text><text style=color:olive>■</text><text style=color:olive>■</text><text style=color:olive>■</text><text style=color:orange>■</text><text style=color:olive>■</text><text style=color:purple>■</text><text style=color:olive>■</text><text style=color:purple>■</text><text style=color:teal>X</text><text style=color:tomato>X</text><text style=color:teal>■</text><text style=color:purple>■</text><text style=color:black>X</text><text style=color:purple>■</text><text style=color:black>■</text><text style=color:teal>■</text><text style=color:purple>■</text><text style=color:purple>■</text><text style=color:purple>■</text><text style=color:teal>■</text><text style=color:teal>■</text><text style=color:teal>■</text><text style=color:black>■</text><text style=color:purple>■</text><text style=color:black>■</text><text style=color:teal>■</text><text style=color:green>X</text><text style=color:blue>x</text><text style=color:green>■</text><text style=color:green>■</text>\n",
       "<text style=color:black>■</text><text style=color:teal>■</text><text style=color:black>■</text><text style=color:black>■</text><text style=color:black>■</text><text style=color:yellow>X</text><text style=color:yellow>■</text><text style=color:black>■</text><text style=color:teal>■</text><text style=color:teal>■</text><text style=color:black>■</text><text style=color:red>X</text><text style=color:black>■</text><text style=color:yellow>■</text><text style=color:black>■</text><text style=color:yellow>■</text><text style=color:yellow>■</text><text style=color:green>■</text><text style=color:green>■</text><text style=color:green>■</text><text style=color:green>■</text><text style=color:teal>■</text><text style=color:yellow>■</text><text style=color:yellow>■</text><text style=color:yellow>■</text><text style=color:yellow>■</text><text style=color:yellow>■</text><text style=color:yellow>■</text><text style=color:gray>X</text><text style=color:yellow>■</text><text style=color:gray>■</text><text style=color:magenta>X</text><text style=color:olive>X</text><text style=color:purple>X</text><text style=color:purple>■</text><text style=color:lightblue>X</text><text style=color:salmon>X</text><text style=color:lightblue>■</text><text style=color:salmon>■</text><text style=color:salmon>■</text><text style=color:lightblue>■</text><text style=color:lightblue>■</text><text style=color:lightblue>■</text><text style=color:lightblue>■</text><text style=color:salmon>■</text><text style=color:salmon>■</text><text style=color:orange>X</text><text style=color:orange>■</text><text style=color:orange>■</text><text style=color:lightblue>■</text>\n",
       "<text style=color:orange>■</text><text style=color:orange>■</text><text style=color:orange>■</text><text style=color:orange>■</text><text style=color:orange>■</text><text style=color:orange>■</text><text style=color:orange>■</text><text style=color:orange>■</text><text style=color:orange>■</text><text style=color:orange>■</text><text style=color:orange>■</text><text style=color:orange>■</text><text style=color:lightblue>■</text><text style=color:orange>■</text><text style=color:lightblue>■</text><text style=color:orange>■</text><text style=color:orange>■</text><text style=color:orange>■</text><text style=color:orange>■</text><text style=color:lightblue>■</text><text style=color:teal>X</text><text style=color:orange>■</text><text style=color:tomato>X</text><text style=color:orange>■</text><text style=color:black>X</text><text style=color:black>■</text><text style=color:black>■</text><text style=color:black>■</text><text style=color:black>■</text><text style=color:black>■</text><text style=color:green>X</text><text style=color:blue>X</text><text style=color:green>■</text><text style=color:yellow>X</text><text style=color:green>■</text><text style=color:yellow>■</text><text style=color:yellow>■</text><text style=color:red>X</text><text style=color:green>■</text><text style=color:yellow>■</text><text style=color:yellow>■</text><text style=color:green>■</text><text style=color:red>■</text><text style=color:red>■</text><text style=color:red>■</text><text style=color:red>■</text><text style=color:yellow>■</text><text style=color:yellow>■</text><text style=color:yellow>■</text><text style=color:green>■</text>\n",
       "<text style=color:green>■</text><text style=color:green>■</text><text style=color:yellow>■</text><text style=color:green>■</text><text style=color:yellow>■</text><text style=color:yellow>■</text><text style=color:yellow>■</text><text style=color:yellow>■</text><text style=color:yellow>■</text><text style=color:green>■</text><text style=color:yellow>■</text><text style=color:gray>X</text><text style=color:magenta>X</text><text style=color:gray>■</text><text style=color:magenta>■</text><text style=color:magenta>■</text><text style=color:yellow>■</text><text style=color:magenta>■</text><text style=color:magenta>■</text><text style=color:yellow>■</text><text style=color:magenta>■</text><text style=color:magenta>■</text><text style=color:green>■</text><text style=color:magenta>■</text><text style=color:magenta>■</text><text style=color:olive>X</text><text style=color:magenta>■</text><text style=color:magenta>■</text><text style=color:magenta>■</text><text style=color:yellow>■</text><text style=color:yellow>■</text><text style=color:yellow>■</text><text style=color:yellow>■</text><text style=color:yellow>■</text><text style=color:yellow>■</text><text style=color:yellow>■</text><text style=color:yellow>■</text><text style=color:purple>X</text><text style=color:purple>■</text><text style=color:purple>■</text><text style=color:yellow>■</text><text style=color:purple>■</text><text style=color:lightblue>X</text><text style=color:lightblue>■</text><text style=color:salmon>X</text><text style=color:yellow>■</text><text style=color:lightblue>■</text><text style=color:salmon>■</text>"
      ],
      "text/plain": [
       "<IPython.core.display.HTML object>"
      ]
     },
     "metadata": {},
     "output_type": "display_data"
    }
   ],
   "source": [
    "for cid in range(10): \n",
    "    print(\"cluster \",cid,\"---\",end=\" \")\n",
    "    clusters, figure = display_clusters(dev_instances,dev_gold,cid)\n",
    "    print(len(set(clusters.values())),\" clusters found\")\n",
    "    display(figure)"
   ]
  },
  {
   "cell_type": "code",
   "execution_count": 48,
   "metadata": {},
   "outputs": [
    {
     "data": {
      "text/plain": [
       "(array([19.,  5.,  3.,  7.,  0.,  0.,  1.,  1.,  0.,  2.]),\n",
       " array([ 1. ,  3.8,  6.6,  9.4, 12.2, 15. , 17.8, 20.6, 23.4, 26.2, 29. ]),\n",
       " <BarContainer object of 10 artists>)"
      ]
     },
     "execution_count": 48,
     "metadata": {},
     "output_type": "execute_result"
    },
    {
     "data": {
      "image/png": "[encoded data removed]",
      "text/plain": [
       "<Figure size 432x288 with 1 Axes>"
      ]
     },
     "metadata": {
      "needs_background": "light"
     },
     "output_type": "display_data"
    }
   ],
   "source": [
    "plt.hist(list((Counter(clusters.values()).values())))"
   ]
  },
  {
   "cell_type": "code",
   "execution_count": 49,
   "metadata": {},
   "outputs": [
    {
     "name": "stdout",
     "output_type": "stream",
     "text": [
      "0 -> NONE [<, joaopinto, >, internat1, ,, stat, file]\n",
      "1 -> SELF-LOOP [<, ultratek, >, how, do, i, get, that, kool, icon, palette, at, the, botttom, of, my, screen, like, other, peeps, have]\n",
      "2 -> [1] [<, allsystemsarego, >, ultratek, ,, AWN]\n",
      "3 -> NONE [<, ActionParsnip1, >, ultratek, :, there, s, avant, -, window, -, navigator, kooldock, kiba, -, dock]\n",
      "4 -> [3] [<, ActionParsnip1, >, ultratek, :, try, a, few, ,, see, which, you, like]\n",
      "5 -> SELF-LOOP [*, Kondensuotas_pie, sweiki, kales]\n",
      "6 -> [4] [<, ActionParsnip1, >, i, like, kooldock, if, i, HAD, to, have, one]\n",
      "7 -> SELF-LOOP [<, Tex, -, Twil, >, Hello, ,, I, used, once, a, network, monitor, that, shows, via, a, web, gui, a, lot, of, information, about, the, network, traffic, per, host, (, bandwidth, ,, protocols, ,, data, transmitted, .., ), ., I, forgot, the, name, of, this, app, ,, anyone, ?]\n",
      "8 -> [0] [<, internat1, >, joaopinto, :, i, m, told, that, wo, nt, work, for, what, i, want, .., ie, say, i, have, a, mnt, point, /home, /, share, if, the, last, file, accessed, is, /home, /, share, /, bob, /, temp, /, blah.txt, .., does, that, flow, down, to, /home, /, share, ?]\n",
      "9 -> [7] [<, allsystemsarego, >, internat1, ,, nettop, ?]\n",
      "10 -> [9] [<, internat1, >, nettop, ?]\n",
      "11 -> [10, 7] [<, allsystemsarego, >, sorry, Tex, -, Twil, nettop]\n",
      "12 -> NONE [<, ActionParsnip1, >, Dam0, :, /msg, nickserv, ghost, username, password]\n",
      "13 -> SELF-LOOP [<, mrglinux, >, ActionParsnip1:I, want, to, install, liberperl5.8, but, it, need, perl, -, base5.8.8, -, 12, but, the, perl, -, base5.10.0, -, 11.1ubuntu2, is, insatalled, if, I, want, to, remove, it, .., large, of, packge, will, be, removed, .., what, is, you, idea, ?]\n",
      "14 -> [13] [<, mrglinux, >, *, *, your]\n",
      "15 -> [13] [<, ActionParsnip1, >, mrglinux, :, is, there, not, a, libperl5.10, to, go, with, perl, -, base5.10, ?]\n",
      "16 -> [15] [<, mrglinux, >, I, do, n't, know, but, I, try, it, now]\n",
      "17 -> SELF-LOOP [<, usamahashimi, >, Hello, everyone, !]\n",
      "18 -> [11] [<, Tex, -, Twil, >, allsystemsarego, ,, hmm, not, sure, if, this, was, the, one]\n",
      "19 -> SELF-LOOP [<, sken, >, hello, ubu, guys]\n",
      "20 -> [16] [<, ActionParsnip1, >, mrglinux, :, that, s, all, i, can, think]\n",
      "21 -> SELF-LOOP [<, usamahashimi, >, Is, there, any, harm, if, i, disable, ipv6, ?]\n",
      "22 -> SELF-LOOP [<, Kohvihoor, >, does, anyone, have, an, idea, ,, why, seamlessrdp, wo, n't, work, on, ubuntu, 8.10, ?]\n",
      "23 -> [15] [<, mrglinux, >, yes]\n",
      "24 -> [21] [<, ActionParsnip1, >, usamahashimi, :, should, be, ok]\n",
      "25 -> [23] [<, mrglinux, >, I, got, it]\n",
      "26 -> SELF-LOOP [<, sken, >, i, just, wanted, to, ask, how, can, i, delete, google, earth, ,, i, installed, it, by, terminal]\n",
      "27 -> [24] [<, usamahashimi, >, ActionParsnip1, ,, how, can, i, disable, it, ?]\n",
      "28 -> [21] [<, allsystemsarego, >, usamahashimi, ,, I, disabled, it, and, have, no, issues]\n",
      "29 -> [3] [<, ultratek, >, how, do, i, install, kooldock, that, i, just, downloaded, ?]\n",
      "30 -> [22] [<, ActionParsnip1, >, Kohvihoor, :, run, it, from, terminal, and, you, will, get, intelligent, output]\n",
      "31 -> [26] [<, sken, >, can, anybody, help, meeeeeee, !]\n",
      "32 -> [29] [<, ActionParsnip1, >, ultratek, :, sudo, apt, -, get, install, kooldock]\n",
      "33 -> [26] [<, usamahashimi, >, sken, ,, cd, /opt, /, google, *, ;, sudo, ./uninstall, *]\n",
      "34 -> [29, 32] [<, ActionParsnip1, >, ultratek, :, you, do, nt, usually, have, to, physically, download, stuff, ,, it, alll, on, repos]\n",
      "35 -> [30] [<, Kohvihoor, >, ActionParsnip1, ,, i, do, ., it, does, n't, have, any, error, ,, or, anything, ., it, just, does, not, work, ,, how, it, 's, supposed, to, .]\n",
      "36 -> [33] [<, sken, >, ist, that, correct, usamahashimi]\n",
      "37 -> SELF-LOOP [<, Debolaz[Pidgin, ], >, I, 'm, trying, to, add, a, static, IP, address, to, eth0, ,, in, addition, to, the, dynamic, address, I, already, have, ., I, 've, edited, dhclient.conf, and, added, an, \", alias, \", entry, like, it, says, in, the, documentation, ,, but, the, alias, is, n't, added, by, dhclient, when, I, boot, ., However, ,, if, I, restart, dhclient, with, the, exact, same, parameters, as, ubuntu, starts, it, with, ,, the, static, IP, address, entry, is, added, correctly, ., How, do, I, get, the, IP, address, to, be, added, on, boot, ?]\n",
      "38 -> [36] [<, sken, >, ?]\n",
      "39 -> SELF-LOOP [<, Pabremer, >, Hiho, ppl, i, instaled, mandriva, and, it, modificated, ubuntus, 's, grub, ..., i, was, trying, to, fix, it, but, i, failed, ..., now, i, can, not, access, both, systems, ..., what, should, i, do, ?]\n",
      "40 -> [36] [<, usamahashimi, >, sken, ,, go, to, cd, /opt, and, check, googleearth, directory, !]\n",
      "41 -> SELF-LOOP [<, vyrgozunqk, >, hi, guys]\n",
      "42 -> [41] [<, vyrgozunqk, >, :]]\n",
      "43 -> [40] [<, sken, >, expalin, man]\n",
      "44 -> [43] [<, sken, >, i, am, a, newbie]\n",
      "45 -> [43] [<, ActionParsnip1, >, sken, :, cd, ~/google, -, earth, ;, sh, uninstall]\n",
      "46 -> SELF-LOOP [<, vyrgozunqk, >, i, have, a, problem, ,, i, ca, n't, compile, gspca, on, ubuntu, interpid, with, kernel, 2.6.27, -, 10, ...]\n",
      "47 -> [43] [<, usamahashimi, >, sken, ,, if, installed, by, apt, then, sudo, apt, -, get, remove, googleearth]\n",
      "48 -> [39] [<, allsystemsarego, >, Pabremer, ,, #, http]\n",
      "49 -> [32] [<, ultratek, >, it, did, its, thing, ..., is, there, a, cmd, where, i, have, to, run, to, use, it, ?]\n",
      "50 -> SELF-LOOP [<, ssh_rdp, >, My, Xorg, process, is, using, 300, mb, of, right, now, ,, but, when, I, start, X, it, is, using, about, 50, mb, ,, and, if, I, start, compiz, it, start, growing, slowly, ., Does, anybody, knows, why, ?]\n",
      "51 -> [39] [<, ActionParsnip1, >, !, grub, |, Pabremer]\n",
      "52 -> [39, 51] [<, ubottu, >, Pabremer, :, GRUB, is, the, default, Ubuntu, boot, manager, ., Lost, GRUB, after, installing, Windows, ?, See, #, http, -, GRUB, how, -, tos, :, #, http]\n",
      "53 -> [46] [<, vyrgozunqk, >, do, you, know, what, s, the, problem]\n",
      "54 -> [27] [<, usamahashimi, >, how, can, i, disable, ipv6, ?]\n",
      "55 -> SELF-LOOP [<, appotinn, >, Problem, with, \", black, screen, \", after, suspend, ., What, to, do, ?]\n",
      "56 -> SELF-LOOP [<, Lord_Devi, >, I, am, looking, for, a, quality, forum, outside, of, ubuntu, 's, focused, on, programming, in, linux, ., I, am, quite, new, to, programming, in, general, and, am, hoping, to, find, a, helpful, community, somewhere, ., Does, anyone, here, have, any, favorites, ?]\n",
      "57 -> [54] [<, ActionParsnip1, >, usamahashimi, :, #, http]\n",
      "58 -> [49] [<, ultratek, >, !]\n",
      "59 -> [50] [<, ssh_rdp, >, It, is, a, 64bit, intrepid, with, intel, GM965]\n",
      "60 -> SELF-LOOP [<, sivaji, >, desktop, visual, effects, ca, nt, be, enabled, in, my, system, please, help, me]\n",
      "61 -> [49] [<, ActionParsnip1, >, ultratek, :, its, in, your, menus]\n",
      "62 -> [49, 61] [<, ActionParsnip1, >, ultratek, :, or, you, can, run, it, with, :, kooldock, &, 2>/dev, /, null]\n",
      "63 -> [57] [<, usamahashimi, >, ActionParsnip1, ,, thanks, ,, can, i, do, it, without, rebooting, ?]\n",
      "64 -> [60] [<, vyrgozunqk, >, sivaji, ,, probably, you, do, n't, have, a, driver, installed, ...]\n",
      "65 -> [64] [<, vyrgozunqk, >, :)]\n",
      "66 -> [64] [<, vyrgozunqk, >, for, yyour, video, card]\n",
      "67 -> [63] [<, ActionParsnip1, >, usamahashimi, :, i, 'd, imagine, you, could, run, sudo, /etc, /, init.d, /, networking, restart]\n",
      "68 -> [62] [<, ultratek, >, well, i, do, nt, have, any, icons, to, put, on, it, yet]\n",
      "69 -> [64] [<, sivaji, >, vyrgozunqk, ,, no, its, installed, but, its, not, configured, properly]\n",
      "70 -> [69] [<, sivaji, >, vyrgozunqk, ,, here, xorg.conf, #, http, xorg, log, file, #, http]\n",
      "71 -> [68] [<, ActionParsnip1, >, ultratek, :, well, put, some, one, ,, like, browsers, and, chat, clients, and, the, apps, you, use, most]\n",
      "72 -> [71] [<, ultratek, >, how, do, i, put, like, firefox, on, my, desktop]\n",
      "73 -> [71] [<, ActionParsnip1, >, ultratek, :, if, you, like, it, ,, keep, it, ., if, not, uninstall, and, install, something, different]\n",
      "74 -> SELF-LOOP [<, mic_p, >, Hi, ,, I, know, that, my, is, n't, a, ubuntu, -, related, question, ,, but, ..., I, need, to, \", open, \", a, isolinux, cdrom, that, I, have, and, see, it, inside, ,, but, I, have, n't, found, a, solution, ., Some, help, ?]\n",
      "75 -> [59] [<, ssh_rdp, >, xrestop, shows, only, 16, mb, of, pixmaps]\n",
      "76 -> [72] [<, ultratek, >, my, windows, decorators, are, acting, funny, since, i, ran, kooldock]\n",
      "77 -> [72] [<, ActionParsnip1, >, ultratek, :, right, click, desktop, -, >, new, link, to, app, (, maybe, )]\n",
      "78 -> [77] [<, ultratek, >, i, do, nt, have, that, option]\n",
      "79 -> SELF-LOOP [<, rookeeeeeeeee, >, can, anyoooooone, please, help, walk, me, through, nfs, pretty, please, with, sugar, on, top]\n",
      "80 -> [70] [<, vyrgozunqk, >, sivaji, ,, yo're, with, integrated, graphics, ,, sorry, i, ca, n't, help, you, :/]\n",
      "81 -> [80] [<, vyrgozunqk, >, maybe, somebodyy, else, will, ...]\n",
      "82 -> [79] [<, ActionParsnip1, >, !, nfs, |, rookeeeeeeeee]\n",
      "83 -> [79, 82] [<, ubottu, >, rookeeeeeeeee, :, nfs, is, the, network, file, system, ., See, #, http, for, information, on, installing, and, configuring, NFS, .]\n",
      "84 -> [77] [<, ultratek, >, there, is, create, luancher]\n",
      "85 -> [82, 83] [<, rookeeeeeeeee, >, ActionParsnip1, ,, i, ve, tried, that, ,, i, keep, getting, the, same, error, over, and, over, again]\n",
      "86 -> [81] [<, sivaji, >, vyrgozunqk, ,, ok, thanks]\n",
      "87 -> [86] [<, vyrgozunqk, >, :)]\n",
      "88 -> SELF-LOOP [<, Scare|Working, >, Hi, all]\n",
      "89 -> [85] [<, ActionParsnip1, >, rookeeeeeeeee, :, then, websearch, for, the, error, you, get]\n",
      "90 -> SELF-LOOP [<, sivaji, >, how, to, install, and, configure, driver, for, intel, 82845G, /, GL[Brookdale, -, G, ], vga, card]\n",
      "91 -> [89] [<, rookeeeeeeeee, >, how, can, i, websearch, for, \", internal, error, \", ?, ?, ?]\n",
      "92 -> [88] [<, sinuc, >, lol]\n",
      "93 -> [92] [<, sinuc, >, eh, ,, i, mean, hi]\n",
      "94 -> [91] [<, ActionParsnip1, >, rookeeeeeeeee, :, when, do, you, get, the, error, ?]\n",
      "95 -> [94] [<, rookeeeeeeeee, >, when, ever, i, try, to, mount, my, client, computer]\n",
      "96 -> [26] [<, sken, >, help, i, can, not, uninstall, googlearth]\n",
      "97 -> SELF-LOOP [<, bullgard4, >, My, GNOME, terminal, shows, in, the, last, but, one, line, a, blue, status, line, that, displays, :, \", --, MOST, :, \", stdin, *, (, 7,1, ), 7, %, \", ., What, program, does, cause, this, operating, mode, of, the, GNOME, terminal, ?]\n",
      "98 -> [95] [<, ActionParsnip1, >, rookeeeeeeeee, :, ok, ,, what, mount, command, are, you, using, ?]\n",
      "99 -> [96] [<, ActionParsnip1, >, sken, :, i, told, you]\n",
      "100 -> [98] [<, rookeeeeeeeee, >, oh, god, i, forgot]\n",
      "101 -> [98] [<, rookeeeeeeeee, >, what, command, should, i, use]\n",
      "102 -> [91] [<, sinuc, >, \", internal, error, \", sounds, like, a, gui, ,, some, gnome, mounter, stuff]\n",
      "103 -> SELF-LOOP [<, alex_21, >, Hi, ,, what, channel, is, it, for, the, Kurdish, Ubuntu, Team, ?]\n",
      "104 -> [95, 102] [<, sinuc, >, try, to, mount, via, console]\n",
      "105 -> [99] [<, sken, >, i, ca, n't, dude]\n",
      "106 -> [103] [<, sinuc, >, alex_21, :, /msg, alis, list, *, ubuntu, *]\n",
      "107 -> [99, 105] [<, sken, >, no, such, file, or, directory]\n",
      "108 -> [103, 106] [<, sinuc, >, dunno, which, one, is, ,, that, s, how, i, would, search]\n",
      "109 -> [107] [<, ActionParsnip, >, sken, :, ls, -a]\n",
      "110 -> [109] [<, ActionParsnip, >, sken, :, sorry, :, cd, ~/, ;, ls, -a]\n",
      "111 -> [110] [<, ActionParsnip, >, sken, :, is, there, something, googleearth, shaped, in, that, list, ?]\n",
      "112 -> [111] [<, sken, >, yes]\n",
      "113 -> [111, 112] [<, sken, >, .googleearth, googleearth_4.3.7284.3916, +, 0.5.4, -, 1_i386.deb]\n",
      "114 -> [98] [<, rookeeeeeeeee, >, ActionParsnip, ,, what, command, should, i, use, to, mount, the, system/]\n",
      "115 -> [114] [<, sinuc, >, google, for, \", how, to, mount, nfs, \", or, alike]\n",
      "116 -> [113] [<, sken, >, actionparsnio]\n",
      "117 -> [113] [<, ActionParsnip, >, sken, :, ahhh, ,, ok, then]\n",
      "118 -> [117] [<, ActionParsnip, >, sken, :, sudo, dpkg, -r, googleearth]\n",
      "119 -> [118] [<, ActionParsnip, >, sken, :, that, will, uninstall, it]\n",
      "120 -> [106] [<, alex_21, >, Well, thanks, for, your, help, ,, but, I, still, ca, n't, find, it, ,, yawn]\n",
      "121 -> [120] [<, alex_21, >, Good, night, ., Bani, Bash]\n",
      "122 -> SELF-LOOP [<, winterelf, >, hi, ,, just, wanted, to, know, what, is, the, command, i, need, if, i, wanna, see, what, wireless, driver, i, m, using]\n",
      "123 -> [8] [<, joaopinto, >, internat1, ,, I, do, n't, know, ,, it, should, reflect, since, to, access, to, a, specific, patname, you, need, to, access, throw, it, 's, path, parts]\n",
      "124 -> [122] [<, ActionParsnip, >, winterelf, :, lshw, -C, network]\n",
      "125 -> [115] [<, rookeeeeeeeee, >, ok, ,, how, do, i, mount, the, system, in, the, terminal, ?]\n",
      "126 -> [119] [<, sken, >, actionparsnip]\n",
      "127 -> [119, 126] [<, sken, >, dpkg, -, warning, :, ignoring, request, to, remove, googleearth, ,, only, the, config, files, of, which, are, on, the, system, ., Use, --purge, to, remove, them, too, ., dimitris@dimitris, -, laptop:~$, sudo, purge, -r, googlearth]\n",
      "128 -> [124] [<, winterelf, >, •ActionParsnip•, thanks, ...]\n",
      "129 -> [127] [<, ActionParsnip, >, sken, :, that, s, not, quite, right]\n",
      "130 -> [129] [<, sken, >, by, the, way, i, installed, it, it, twice, with, differnt, ways]\n",
      "131 -> [130] [<, ActionParsnip, >, sken, :, sudo, dpkg, --purge, -r, googleearth]\n",
      "132 -> SELF-LOOP [<, cmv583, >, hello, ,, i, am, having, trouble, installing, JRE, .]\n",
      "133 -> [79] [<, rookeeeeeeeee, >, can, anyoooooone, please, help, walk, me, through, nfs, pretty, please, with, sugar, on, top]\n",
      "134 -> SELF-LOOP [<, Photoguy, >, !, themes]\n",
      "135 -> [134] [<, ubottu, >, Find, your, themes, at, :, #, http, -, #, http, -, #, http, -, #, http, -, #, http, -, #, http, -, #, http, -, Also, see, !, changethemes, and, #, http]\n",
      "136 -> SELF-LOOP [<, ActionParsnip, >, does, anyone, know, the, gnome, equivelant, of, katapult, ?]\n",
      "137 -> [136] [<, ActionParsnip, >, little, launcher, app]\n",
      "138 -> [131] [<, sken, >, actionparsnip]\n",
      "139 -> [138, 131] [<, sken, >, dpkg, :, conflicting, actions, -r, (, --remove, ), and, -P, (, --purge, ), Type, dpkg, --help, for, help, about, installing, and, deinstalling, packages, [, *, ], ;, Use, `, dselect, ', or, `, aptitude, ', for, user, -, friendly, package, management, ;, Type, dpkg, -Dhelp, for, a, list, of, dpkg, debug, flag, values, ;, Type, dpkg, --force, -, help, for, a, list, of, forcing, options, ;, Type, dpkg, -, deb, --help, for, help, about, manipulating, *, .deb, files, ;, Type, dpkg, --license, for, ...]\n",
      "140 -> [139] [<, sken, >, ..., copyright, license, and, lack, of, warranty, (, GNU, GPL, ), [, *, ], ., Options, marked, [, *, ], produce, a, lot, of, output, -, pipe, it, through, `, less, ', or, `, more, ', !]\n",
      "141 -> [140] [<, ActionParsnip, >, sken, :, i, d, use, synaptic, then, and, remove, it, that, way]\n",
      "142 -> [141] [<, sken, >, nothing, happened]\n",
      "143 -> SELF-LOOP [<, Acedip, >, do, we, have, a, video, editor, tool, of, the, likes, of, the, windows, movies, maker, ,, i, mean, the, ease, of, use, .., ?, ?]\n",
      "144 -> [141] [<, sken, >, googlearthi, uninstalled, in, synaptic]\n",
      "145 -> [143] [<, ActionParsnip, >, Acedip, :, i, only, know, of, kino, and, avidemux]\n",
      "146 -> [144] [<, sken, >, is, uninstalle]\n",
      "147 -> SELF-LOOP [<, adv, _, >, how, can, i, make, the, expose, style, effect, ', ?]\n",
      "148 -> [147] [<, adv, _, >, i, m, on, 8.19]\n",
      "149 -> [148] [<, adv, _, >, 8.10]\n",
      "150 -> [145] [<, Acedip, >, ActionParsnip, :, and, how, do, they, rank, in, the, ease, of, use, column, ?]\n",
      "151 -> [79] [<, rookeeeeeeeee, >, hey, ,, hello, there, !, could, anyone, please, walk, me, through, the, nfs, mounting, process, ?]\n",
      "152 -> [132] [<, cmv583, >, ActionParsnip, :, i, am, trying, to, save, JRE, to, my, ext, ., HD, ., located, /media, /, My, Book, /, home, /, chad, ., Terminal, tells, me, that, directory, is, bad, command, ?, I, do, n't, have, enough, int, ., hd, space, ., Can, i, make, this, work, ?]\n",
      "153 -> [147] [<, adv, _, >, how, can, i, make, the, expose, style, effect, ', ?]\n",
      "154 -> SELF-LOOP [*, Panarchy, says, Hi]\n",
      "155 -> SELF-LOOP [<, Robbie_Crash, >, So, ,, is, there, any, reason, for, me, to, backup, ~/.gvfs, or, is, it, something, that, I, wo, n't, need, an, old, version, of, when, I, rebuild, a, system, ?, It, looks, like, all, it, had, on, my, last, backup, was, a, bunch, of, links, to, smb, shares, off, my, Windows, boxes, which, are, backed, up, elsewhere]\n",
      "156 -> SELF-LOOP [<, Panarchy, >, How, do, I, install, Ubuntu, in, text, -, only, mode, ?]\n",
      "157 -> [141] [<, sken, >, actionparsnip, is, uninstalled, in, sinaptic]\n",
      "158 -> [143] [<, dimebar, >, Acedip, :, also, try, Open, Movie, Editor]\n",
      "159 -> SELF-LOOP [<, fasta, >, Is, there, a, calculator, in, which, I, can, input, hex, numbers, ?]\n",
      "160 -> [156] [<, Robbie_Crash, >, Panarchy, do, you, mean, install, it, so, that, you, do, n't, have, a, gui, at, the, end, ,, or, so, that, you, do, n't, have, a, gui, during, the, install, ?]\n",
      "161 -> [159] [<, rookeeeeeeeee, >, fasta, they, carry, them, at, walmart]\n",
      "162 -> [161] [<, fasta, >, rookeeeeeeeee, :, I, meant, like, a, command, line, tool, .]\n",
      "163 -> [159] [<, Robbie_Crash, >, fasta]\n",
      "164 -> [159] [<, Robbie_Crash, >, python]\n",
      "165 -> [161] [<, fasta, >, rookeeeeeeeee, :, already, found, one, .]\n",
      "166 -> [79] [<, rookeeeeeeeee, >, hey, ,, hello, there, !, could, anyone, please, walk, me, through, the, nfs, mounting, process, ?]\n",
      "167 -> [161] [<, sinuc, >, lol]\n",
      "168 -> SELF-LOOP [<, BoogieBoo, >, Hi, ,, Can, anyone, help, me, to, find, out, why, the, VPN, connection, using, Nertwork, manager, does, n't, work, anymore, in, Ubunutu, when, trying, to, connect, to, a, Windows, VPn, server, ?, ?, This, is, extremley, necessary, to, people, who, LIKE, to, work, in, Ubuntu, but, are, forced, to, stay, in, companies, where, the, servers, are, Windows, !, !, !, !, so, far, we, have, to, restart, in, XP, when, some, corporate, file, is, nedeed, and, this, is, really, anoying, ., Thannks]\n",
      "169 -> [166] [<, sinuc, >, rookeeeeeeeee, :, some, people, already, helped, you, out, ,, you, ve, got, ta, do, some, of, the, work, by, yourself, .]\n",
      "170 -> [153] [<, adv, _, >, anyone]\n",
      "171 -> [147] [<, adv, _, >, how, can, i, make, the, expose, style, effect, ', ?]\n",
      "172 -> [169] [<, sinuc, >, rather, ,, consider, ,, you, wasting, your, time, repeating, your, question, .]\n",
      "173 -> [166] [<, ActionParsnip, >, !, mount, |, rookeeeeeeeee]\n",
      "174 -> [166, 173] [<, ubottu, >, rookeeeeeeeee, :, For, help, with, partitioning, a, new, install, see, :, #, http, -, For, partitioning, programs, see, !, GParted, or, !, QTParted, -, Other, partitioning, topics, include, !, fstab, !, home, and, !, swap]\n",
      "175 -> SELF-LOOP [<, sken, >, por, cfare, bythqira, paskeni, qen, o]\n",
      "176 -> [175] [<, sken, >, pu, pu, pu]\n",
      "177 -> [175] [<, sinuc, >, what, ?]\n",
      "178 -> [175] [<, Robbie_Crash, >, !, spanish, |, sken]\n",
      "179 -> [175, 178] [<, ubottu, >, sken, :, En, la, mayoría, de, canales, Ubuntu, se, comunica, en, inglés, ., Para, ayuda, en, Español, ,, por, favor, entre, en, los, canales, #, ubuntu, -, es, o, #, kubuntu, -, es, .]\n",
      "180 -> [177] [<, sinuc, >, do, nt, ejaculate, in, the, channel, .]\n",
      "181 -> SELF-LOOP [<, sken, >, hello, muchchas]\n",
      "182 -> [168] [<, BoogieBoo, >, It, seems, that, vpn, connection, for, PPtP, is, a, taboo, or, somerhitng, else, in, internet, ,, I, ca, n't, find, any, solution, to, WHY, this, STOPED, to, work, when, Intrepid, shoed, up, ,, and, NOBODY, IS, GIVING, SUPPORT, ON, THIS]\n",
      "183 -> [181] [<, sken, >, heyyyyyyyyyyyyyyyyy]\n",
      "184 -> SELF-LOOP [_, server, sinan, is, now, known, as, sinant]\n",
      "185 -> SELF-LOOP [<, Panarchy, >, Robbie_Crash]\n",
      "186 -> [96] [<, sken, >, how, can, i, uninstall, the, fucking, googlearth, ?]\n",
      "187 -> [182] [<, BoogieBoo, >, Is, there, anyone, who, can, help, me, ?]\n",
      "188 -> [186] [<, ompaul, >, !, language, |, sken]\n",
      "189 -> [186, 188] [<, ubottu, >, sken, :, Please, watch, your, language, and, topic, to, help, keep, this, channel, family, friendly, .]\n",
      "190 -> [189] [<, sken, >, ok, sorry]\n",
      "191 -> [182] [<, Robbie_Crash, >, BoogieBoo, what, problem, are, you, having, with, your, vpn, ?]\n",
      "192 -> SELF-LOOP [<, Panarchy, >, Here, 's, what, I, need, to, do]\n",
      "193 -> [192] [<, Panarchy, >, Ubuntu, :, no, gui, >, install, a, windows, manager, >, remove, components, >, add, software, >, rebuild, kernel, >]\n",
      "194 -> SELF-LOOP [_, server, AndrewButler, is, now, known, as, AndyB]\n",
      "195 -> [193] [<, Panarchy, >, As, I, 'm, making, my, own, distribution, built, on, Ubuntu]\n",
      "196 -> [195] [<, Panarchy, >, Please, tell, me, how, to, install, without, a, GUI]\n",
      "197 -> [182] [<, ompaul, >, BoogieBoo, ,, pptp, is, not, secure, so, you, wo, n't, find, anyone, really, interested, in, it, ,, I, would, suggest, you, use, openvpn, in, its, place]\n",
      "198 -> SELF-LOOP [<, cmv583, >, Panarchy, :, can, u, help, me, ?]\n",
      "199 -> [196] [<, Robbie_Crash, >, Panarchy, you, could, install, the, server, version]\n",
      "200 -> [182] [<, ompaul, >, !, pptp, |, BoogieBoo]\n",
      "201 -> [200] [<, ubottu, >, BoogieBoo, :, pptp, is, not, good, according, to, Bruce, Schneier, #, http, here, the, words, insecurity, are, useful]\n",
      "202 -> [191] [<, BoogieBoo, >, Robbie_Crash, ,, I, am, still, using, hardy, ,, I, was, used, to, establish, successfully, VPN, connection, to, PPTP, server, in, our, company, network, using, networ, -, manager, ,, however, since, the, last, Ubuntu, Updateds, it, just, stoped, to, work, getting, only, CONNECTION, FAILED]\n",
      "203 -> [201, 197] [<, BoogieBoo, >, ompaul, ,, did, you, read, what, I, wrote, before, ?, ?, I, do, nt, care, if, PPTP, is, secure, or, not, ,, it, is, my, company, VPN, server, and, I, do, n't, decide, wether, should, be, OPeVPN, or, somehting, else, ,, I, just, need, to, connect, to, get, files, to, WORK]\n",
      "204 -> [186] [<, sken, >, come, on, ubu, gys]\n",
      "205 -> [204] [<, sken, >, help, sken]\n",
      "206 -> SELF-LOOP [<, stephenbyerley, >, speaking, of, vpn, ,, is, there, a, good, client, I, can, apt, -, get, ?, ca, n't, get, the, version, my, university, supports, to, build, correctly]\n",
      "207 -> [199] [<, Robbie_Crash, >, Panarchy, or, install, it, ,, and, then, remove, gnome]\n",
      "208 -> [26] [<, sken, >, i, wan, to, uninstall, googlearth]\n",
      "209 -> [206] [<, BoogieBoo, >, stephenbyerley, ,, which, VPN, server, si, your, university, using, ?]\n",
      "210 -> [135] [<, Photoguy, >, How, can, I, install, themes, ?, ?]\n",
      "211 -> [210] [<, Photoguy, >, *, one, ?]\n",
      "212 -> [202] [<, Robbie_Crash, >, BoogieBoo, there, 's, no, error, number, ?, Have, you, tried, recreating, the, connection, ?]\n",
      "213 -> [207] [<, Panarchy, >, Robbie_Crash, :, You, said, I, should, install, the, server, version, ?]\n",
      "214 -> [210] [<, Photoguy, >, Can, I, use, the, add, /, remove, applications, ?]\n",
      "215 -> [213] [<, Robbie_Crash, >, Panarchy, it, 's, got, no, GUI, at, all, ,, it, 's, cli, only]\n",
      "216 -> [212] [<, BoogieBoo, >, Robbie_Crash, ,, looking, at, the, syslog, file, ,, just, get, \", Modem, Hung, up, \", ,, but, if, I, restart, in, XP, it, is, actually, working, fine]\n",
      "217 -> [215] [<, Panarchy, >, Robbie_Crash, :, Well, I, did, ,, about, a, day, or, two, ago, receive, all, ubuntu, type, distro, 's, available, from, canonical, in, the, mail, ...]\n",
      "218 -> SELF-LOOP [<, earthling, >, how, do, i, find, the, amount, of, bandwidth, my, coumputer, has, used, is, there, any, good, GTK, monitor, ?]\n",
      "219 -> [208] [<, sken, >, ubu, guys, you, are, driving, me, crazy]\n",
      "220 -> [215] [<, Panarchy, >, Robbie_Crash, :, Will, I, be, able, to, do, what, I, need, to, do, ?, Like, what, extra, things, are, in, the, server, version, ?]\n",
      "221 -> [219] [<, Panarchy, >, sken]\n",
      "222 -> [218] [<, earthling, >, ie, the, amountof, kb, 's, that, my, system, has, downloaded, so, far, ?]\n",
      "223 -> [209] [<, stephenbyerley, >, BoogieBoo, ,, cisco, I, guess, ?, not, sure, I, understand, what, you, mean]\n",
      "224 -> [219] [<, Panarchy, >, sken, :, I, know, it, 's, somewhere, ..., like, sbin, or, something]\n",
      "225 -> [224] [<, Panarchy, >, read, the, google, docs, and, where, it, is, installed, to]\n",
      "226 -> [225] [<, Panarchy, >, then, type, in]\n",
      "227 -> [223] [<, BoogieBoo, >, stephenbyerley, ,, in, synaptic, just, look, for, \", vpn, \", ,, there, will, be, the, 3, types, of, clients, you, will, need, :, pptp, ,, openvpn, and, cisco]\n",
      "228 -> [226, 224] [<, Panarchy, >, sudo, rm, -r, ', GOOGLE, EARTH, DIRECTOR, ']\n",
      "229 -> SELF-LOOP [_, server, PKnull, is, now, known, as, Pooky]\n",
      "230 -> [26] [<, sken, >, how, can, i, uninstall, googlearth, ?]\n",
      "231 -> [222] [<, allsystemsarego, >, earthling, ,, yes, ,, netw, ., history]\n",
      "232 -> [215] [<, Panarchy, >, Robbie_Crash, ,, are, you, still, around, ?]\n",
      "233 -> [231] [<, earthling, >, how, do, i, find, the, amount, of, bandwidth, my, coumputer, has, used, is, there, any, good, GTK, monitor, ?]\n",
      "234 -> [223, 227] [<, BoogieBoo, >, stephenbyerley, ,, and, also, de, vpn, services]\n",
      "235 -> [230] [<, Panarchy, >, sken, :, I, just, told, you]\n",
      "236 -> [234] [<, stephenbyerley, >, fair, enough, ,, thanks]\n",
      "237 -> [235] [<, sken, >, how/, ?]\n",
      "238 -> [237] [<, Panarchy, >, sken, :, I, just, told, you]\n",
      "239 -> [238] [<, sken, >, explain]\n",
      "240 -> [239] [<, Panarchy, >, read, my, last, 4, or, so, posts]\n",
      "241 -> [231] [<, earthling, >, allsystemsarego, :, i, need, a, GUI]\n",
      "242 -> [132] [<, cmv583, >, Panarchy, :, any, help, with, JRE, ?]\n",
      "243 -> [242] [<, Panarchy, >, yes]\n",
      "244 -> [242] [<, Panarchy, >, sudo, apt, -, get, install]\n",
      "245 -> [244] [<, Panarchy, >, um, ...]\n",
      "246 -> [245] [<, Panarchy, >, lol]\n",
      "247 -> [246] [<, Panarchy, >, forgot]\n",
      "248 -> [247] [<, FloodBot2, >, Panarchy, :, Please, do, n't, flood, ,, use, #, http, to, paste, ,, do, n't, use, Enter, as, punctuation, .]\n"
     ]
    }
   ],
   "source": [
    "display_chat(dev_instances,dev_gold,3)"
   ]
  },
  {
   "cell_type": "code",
   "execution_count": 61,
   "metadata": {},
   "outputs": [
    {
     "data": {
      "text/html": [
       "<text style=color:green>x</text>\n",
       "<text style=color:blue>X</text><text style=color:yellow>x</text><text style=color:red>x</text><text style=color:gray>X</text><text style=color:magenta>X</text><text style=color:olive>X</text><text style=color:purple>X</text><text style=color:lightblue>X</text><text style=color:salmon>x</text><text style=color:orange>X</text><text style=color:teal>X</text><text style=color:salmon>■</text><text style=color:yellow>■</text><text style=color:red>■</text><text style=color:tomato>X</text><text style=color:black>X</text><text style=color:green>■</text><text style=color:green>X</text><text style=color:red>■</text><text style=color:blue>X</text><text style=color:yellow>X</text><text style=color:red>X</text><text style=color:yellow>■</text><text style=color:salmon>■</text><text style=color:gray>X</text><text style=color:yellow>■</text><text style=color:salmon>■</text><text style=color:green>■</text><text style=color:red>■</text><text style=color:magenta>X</text><text style=color:salmon>■</text><text style=color:green>■</text><text style=color:red>■</text><text style=color:olive>X</text><text style=color:purple>X</text><text style=color:yellow>■</text><text style=color:lightblue>x</text><text style=color:green>■</text><text style=color:green>■</text><text style=color:red>■</text><text style=color:green>■</text><text style=color:yellow>■</text><text style=color:salmon>x</text><text style=color:orange>X</text><text style=color:teal>X</text><text style=color:magenta>■</text><text style=color:tomato>X</text><text style=color:yellow>■</text><text style=color:black>X</text><text style=color:yellow>■</text>\n",
       "<text style=color:green>X</text><text style=color:yellow>■</text><text style=color:green>■</text><text style=color:salmon>■</text><text style=color:blue>X</text><text style=color:green>■</text><text style=color:yellow>X</text><text style=color:red>X</text><text style=color:gray>X</text><text style=color:salmon>■</text><text style=color:green>■</text><text style=color:yellow>■</text><text style=color:magenta>X</text><text style=color:olive>X</text><text style=color:purple>X</text><text style=color:lightblue>X</text><text style=color:magenta>■</text><text style=color:salmon>X</text><text style=color:orange>X</text><text style=color:salmon>■</text><text style=color:purple>■</text><text style=color:salmon>■</text><text style=color:teal>X</text><text style=color:magenta>■</text><text style=color:tomato>X</text><text style=color:black>X</text><text style=color:green>X</text><text style=color:blue>X</text><text style=color:yellow>X</text><text style=color:magenta>■</text><text style=color:red>X</text><text style=color:gray>X</text><text style=color:magenta>X</text><text style=color:salmon>■</text><text style=color:salmon>■</text><text style=color:olive>X</text><text style=color:salmon>■</text><text style=color:salmon>■</text><text style=color:purple>X</text><text style=color:blue>■</text><text style=color:salmon>■</text><text style=color:blue>■</text><text style=color:magenta>■</text><text style=color:blue>■</text><text style=color:purple>■</text><text style=color:salmon>■</text><text style=color:lightblue>X</text><text style=color:salmon>X</text><text style=color:salmon>■</text><text style=color:orange>X</text>\n",
       "<text style=color:magenta>■</text><text style=color:purple>■</text><text style=color:salmon>■</text><text style=color:teal>X</text><text style=color:tomato>X</text><text style=color:black>X</text><text style=color:green>X</text><text style=color:blue>X</text><text style=color:yellow>X</text><text style=color:purple>■</text><text style=color:salmon>■</text><text style=color:red>X</text><text style=color:salmon>■</text><text style=color:purple>■</text><text style=color:red>■</text><text style=color:purple>■</text><text style=color:purple>■</text><text style=color:salmon>■</text><text style=color:gray>X</text><text style=color:magenta>X</text><text style=color:olive>X</text><text style=color:purple>X</text><text style=color:lightblue>X</text><text style=color:purple>■</text><text style=color:salmon>X</text><text style=color:orange>X</text><text style=color:teal>X</text><text style=color:tomato>X</text><text style=color:salmon>■</text><text style=color:black>X</text><text style=color:salmon>■</text><text style=color:green>X</text><text style=color:blue>X</text><text style=color:purple>■</text><text style=color:green>■</text><text style=color:purple>■</text><text style=color:yellow>X</text><text style=color:magenta>■</text><text style=color:red>X</text><text style=color:red>■</text><text style=color:black>■</text><text style=color:magenta>■</text><text style=color:gray>X</text><text style=color:magenta>X</text><text style=color:magenta>■</text><text style=color:magenta>■</text><text style=color:olive>X</text><text style=color:purple>X</text><text style=color:magenta>■</text><text style=color:lightblue>X</text>\n",
       "<text style=color:magenta>■</text><text style=color:salmon>X</text><text style=color:orange>X</text><text style=color:teal>X</text><text style=color:tomato>X</text><text style=color:black>X</text><text style=color:magenta>■</text><text style=color:green>X</text><text style=color:blue>X</text><text style=color:magenta>■</text><text style=color:yellow>X</text><text style=color:red>X</text><text style=color:gray>X</text><text style=color:magenta>■</text><text style=color:orange>■</text><text style=color:magenta>■</text><text style=color:red>■</text><text style=color:magenta>X</text><text style=color:olive>X</text><text style=color:purple>X</text><text style=color:magenta>■</text><text style=color:red>■</text><text style=color:magenta>■</text><text style=color:lightblue>X</text><text style=color:magenta>■</text><text style=color:orange>■</text><text style=color:orange>■</text><text style=color:orange>■</text><text style=color:orange>■</text><text style=color:orange>■</text><text style=color:salmon>X</text><text style=color:orange>X</text><text style=color:salmon>■</text><text style=color:salmon>■</text><text style=color:teal>X</text><text style=color:tomato>X</text><text style=color:black>X</text><text style=color:green>X</text><text style=color:salmon>■</text><text style=color:blue>X</text><text style=color:salmon>■</text><text style=color:salmon>■</text><text style=color:salmon>■</text><text style=color:salmon>■</text><text style=color:yellow>X</text><text style=color:red>X</text><text style=color:gray>X</text><text style=color:yellow>■</text><text style=color:salmon>■</text><text style=color:magenta>X</text>\n",
       "<text style=color:olive>X</text><text style=color:magenta>■</text><text style=color:purple>X</text><text style=color:salmon>■</text><text style=color:salmon>■</text><text style=color:yellow>■</text><text style=color:lightblue>X</text><text style=color:yellow>■</text><text style=color:salmon>■</text><text style=color:salmon>X</text><text style=color:salmon>■</text><text style=color:orange>X</text><text style=color:salmon>■</text><text style=color:salmon>■</text><text style=color:teal>X</text><text style=color:salmon>■</text><text style=color:tomato>X</text><text style=color:black>X</text><text style=color:green>X</text><text style=color:salmon>■</text><text style=color:blue>X</text><text style=color:yellow>X</text><text style=color:salmon>■</text><text style=color:red>X</text><text style=color:salmon>■</text><text style=color:gray>X</text><text style=color:salmon>■</text><text style=color:salmon>■</text><text style=color:salmon>■</text><text style=color:magenta>X</text><text style=color:salmon>■</text><text style=color:olive>X</text><text style=color:purple>X</text><text style=color:salmon>■</text><text style=color:lightblue>X</text><text style=color:salmon>X</text><text style=color:orange>X</text><text style=color:teal>X</text><text style=color:salmon>■</text><text style=color:salmon>■</text><text style=color:tomato>X</text><text style=color:black>X</text><text style=color:salmon>■</text><text style=color:green>X</text><text style=color:blue>X</text><text style=color:salmon>■</text><text style=color:orange>■</text><text style=color:yellow>X</text><text style=color:red>X</text><text style=color:gray>X</text>\n",
       "<text style=color:magenta>X</text><text style=color:olive>X</text><text style=color:purple>X</text><text style=color:salmon>■</text><text style=color:lightblue>X</text><text style=color:salmon>X</text><text style=color:orange>X</text><text style=color:salmon>■</text><text style=color:orange>■</text><text style=color:salmon>■</text><text style=color:teal>X</text><text style=color:tomato>X</text><text style=color:salmon>■</text><text style=color:salmon>■</text><text style=color:black>X</text><text style=color:salmon>■</text><text style=color:green>X</text><text style=color:blue>X</text><text style=color:salmon>■</text><text style=color:salmon>■</text><text style=color:yellow>X</text><text style=color:red>X</text><text style=color:gray>X</text><text style=color:magenta>X</text><text style=color:olive>X</text><text style=color:purple>X</text><text style=color:lightblue>X</text><text style=color:salmon>X</text><text style=color:salmon>■</text><text style=color:orange>X</text><text style=color:teal>X</text><text style=color:tomato>X</text><text style=color:salmon>■</text><text style=color:black>X</text><text style=color:salmon>■</text><text style=color:salmon>■</text><text style=color:salmon>■</text><text style=color:salmon>■</text><text style=color:green>X</text><text style=color:orange>■</text><text style=color:blue>X</text><text style=color:yellow>X</text><text style=color:gray>■</text><text style=color:red>X</text><text style=color:salmon>■</text><text style=color:salmon>■</text><text style=color:gray>X</text><text style=color:magenta>X</text><text style=color:olive>X</text><text style=color:salmon>■</text>\n",
       "<text style=color:purple>X</text><text style=color:salmon>■</text><text style=color:salmon>■</text><text style=color:salmon>■</text><text style=color:lightblue>X</text><text style=color:salmon>■</text><text style=color:salmon>X</text><text style=color:salmon>■</text><text style=color:salmon>■</text><text style=color:salmon>■</text><text style=color:salmon>■</text><text style=color:orange>X</text><text style=color:teal>■</text><text style=color:salmon>■</text><text style=color:salmon>■</text><text style=color:salmon>■</text><text style=color:salmon>■</text><text style=color:teal>X</text><text style=color:tomato>X</text><text style=color:black>X</text><text style=color:salmon>■</text><text style=color:green>X</text><text style=color:magenta>■</text><text style=color:salmon>■</text><text style=color:blue>X</text><text style=color:yellow>X</text><text style=color:red>X</text><text style=color:gray>X</text><text style=color:magenta>X</text><text style=color:olive>X</text><text style=color:purple>X</text><text style=color:lightblue>X</text><text style=color:salmon>■</text><text style=color:salmon>■</text><text style=color:salmon>■</text><text style=color:orange>■</text><text style=color:green>■</text><text style=color:salmon>■</text><text style=color:lightblue>■</text><text style=color:salmon>■</text><text style=color:salmon>■</text><text style=color:salmon>X</text><text style=color:orange>X</text><text style=color:teal>X</text><text style=color:tomato>X</text><text style=color:orange>■</text><text style=color:lightblue>■</text><text style=color:green>■</text><text style=color:black>X</text><text style=color:green>X</text>\n",
       "<text style=color:orange>■</text><text style=color:blue>X</text><text style=color:yellow>X</text><text style=color:red>X</text><text style=color:gray>x</text><text style=color:orange>■</text><text style=color:magenta>X</text><text style=color:red>■</text><text style=color:magenta>■</text><text style=color:salmon>■</text><text style=color:olive>X</text><text style=color:salmon>■</text><text style=color:purple>X</text><text style=color:magenta>■</text><text style=color:orange>■</text><text style=color:lightblue>X</text><text style=color:gray>■</text><text style=color:salmon>■</text><text style=color:salmon>X</text><text style=color:orange>X</text><text style=color:teal>X</text><text style=color:orange>■</text><text style=color:tomato>X</text><text style=color:orange>■</text><text style=color:red>■</text><text style=color:black>X</text><text style=color:green>x</text><text style=color:salmon>■</text><text style=color:orange>■</text><text style=color:gray>■</text><text style=color:blue>X</text><text style=color:salmon>■</text><text style=color:green>■</text><text style=color:salmon>■</text><text style=color:yellow>X</text><text style=color:orange>■</text><text style=color:red>X</text><text style=color:orange>■</text><text style=color:gray>X</text><text style=color:salmon>■</text><text style=color:salmon>■</text><text style=color:salmon>■</text><text style=color:magenta>X</text><text style=color:green>■</text><text style=color:olive>X</text><text style=color:purple>X</text><text style=color:orange>■</text><text style=color:salmon>■</text><text style=color:orange>■</text><text style=color:lightblue>X</text>\n",
       "<text style=color:salmon>■</text><text style=color:salmon>■</text><text style=color:orange>■</text><text style=color:salmon>X</text><text style=color:green>■</text><text style=color:orange>■</text><text style=color:orange>X</text><text style=color:teal>X</text><text style=color:tomato>X</text><text style=color:black>X</text><text style=color:orange>■</text><text style=color:orange>■</text><text style=color:green>X</text><text style=color:gray>■</text><text style=color:blue>X</text><text style=color:green>■</text><text style=color:yellow>X</text><text style=color:orange>■</text><text style=color:red>X</text><text style=color:salmon>■</text><text style=color:green>■</text><text style=color:orange>■</text><text style=color:gray>X</text><text style=color:salmon>■</text><text style=color:magenta>X</text><text style=color:salmon>■</text><text style=color:orange>■</text><text style=color:salmon>■</text><text style=color:olive>■</text><text style=color:gray>■</text><text style=color:salmon>■</text><text style=color:olive>X</text><text style=color:green>■</text><text style=color:salmon>■</text><text style=color:magenta>■</text><text style=color:green>■</text><text style=color:purple>X</text><text style=color:orange>■</text><text style=color:orange>■</text><text style=color:lightblue>X</text><text style=color:salmon>X</text><text style=color:green>■</text><text style=color:green>■</text><text style=color:orange>X</text><text style=color:green>■</text><text style=color:magenta>■</text><text style=color:teal>X</text><text style=color:tomato>X</text><text style=color:black>X</text><text style=color:orange>■</text>\n",
       "<text style=color:green>X</text><text style=color:black>■</text><text style=color:black>■</text><text style=color:blue>X</text><text style=color:yellow>X</text><text style=color:black>■</text><text style=color:black>■</text><text style=color:red>X</text><text style=color:olive>■</text><text style=color:black>■</text><text style=color:gray>X</text><text style=color:magenta>X</text><text style=color:gray>■</text><text style=color:olive>X</text><text style=color:purple>X</text><text style=color:lightblue>X</text><text style=color:gray>■</text><text style=color:magenta>■</text><text style=color:gray>■</text><text style=color:gray>■</text><text style=color:purple>■</text><text style=color:salmon>X</text><text style=color:orange>X</text><text style=color:teal>X</text><text style=color:purple>■</text><text style=color:tomato>X</text><text style=color:black>X</text><text style=color:salmon>■</text><text style=color:green>X</text><text style=color:gray>■</text><text style=color:blue>X</text><text style=color:purple>■</text><text style=color:gray>■</text><text style=color:salmon>■</text><text style=color:blue>■</text><text style=color:yellow>X</text><text style=color:salmon>■</text><text style=color:gray>■</text><text style=color:orange>■</text><text style=color:orange>■</text><text style=color:red>X</text><text style=color:gray>■</text><text style=color:salmon>■</text><text style=color:magenta>■</text><text style=color:gray>X</text><text style=color:gray>■</text><text style=color:magenta>X</text><text style=color:purple>■</text>"
      ],
      "text/plain": [
       "<IPython.core.display.HTML object>"
      ]
     },
     "execution_count": 61,
     "metadata": {},
     "output_type": "execute_result"
    }
   ],
   "source": [
    "clusters, figure = display_clusters(train_instances,train_gold,100)\n",
    "figure"
   ]
  },
  {
   "cell_type": "code",
   "execution_count": 60,
   "metadata": {},
   "outputs": [
    {
     "name": "stdout",
     "output_type": "stream",
     "text": [
      "215  clusters found\n"
     ]
    }
   ],
   "source": [
    "print(len(set(clusters.values())),\" clusters found\")"
   ]
  },
  {
   "cell_type": "code",
   "execution_count": 58,
   "metadata": {},
   "outputs": [
    {
     "data": {
      "text/plain": [
       "499"
      ]
     },
     "execution_count": 58,
     "metadata": {},
     "output_type": "execute_result"
    }
   ],
   "source": [
    "len(clusters)"
   ]
  },
  {
   "cell_type": "code",
   "execution_count": null,
   "metadata": {},
   "outputs": [],
   "source": []
  }
 ],
 "metadata": {
  "kernelspec": {
   "display_name": "Python 3",
   "language": "python",
   "name": "python3"
  },
  "language_info": {
   "codemirror_mode": {
    "name": "ipython",
    "version": 3
   },
   "file_extension": ".py",
   "mimetype": "text/x-python",
   "name": "python",
   "nbconvert_exporter": "python",
   "pygments_lexer": "ipython3",
   "version": "3.7.7"
  }
 },
 "nbformat": 4,
 "nbformat_minor": 4
}

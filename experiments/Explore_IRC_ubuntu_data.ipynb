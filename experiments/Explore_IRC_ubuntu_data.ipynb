{
 "cells": [
  {
   "cell_type": "markdown",
   "metadata": {},
   "source": [
    "NOTES:\n",
    "\n",
    "   - multiple attachments upwards are 50% ubottu (documentation bot)\n",
    "       otherwise: seems annotator was unsure of the real target, but probably same cluster anyway -> probbaly very annotator-dependent, do we have that info ? \n",
    "   - self-loops starts cluster, but crosses end of previous clusters (how much overlap?)\n",
    "   - isolated self-loop probably its own class (short/smiley/etc)\n",
    "   - some turns with no head acts as self-loops/beginning of clusters\n",
    "   - server always self-loop ? -> no cluster\n",
    "   - bcp de petits clusters (server, etc)\n"
   ]
  },
  {
   "cell_type": "code",
   "execution_count": 1,
   "metadata": {},
   "outputs": [],
   "source": [
    "import itertools\n",
    "import sys\n",
    "import logging\n",
    "from typing import Any, Tuple, Dict, List, Iterable\n",
    "import torch\n",
    "import torch.optim as optim"
   ]
  },
  {
   "cell_type": "code",
   "execution_count": 2,
   "metadata": {},
   "outputs": [],
   "source": [
    "from allennlp.data.dataset_readers.dataset_reader import DatasetReader\n",
    "from allennlp.data.fields import Field, LabelField, TextField, ListField, SequenceLabelField\n",
    "from allennlp.data.instance import Instance\n",
    "from allennlp.data.token_indexers import TokenIndexer, SingleIdTokenIndexer, PretrainedBertIndexer\n",
    "from allennlp.data.tokenizers import Token, Tokenizer, WordTokenizer, PretrainedTransformerTokenizer\n",
    "from allennlp.modules.text_field_embedders import TextFieldEmbedder, BasicTextFieldEmbedder\n",
    "from allennlp.modules.token_embedders import Embedding, PretrainedBertEmbedder\n",
    "from allennlp.modules.seq2vec_encoders import BertPooler\n",
    "\n",
    "from allennlp.modules import Seq2VecEncoder, Seq2SeqEncoder\n",
    "from allennlp.training.metrics import CategoricalAccuracy\n",
    "from allennlp.nn.util import get_text_field_mask, sequence_cross_entropy_with_logits\n",
    "from allennlp.data.vocabulary import Vocabulary\n",
    "\n",
    "from allennlp.training.trainer import Trainer\n",
    "from allennlp.data.iterators import BucketIterator\n",
    "from allennlp.common import Params\n",
    "from allennlp.nn import util"
   ]
  },
  {
   "cell_type": "code",
   "execution_count": 3,
   "metadata": {},
   "outputs": [],
   "source": [
    "%load_ext autoreload\n",
    "%autoreload 2"
   ]
  },
  {
   "cell_type": "code",
   "execution_count": 4,
   "metadata": {},
   "outputs": [],
   "source": [
    "#from dummy_chat_reader import ChatReader\n",
    "from irc_chat_reader import ChatReader"
   ]
  },
  {
   "cell_type": "code",
   "execution_count": 5,
   "metadata": {},
   "outputs": [],
   "source": [
    "token_indexers = {\"tokens\": SingleIdTokenIndexer()}\n",
    "\n",
    "tokenizer_cfg = Params({\"word_splitter\": {\"language\": \"en\"}})\n",
    "\n",
    "word_tokenizer = Tokenizer.from_params(tokenizer_cfg)"
   ]
  },
  {
   "cell_type": "code",
   "execution_count": 6,
   "metadata": {},
   "outputs": [
    {
     "name": "stderr",
     "output_type": "stream",
     "text": [
      "153it [00:42,  2.92it/s]\n",
      "10it [00:01,  7.90it/s]\n"
     ]
    }
   ],
   "source": [
    "reader = ChatReader(\n",
    "    tokenizer=word_tokenizer,\n",
    "    token_indexers=token_indexers,\n",
    "    raw = True,\n",
    "    sub_sequence = None,\n",
    "    #clip = 200\n",
    "    )\n",
    "train_instances = reader.read(\"../data/train\")\n",
    "dev_instances = reader.read(\"../data/dev\")"
   ]
  },
  {
   "cell_type": "code",
   "execution_count": 7,
   "metadata": {},
   "outputs": [
    {
     "name": "stderr",
     "output_type": "stream",
     "text": [
      "100%|██████████| 163/163 [00:00<00:00, 163.98it/s]\n"
     ]
    }
   ],
   "source": [
    "vocab = Vocabulary.from_instances(train_instances+dev_instances)"
   ]
  },
  {
   "cell_type": "code",
   "execution_count": 8,
   "metadata": {
    "scrolled": true
   },
   "outputs": [],
   "source": [
    "#for i in train_instances:\n",
    "#    #print(i)\n",
    "#    i[\"lines\"].index(vocab)\n",
    "#    i[\"arcs\"].index(vocab)\n",
    "#    print(i[\"lines\"].get_padding_lengths())"
   ]
  },
  {
   "cell_type": "code",
   "execution_count": 9,
   "metadata": {},
   "outputs": [
    {
     "data": {
      "text/plain": [
       "array([False,  True, False, False, False, False, False, False, False,\n",
       "       False])"
      ]
     },
     "execution_count": 9,
     "metadata": {},
     "output_type": "execute_result"
    }
   ],
   "source": [
    "i0 = train_instances[0]\n",
    "i0[\"is_server\"].array[:10]"
   ]
  },
  {
   "cell_type": "code",
   "execution_count": 10,
   "metadata": {},
   "outputs": [],
   "source": [
    "#while True:\n",
    "#    pass"
   ]
  },
  {
   "cell_type": "code",
   "execution_count": 11,
   "metadata": {},
   "outputs": [],
   "source": [
    "#sum([len([x for x in i[\"metadata\"].metadata[\"addressees\"] if x is None]) for i in train_instances])"
   ]
  },
  {
   "cell_type": "code",
   "execution_count": 12,
   "metadata": {},
   "outputs": [
    {
     "name": "stdout",
     "output_type": "stream",
     "text": [
      "nb of document with zeros edges: 0\n"
     ]
    }
   ],
   "source": [
    "c = 0\n",
    "for n,i in enumerate(train_instances):\n",
    "    nbarcs = len(i[\"arcs\"].indices)\n",
    "    if nbarcs==0: \n",
    "        c+=1 \n",
    "        print(n)\n",
    "print(\"nb of document with zeros edges:\",c)"
   ]
  },
  {
   "cell_type": "code",
   "execution_count": 13,
   "metadata": {},
   "outputs": [],
   "source": [
    "#distance max\n",
    "#for instance in train_instances:\n",
    "#    maxl = max([abs(j-i) for (i,j) in instance[\"arcs\"].indices])\n",
    "#    print(maxl)\n",
    "               "
   ]
  },
  {
   "cell_type": "code",
   "execution_count": 14,
   "metadata": {},
   "outputs": [],
   "source": [
    "from allennlp.models import Model\n",
    "from typing import Dict, List, Iterable\n",
    "from allennlp.modules import TimeDistributed\n",
    "from allennlp.nn.util import get_text_field_mask, sequence_cross_entropy_with_logits"
   ]
  },
  {
   "cell_type": "code",
   "execution_count": 15,
   "metadata": {},
   "outputs": [
    {
     "name": "stderr",
     "output_type": "stream",
     "text": [
      "10it [00:01,  7.90it/s]\n"
     ]
    }
   ],
   "source": [
    "dev_instances = reader.read(\"../data/dev\")"
   ]
  },
  {
   "cell_type": "code",
   "execution_count": 16,
   "metadata": {},
   "outputs": [],
   "source": [
    "# probing the gold annotations to see how many multiple attachements\n",
    "def store_gold(instances,chat_id):\n",
    "    gold = {}\n",
    "    for (i,j) in instances[chat_id][\"arcs\"].indices:\n",
    "        if i in gold:\n",
    "            gold[i].append(j)\n",
    "        else:\n",
    "            gold[i] = [j]\n",
    "    return gold"
   ]
  },
  {
   "cell_type": "code",
   "execution_count": 17,
   "metadata": {},
   "outputs": [],
   "source": [
    "dev_gold = {i:store_gold(dev_instances,i) for i in range(len(dev_instances))}"
   ]
  },
  {
   "cell_type": "code",
   "execution_count": 18,
   "metadata": {},
   "outputs": [],
   "source": [
    "chat_id = 0"
   ]
  },
  {
   "cell_type": "code",
   "execution_count": 19,
   "metadata": {},
   "outputs": [
    {
     "data": {
      "text/plain": [
       "Counter({1: 243, 2: 5})"
      ]
     },
     "execution_count": 19,
     "metadata": {},
     "output_type": "execute_result"
    }
   ],
   "source": [
    "# check multiple attachments\n",
    "from collections import Counter\n",
    "c = Counter([len(dev_gold[chat_id][i]) for i in dev_gold[chat_id]])\n",
    "c"
   ]
  },
  {
   "cell_type": "code",
   "execution_count": 20,
   "metadata": {},
   "outputs": [
    {
     "name": "stdout",
     "output_type": "stream",
     "text": [
      "------ 0\n",
      "ubottu\n",
      "edbian\n",
      "ubottu\n",
      "ubottu\n",
      "toad\n",
      "------ 1\n",
      "ubottu\n",
      "ubottu\n",
      "ubottu\n",
      "Frantic\n",
      "optiks\n",
      "optiks\n",
      "ubottu\n",
      "ubottu\n",
      "ubottu\n",
      "ubottu\n",
      "------ 2\n",
      "ud\n",
      "phill\n",
      "CPayan\n",
      "phill\n",
      "------ 3\n",
      "allsystemsarego\n",
      "ActionParsnip1\n",
      "ubottu\n",
      "ActionParsnip1\n",
      "ubottu\n",
      "rookeeeeeeeee\n",
      "sinuc\n",
      "sken\n",
      "sinuc\n",
      "sken\n",
      "sken\n",
      "sken\n",
      "ubottu\n",
      "ubottu\n",
      "ubottu\n",
      "BoogieBoo\n",
      "Panarchy\n",
      "BoogieBoo\n",
      "------ 4\n",
      "jasoncohen\n",
      "Raf99\n",
      "f_newton\n",
      "MartenH\n",
      "Nevado\n",
      "linlin\n",
      "jasoncohen\n",
      "MartenH\n",
      "f_newton\n",
      "CircleofChaos\n",
      "f_newton\n",
      "Agamotto\n",
      "------ 5\n",
      "ubottu\n",
      "ubottu\n",
      "eepberries\n",
      "Nytrix\n",
      "ubottu\n",
      "ubottu\n",
      "b1n42y\n",
      "stevr1it\n",
      "ubottu\n",
      "ubottu\n",
      "Silicium\n",
      "Nytrix\n",
      "ubottu\n",
      "Nytrix\n",
      "ubottu\n",
      "ActionParsnip\n",
      "rogerio\n",
      "------ 6\n",
      "nubbe\n",
      "microhaxo\n",
      "microhaxo\n",
      "bob2\n",
      "bob2\n",
      "microhaxo\n",
      "lukus001\n",
      "xabbu|\n",
      "CDK\n",
      "microhaxo\n",
      "floo\n",
      "------ 7\n",
      "ubottu\n",
      "ubottu\n",
      "ubottu\n",
      "ubottu\n",
      "ubottu\n",
      "ubottu\n",
      "ubottu\n",
      "ubottu\n",
      "ubottu\n",
      "ubottu\n",
      "ubottu\n",
      "ubottu\n",
      "ubottu\n",
      "tstebut\n",
      "------ 8\n",
      "L1nuxRules\n",
      "ubottu\n",
      "bonhoffer\n",
      "bonhoffer\n",
      "OttScorp\n",
      "bonhoffer\n",
      "------ 9\n",
      "corba\n",
      "ubottu\n",
      "ubottu\n",
      "ubottu\n",
      "corba\n",
      "MonkeyDust\n",
      "figure002\n",
      "groob\n",
      "total 105\n"
     ]
    },
    {
     "data": {
      "text/plain": [
       "[(ubottu, 40),\n",
       " (sken, 4),\n",
       " (microhaxo, 4),\n",
       " (f_newton, 3),\n",
       " (Nytrix, 3),\n",
       " (bonhoffer, 3),\n",
       " (optiks, 2),\n",
       " (phill, 2),\n",
       " (ActionParsnip1, 2),\n",
       " (sinuc, 2)]"
      ]
     },
     "execution_count": 20,
     "metadata": {},
     "output_type": "execute_result"
    }
   ],
   "source": [
    "# print users for turns with multiple heads\n",
    "all = []\n",
    "for chat_id in range(len(dev_instances)):\n",
    "    print(\"------\",chat_id)\n",
    "    for i in dev_gold[chat_id]: \n",
    "        if len(dev_gold[chat_id][i])>1:\n",
    "            all.append((dev_instances[chat_id][\"lines\"][i].tokens[1]))\n",
    "            print(all[-1])\n",
    "print(\"total\",len(all))        \n",
    "Counter(all).most_common(10)"
   ]
  },
  {
   "cell_type": "code",
   "execution_count": 21,
   "metadata": {},
   "outputs": [],
   "source": [
    "def display_chat(instances,gold,chat_id,start=0,nb=250,file=sys.stdout):\n",
    "    turn_key = \"lines\"\n",
    "    for i,turn in enumerate(instances[chat_id][turn_key][start:start+nb]):\n",
    "        k = i + start\n",
    "        head = gold[chat_id].get(k,\"NONE\")\n",
    "        if head == [k]: head = \"SELF-LOOP\"\n",
    "        print(k,\"->\",head,turn.tokens,file=file)"
   ]
  },
  {
   "cell_type": "code",
   "execution_count": 21,
   "metadata": {},
   "outputs": [
    {
     "name": "stdout",
     "output_type": "stream",
     "text": [
      "0 -> NONE [<, elad, `, >, I, just, got, whatever, got, installed, by, firefox, when, I, first, entered, a, webpage, with, flash, content, .]\n",
      "1 -> NONE [<, ab2qik, >, fccf, ,, Yes]\n",
      "2 -> NONE [<, tavelram, >, genii, ,, ok, ,, there, was, nt, a, 1.5, of, rdesktop, ,, and, I, think, I, solved, my, original, problem, by, switching, to, oss, instead, of, alsa, ,, but, thanks, anyway, .]\n",
      "3 -> [0] [<, thiebaude, >, !, flash]\n",
      "4 -> [3, 0] [<, ubottu, >, To, install, Flash, see, #, http, -, See, also, !, Restricted, and, !, Gnash]\n",
      "5 -> [2] [<, genii, >, tavelram, :, np]\n",
      "6 -> [1] [<, fccf, >, ab2qik, :, please, pastebin, your, fstab, ..., I, 'll, take, a, look]\n",
      "7 -> [6] [<, ab2qik, >, fccf, ,, thanks]\n",
      "8 -> SELF-LOOP [<, xTEMPLARx, >, :D]\n",
      "9 -> [6] [<, ab2qik, >, fccf, ,, sorry, that, s, difficult, since, i, just, get, a, shell]\n",
      "10 -> SELF-LOOP [<, frog, _, >, hi, ,, i, live, in, stud, ., house, ,, i, am, connected, to, swich, and, the, whole, stud, ., house, is, conecctded, to, dsl, ., how, can, i, check, the, parameters, of, this, dsl, (, uplink, /, downlink, ,, traffic, ), ,]\n",
      "11 -> [10] [<, frog, _, >, i, mean, i, have, a, switch, in, my, room, (, where, i, plug, 2, boxes, ), ., and, the, student, house, have, a, dsl]\n",
      "12 -> [9] [<, fccf, >, ab2qik, :, not, so, difficult, if, you, use, pastebinit, ..., see, !, pastebinit]\n",
      "13 -> [12] [<, ab2qik, >, fccf, ,, and, i, m, on, vista, on, this, channel]\n",
      "14 -> [12] [<, fccf, >, !, pastebinit]\n",
      "15 -> [9, 14, 12] [<, ubottu, >, pastebinit, is, the, command, -, line, equivelent, of, !, pastebin, ., Command, output, ,, or, other, text, can, be, redirected, to, pastebinit, ,, which, then, reports, an, URL, containing, the, output, ., Simple, usage, :, command, -, name, |, pastebinit]\n",
      "16 -> [13] [<, fccf, >, ab2qik, :, sudo, apt, -, get, install, pastebinit]\n",
      "17 -> SELF-LOOP [<, kielanmatt, >, hi, guyz]\n",
      "18 -> [16] [<, ab2qik, >, fccf, ,, so, pastebinit, can, be, done, from, shell]\n",
      "19 -> SELF-LOOP [<, kielanmatt, >, is, the, frequency, scaling, governor, ?]\n",
      "20 -> [4] [<, elad, `, >, Do, I, need, to, uninstall, the, opensource, flash, ?]\n",
      "21 -> [18] [<, fccf, >, ab2qik, :, yep]\n",
      "22 -> [19] [<, kielanmatt, >, a, module]\n",
      "23 -> [22] [<, kielanmatt, >, is, the, frequency, scaling, governor, a, module]\n",
      "24 -> [23] [<, kielanmatt, >, like, in, modprobe]\n",
      "25 -> [21] [<, ab2qik, >, fccf, ,, in, that, case, i, m, on, a, dual, boot, machine, and, will, go, out, of, vista, &, into, ubuntu, .]\n",
      "26 -> SELF-LOOP [<, gwydionwaters, >, how, hard, is, it, to, recover, files, deleted, from, a, hdd, ?]\n",
      "27 -> [25] [<, fccf, >, ab2qik, :, ugh, ,, see, ya, soon]\n",
      "28 -> SELF-LOOP [<, sarutobi, >, Hi]\n",
      "29 -> [27] [<, ab2qik, >, fccf, ,, see, ya]\n",
      "30 -> SELF-LOOP [<, sarutobi, >, how, I, can, make, a, short, to, .sh, ?]\n",
      "31 -> [30] [<, gwydionwaters, >, sarutobi, :, in, what, ?, gnome, ?]\n",
      "32 -> [30] [<, Dr_Willis, >, sarutobi, :, drag, it, somewhere, ,, hold, down, alt, .., make, shortcut, ...]\n",
      "33 -> [26] [<, fccf, >, !, undelete, |, gwydionwaters]\n",
      "34 -> [26, 33] [<, ubottu, >, gwydionwaters, :, Some, tools, to, recover, lost, data, are, listed, and, explained, at, #, http, -, Recovering, deleted, files, on, !, ext3, filesystems, can, be, virtually, impossible, ,, although, methods, that, might, work, is, some, cases, are, described, at, at, #, http, and, #, http]\n",
      "35 -> [31] [<, sarutobi, >, gnime]\n",
      "36 -> [32] [<, Dr_Willis, >, sarutobi, :, or, use, the, ', ln, -s, ', command, .]\n",
      "37 -> [35] [<, sarutobi, >, gnome]\n",
      "38 -> [26] [<, fearful, >, gwydionwaters, ,, are, you, using, ext2, or, ext3, ?]\n",
      "39 -> [38] [<, gwydionwaters, >, ext3, i, think]\n",
      "40 -> [39] [<, gwydionwaters, >, :(]\n",
      "41 -> [4] [<, elad, `, >, I, 've, install, the, restricted, flash, ., How, do, I, get, it, working, instead, of, the, opensource, thing, ?]\n",
      "42 -> SELF-LOOP [<, kielanmatt, >, excuse, me]\n",
      "43 -> SELF-LOOP [<, kielanmatt, >, is, the, frequency, governor, a, module, i, can, blacklis, ?]\n",
      "44 -> [41] [<, xTEMPLARx, >, elad, :, I, would, make, sure, via, synaptics, manager, that, ONLY, the, restricted, flash, was, installed]\n",
      "45 -> [41] [<, stefg, >, elad, `, :, have, you, had, installed, swfdec, /, gnash, before, ?]\n",
      "46 -> [36] [<, sarutobi, >, Dr_Willis, :, but, where, ?, sh, /home, /, lucjan, /, Pulpit, /, jurny, -, jarzabek, -, skrypt.sh, for, example]\n",
      "47 -> [45] [<, elad, `, >, stefg, ,, I, do, n't, know, .]\n",
      "48 -> [45] [<, elad, `, >, !, Gnash]\n",
      "49 -> [48, 45] [<, ubottu, >, An, open, source, flash, replacement, ., It, is, still, beta, software, ., For, current, status, or, for, more, info, #, http]\n",
      "50 -> [47] [<, stefg, >, elad, `, :, then, stop, worrying, ..., everything, works]\n",
      "51 -> [46] [<, Dr_Willis, >, sarutobi, you, can, make, a, .sh, executable, and, you, do, nt, need, the, sh, ./whtever, at, the, front, .]\n",
      "52 -> [43] [<, kielanmatt, >, ffs, ?]\n",
      "53 -> [50] [<, elad, `, >, stefg, ,, no, ., I, 'm, getting, the, not, -, so, -, good, opensource, .]\n",
      "54 -> [46] [<, Dr_Willis, >, sarutobi, :, make, it, executable, then, linkit, whever, ya, want, .., Or, just, put, it, in, your, users, ~/bin/, dir, and, itwill, be, in, your, default, path]\n",
      "55 -> SELF-LOOP [<, tstebut, >, hi, ?]\n",
      "56 -> [50] [<, elad, `, >, stefg, ,, the, player, I, get, is, the, opensource, one, ., It, 's, way, less, than, satisfactory, .]\n",
      "57 -> [53] [<, stefg, >, elad, `, :, what, is, telling, you, that, ?]\n",
      "58 -> [39] [<, fearful, >, gwydionwaters, ,, give, me, one, second]\n",
      "59 -> [57] [<, elad, `, >, I, can, see, the, same, bugs, as, before, I, installed, the, restricted, thing, .]\n",
      "60 -> [58] [<, gwydionwaters, >, fearful, :, ok]\n",
      "61 -> [59] [<, stefg, >, elad, `, :, sudo, apt, -, get, autoremove, swfdec, gnash]\n",
      "62 -> SELF-LOOP [<, tstebut, >, Hello]\n",
      "63 -> [56] [<, Dr_Willis, >, Heh, -, No, one, ever, actually, uses, the, open, sourced, flashs, tuff, it, seems]\n",
      "64 -> [43] [<, fccf, >, kielanmatt, :, ', sudo, apt, -, get, remove, powernowd, cpudyn, ', will, remove, the, userspace, freq, scaling, ..., more, info, here, #, http]\n",
      "65 -> [26] [<, fearful, >, gwydionwaters, ,, how, did, you, remove, these, files, ?, rm]\n",
      "66 -> SELF-LOOP [<, tstebut, >, How, can, I, so, if, I, have, a, root, access, without, i, d, nor, su, command, available]\n",
      "67 -> [66] [<, Dr_Willis, >, tstebut, :, ubuntu, uses, ', sudo, ', not, ', su, ']\n",
      "68 -> [66] [<, fccf, >, !, sudo, |, tstebut]\n",
      "69 -> [66, 68] [<, ubottu, >, tstebut, :, sudo, is, a, command, to, run, programs, with, superuser, privileges, (, \", root, \", ), ., Look, at, #, http, for, more, information, ., For, graphical, applications, see, !, gksu, (, Gnome, ,, XFCE, ), ,, or, !, kdesudo, (, KDE, )]\n",
      "70 -> [63] [<, sipior, >, Dr_Willis, :, no, one, ,, at, least, ,, who, wants, to, actually, watch, flash, media, :-)]\n",
      "71 -> [65] [<, gwydionwaters, >, yep, ,, accidental, rm, -R, *, /dir/, *, while, in, the, root, of, my, external, ,, instead, of, rm, -R, /dir/, *]\n",
      "72 -> [61] [<, elad, `, >, Thanks, ., Boy, ,, that, 's, much, better, ., Go, closed, -, source, software, !]\n",
      "73 -> [71] [<, gwydionwaters, >, i, was, half, awake, lol]\n",
      "74 -> [54] [<, sarutobi, >, Dr_Willis, :, I, ca, n't, do, it, ;, /]\n",
      "75 -> [71] [<, sipior, >, gwydionwaters, :, ouch, ., hate, to, see, that, .]\n",
      "76 -> [75] [<, gwydionwaters, >, haha, ya, ,, me, too]\n",
      "77 -> [74] [<, Dr_Willis, >, sarutobi, :, clarify, to, the, channel, what, you, are, wanting, to, do, EXACTLY, ,, and, perhaps, they, can, help, ., sounds, like, what, you, want, to, do, is, a, rather, trivial, thing, .., (, but, its, my, bed, time, )]\n",
      "78 -> [71] [<, gwydionwaters, >, that, 's, the, contents, of, my, zip, more, or, less, ., so, i, could, recover, somehow, or, fix, the, dvd, ,, which, is, not, to, bad, but, my, cd, kit, is, cheap]\n",
      "79 -> [64] [<, kielanmatt, >, fccf, :, I, do, nt, have, these, packages, and, it, still, scles]\n",
      "80 -> SELF-LOOP [<, LucidGuy, >, for, some, reason, my, amsn, seems, to, not, be, able, to, connect, to, the, msn, network, .., any, ideas, ?]\n",
      "81 -> [79] [<, fccf, >, kielanmatt, :, the, link, I, gave, you, has, all, of, the, modules, listed, ,, so, you, can, blacklist, them]\n",
      "82 -> SELF-LOOP [<, loka_18, >, tas]\n",
      "83 -> [80] [<, adnan, >, LucidGuy, ,, you, can, use, pidgin, ,, it, will, do, the, trick]\n",
      "84 -> [39] [<, gwydionwaters, >, fearful, :, i, did, find, this, #, http, but, it, confuses, me, a, bit]\n",
      "85 -> [81] [<, kielanmatt, >, where, is, that, file, for, modprobe, blacklist]\n",
      "86 -> [83] [<, LucidGuy, >, adnan, ,, I, 've, used, pidgin, ..., find, amsn, better, for, msn, networks]\n",
      "87 -> [86] [<, adnan, >, ok]\n",
      "88 -> [67, 69] [<, tstebut, >, I, 'm, affraid, I, do, n't, have, sudo, ..., it, 's, on, a, restricted, system]\n",
      "89 -> [85] [<, fccf, >, kielanmatt, :, if, it, does, n't, exist, you, can, create, it, here, /etc, /, modprobe.d, /, blacklist]\n",
      "90 -> [88] [<, tstebut, >, Linux, indeed, but, minimal, ,, very, minimal]\n",
      "91 -> [86] [<, adnan, >, LucidGuy, ,, try, killing, the, process, and, running, it, again]\n",
      "92 -> [88] [<, Dr_Willis, >, tstebut, :, then, you, may, need, to, check, with, the, admin, about, doing, things, that, need, root, access, .., Ubuntu, sets, up, the, first, user, as, the, ', admin, ;, user, with, sudo, rights, ']\n",
      "93 -> [89] [<, kielanmatt, >, fccf, :, modprobe, -r, removes, them, too, does, nt, it]\n",
      "94 -> [93] [<, fccf, >, kielanmatt, :, only, until, you, reboot]\n",
      "95 -> [79] [<, kielanmatt, >, i, do, nt, have, the, modules, either]\n",
      "96 -> [95] [<, kielanmatt, >, says, it, ca, nt, find, them]\n",
      "97 -> [84] [<, fearful, >, gwydionwaters, ,, do, you, know, how, to, search, with, grep, ?]\n",
      "98 -> [97] [<, gwydionwaters, >, no]\n",
      "99 -> [95] [<, fccf, >, kielanmatt, :, see, section, 5, of, that, page, ..., it, discribes, how, to, lock, the, govenor, to, min, /, max, levels]\n",
      "100 -> [98] [<, fearful, >, e]\n",
      "101 -> SELF-LOOP [<, jered, >, alright, ..., i, could, use, some, help, here, .., i, screwed, up, royally, last, night]\n",
      "102 -> SELF-LOOP [<, RobLoach, >, \", Beta, \", from, #, http, returns, a, 404, .]\n",
      "103 -> [99] [<, kielanmatt, >, THX, fccf]\n",
      "104 -> [102] [<, Pici, >, RobLoach, :, Please, join, #, ubuntu+1, for, Karmic/9.10, support, /, discussion, .]\n",
      "105 -> [104] [<, RobLoach, >, ;-)]\n",
      "106 -> SELF-LOOP [_, server, _, infinit1, is, now, known, as, _, infinite]\n",
      "107 -> [101] [<, fccf, >, !, ask, |, jered]\n",
      "108 -> [101, 107] [<, ubottu, >, jered, :, Please, do, n't, ask, to, ask, a, question, ,, simply, ask, the, question, (, all, on, ONE, line, ,, so, others, can, read, and, follow, it, easily, ), ., If, anyone, knows, the, answer, they, will, most, likely, reply, ., :-)]\n",
      "109 -> [108] [<, jered, >, i, wanted, to, install, ubuntu, on, my, hp, laptop, as, a, dual, boot, last, night, and, for, some, reason, did, nt, select, dual, boot, and, i, believe, it, repartitioned, my, hp, hard, drive, and, wiped, the, restore, for, vista, ...]\n",
      "110 -> [92] [<, tstebut, >, Sorry, I, just, want, to, find, a, turnover, solution, just, to, have, knowledge, of, my, privileges, /, rights, /, roles, /, access, /, whatever, :/]\n",
      "111 -> [110] [<, tstebut, >, hello, ?]\n",
      "112 -> [111] [<, tstebut, >, somebody, can, read, me, ?]\n",
      "113 -> [109] [<, jered, >, not, that, i, want, vista, but, my, wife, is, freaking, out, at, me]\n",
      "114 -> [113] [<, jered, >, ahahha]\n",
      "115 -> [112] [<, xTEMPLARx, >, tstebut, :, i, see, you]\n",
      "116 -> SELF-LOOP [<, acostello, >, what, is, the, default, program, file, store, in, ubuntu, 9.04, ?, if, i, want, to, change, the, default, movie, player, to, vlc, ,, how, would, I, do, that, ?]\n",
      "117 -> SELF-LOOP [<, fale, >, hi]\n",
      "118 -> [109] [<, jered, >, when, i, hit, f11, for, system, restore, when, booting, it, does, nt, even, get, to, the, vista, restore]\n",
      "119 -> [118] [<, jered, >, do, you, think, it, wiped, that, restore, partition, ?]\n",
      "120 -> SELF-LOOP [<, ubuntujenkins, >, is, it, possible, to, have, two, dropbox, accounts, linked, to, my, laptop, at, the, same, time, ?, I, would, like, to, have, one, for, each, group, project, that, we, are, doing, at, uni, .]\n",
      "121 -> [120] [<, ubuntujenkins, >, I, ca, n't, use, ubunru, one, as, it, needs, to, be, crossplatform]\n",
      "122 -> [120] [<, n8tuser, >, ubuntujenkins-, >, what, is, your, definition, of, a, dropbox, ?]\n",
      "123 -> [120] [<, harisund, >, ubuntujenkins, ,, the, dropbox, forums, might, be, a, better, place, for, that, question]\n",
      "124 -> [120] [<, fccf, >, ubuntujenkins, :, what, are, you, using, to, connect, to, dropbox, ?]\n",
      "125 -> [124] [<, ubuntujenkins, >, fccf, the, dropbox, program, from, the, dropbox, website, on, my, jaunty, laptop]\n",
      "126 -> [119] [<, jered, >, thing, that, really, sux, is, i, had, all, my, business, emails, and, so, forth, on, that, partition, and, do, nt, have, a, valid, backup, copy]\n",
      "127 -> SELF-LOOP [_, server, eeexcidd3, is, now, known, as, eeexcid3]\n",
      "128 -> [125] [<, fccf, >, ubuntujenkins, :, have, 2, user, accounts, in, linux, ,, switch, back, and, forth]\n",
      "129 -> SELF-LOOP [<, DuckGod, >, if, i, install, linux, while, it, has, a, intel, network, card, in, it, will, it, not, install, right?like, not, install, the, grub, ?]\n",
      "130 -> [128] [<, ubuntujenkins, >, fccf, one, way, around, it, I, was, thinking, of, a, more, seamless, aproach, ,, but, that, is, the, best, sugestion, yet]\n",
      "131 -> [129] [<, DuckGod, >, if, i, install, linux, while, it, has, a, intel, network, card, in, it, will, it, not, install, right?like, not, install, the, grub, ?]\n",
      "132 -> [131] [<, fccf, >, !, repeat, |, DuckGod]\n",
      "133 -> [131, 132] [<, ubottu, >, DuckGod, :, Do, n't, feel, ignored, and, repeat, your, question, quickly, ;, if, nobody, knows, your, answer, ,, nobody, will, answer, you, ., You, can, search, #, http, or, #, http, while, you, wait, .]\n",
      "134 -> SELF-LOOP [<, tongueroo, >, hey, guys, ,, wondering, ,, so, when, something, gets, compiled, and, built, onto, a, system, ,, eventually, what, results, are, binary, files, and, executables, ,, if, i, were, to, take, the, binary, files, and, executables, and, copy, them, over, to, another, system, with, the, same, architecture, x86, ,, would, they, just, work, ?]\n",
      "135 -> [134] [<, tongueroo, >, i, m, thinking, about, deployments, and, long, compile, times, when, i, need, to, spin, up, a, bunch, of, more, servers]\n",
      "136 -> [134] [<, joaopinto, >, tongueroo, ,, if, you, have, the, same, libraries, for, which, those, binaries, are, linked, to, in, the, other, system, ,, yes]\n",
      "137 -> [134] [<, fccf, >, tongueroo, :, provided, they, are, running, the, same, kernel, ,, have, all, necessarry, libraries, ,, and, dependencies]\n",
      "138 -> [134] [<, joaopinto, >, tongueroo, ,, why, not, just, build, the, .deb, packages, ?]\n",
      "139 -> [136] [<, tongueroo, >, joaopinto, :, ic, ,, actually, we, 're, on, gentoo, in, production]\n",
      "140 -> [115] [<, tstebut, >, xTEMPLARx, thank, you]\n",
      "141 -> [139] [<, joaopinto, >, tongueroo, ,, ah, ok, :, \\]\n",
      "142 -> [139] [<, tongueroo, >, which, tends, to, build, everything, from, source, ,, hence, the, question]\n",
      "143 -> SELF-LOOP [_, server, slamon, is, now, known, as, LaMs]\n",
      "144 -> [139] [<, tongueroo, >, yeah, ,, i, m, in, the, wrong, room, :)]\n",
      "145 -> [139] [<, joaopinto, >, tongueroo, ,, that, might, be, a, problem, ,, do, n't, expect, library, versions, compatibility, between, gentoo, and, ubuntu]\n",
      "146 -> SELF-LOOP [<, yanwei, _, >, it, 's, time, for, sleeping]\n",
      "147 -> [139] [<, joaopinto, >, tongueroo, ,, you, could, setup, an, ubuntu, chroot, on, the, gentoo, server]\n",
      "148 -> [147] [<, tongueroo, >, interesting, ,, k, ,, good, to, know, ,, i, ve, always, have, wondered, that, ,, just, have, nt, had, the, chance, to, try, it, out, yet, :)]\n",
      "149 -> SELF-LOOP [<, huston, >, hey, i, have, another, question, ., in, windows, 64, bit, vista, if, you, install, a, program, that, is, meant, for, a, 32, bit, system, it, goes, into, a, special, program, files, folder, meant, for, 32, bit, programs, ,, does, ubuntu, 64, bit, do, anything, similar, to, this, ?]\n",
      "150 -> [149] [<, joaopinto, >, huston, ,, no, ,, but, you, can, install, 32bits, libraris, so, that, you, can, most, of, the, 32bits, apps, out, there]\n",
      "151 -> [150] [<, joaopinto, >, run, most]\n",
      "152 -> [150] [<, huston, >, ok, ., thx, .]\n",
      "153 -> [147] [<, tongueroo, >, joaopinto, :, interesting, ,, is, chroot, -, ing, similar, to, running, vm, 's, #, http]\n",
      "154 -> [153] [<, joaopinto, >, tongueroo, ,, well, ,, kind, of, ,, ,, it, is, just, virtualized, in, the, filesystem, structure, sense]\n",
      "155 -> SELF-LOOP [<, SeismicMike, >, I, have, vpnc, and, the, Network, Manager, vpnc, plugin, installed, and, can, successfully, connect, to, my, VPN, ,, but, can, not, reach, the, outside, Internet, when, I, 'm, connected, ., Help, ?, I, 'm, running, 9.04]\n",
      "156 -> [154] [<, joaopinto, >, but, because, on, linux, most, of, the, resources, are, file, structure, based, ,, yes, ,, it, behaves, like, a, very, light, vm]\n",
      "157 -> [115] [<, tstebut, >, xTEMPLARx, ,, If, you, still, see, me, ,, do, you, know, a, way, to, know]\n",
      "158 -> [157] [<, xTEMPLARx, >, tstebut, :, I, 'm, sorry, but, i, 'm, not, familiar, with, your, issue, ., :(]\n",
      "159 -> [156] [<, tongueroo, >, ic, ,, cool]\n",
      "160 -> [157] [<, tstebut, >, xTEMPLARx, ,, If, you, still, see, me, ,, do, you, know, a, way, to, know, if, I, have, root, privilege, on, a, device, ,, without, no, su, nor, sudo, nor, i, d, ....]\n",
      "161 -> [158] [<, tstebut, >, Oh, ok]\n",
      "162 -> SELF-LOOP [<, Moae, >, hi, all]\n",
      "163 -> SELF-LOOP [<, dro, >, what, is, a, good, way, to, free, up, space, on, ltsp, server]\n",
      "164 -> [163] [<, dro, >, i, mean, ubuntu, desktop]\n",
      "165 -> SELF-LOOP [<, acostello, >, can, someone, tell, me, how, to, change, the, default, .wav, player, to, vlc, ?]\n",
      "166 -> SELF-LOOP [<, Moae, >, i, have, to, remove, LCDproc, ,, to, make, a, clean, installation, ,, what, command, i, have, to, use, to, remove, completely, the, software, (, i, did, n't, install, it, with, apt, -, get, ,, i, have, compiled, the, packages, )]\n",
      "167 -> [165] [<, torn, >, Right, -, click, on, it, then, go, to, Properties, >, Open, With]\n",
      "168 -> [165] [<, fccf, >, acostello, :, System, >, Preferences, >, PreferredApplications]\n",
      "169 -> SELF-LOOP [<, MoonlitFate, >, I, accidentally, deleted, my, SCIM, icon, and, network, connection, icon, from, the, top, panel, ..., does, anyone, know, how, I, can, get, them, back, ?]\n",
      "170 -> [168] [<, torn, >, fccf, ,, \", Preferred, Applications, \", never, works, for, me, .]\n",
      "171 -> [169] [<, fccf, >, MoonlitFate, :, right, click, on, the, top, bar, ..., Add, To, Panel, .., add, the, applets, back]\n",
      "172 -> [168] [<, acostello, >, fccf, :, that, did, nt, change, it, .]\n",
      "173 -> [155] [<, SeismicMike, >, How, do, I, get, vpnc, to, let, me, access, the, internet, ?]\n",
      "174 -> [166] [<, Moae, >, anyone, can, answer, me, ?, :)]\n",
      "175 -> [26] [<, gwydionwaters, >, anyone, have, any, ideas, on, recovering, rm'd, files, on, ext3, ?]\n",
      "176 -> [171] [<, MoonlitFate, >, fccf, :, I, would, do, that, ,, if, the, applets, were, actually, there, ,, but, they, do, n't, seem, to, be, ., :(]\n",
      "177 -> [166] [<, Madsy, >, Moae, :, sudo, make, uninstall, &, &, make, clean, ?, :-)]\n",
      "178 -> [177] [<, Madsy, >, Open, the, makefile, and, see, what, the, targets, are, .]\n",
      "179 -> [174] [<, Madsy, >, Moae, :, Do, n't, message, people, in, private, please, ., It, 's, considered, rude, by, some, ., Ask, in, the, channel, so, everyone, can, benefit, from, the, discussion, .]\n",
      "180 -> SELF-LOOP [<, sebsebseb, >, hi]\n",
      "181 -> [176] [<, fccf, >, MoonlitFate, :, Network, moniter, should, be, there, ..., as, for, SCIM, .., there, is, a, function, in, System, >, Preferences, >, SCIM, Input, Method, Setup, called, GTK, under, Panel, ...., you, should, be, able, to, do, that, from, there]\n",
      "182 -> [179] [<, Moae, >, Madsy, :, sorry]\n",
      "183 -> [177] [<, Moae, >, Madsy, where, i, have, to, launch, the, command, ?]\n",
      "184 -> SELF-LOOP [<, geos64, >, oooooooooooooooooooooooooo, GOD, PLAEASE, HELP, ME]\n",
      "185 -> [183] [<, Madsy, >, Moae, :, In, the, build, directory, where, the, makefile, is, .]\n",
      "186 -> [185] [<, Madsy, >, You, said, you, compiled, the, application, yourself, .]\n",
      "187 -> [185] [<, Moae, >, ok]\n",
      "188 -> [184] [<, fccf, >, !, help, |, geos64]\n",
      "189 -> [184, 188] [<, ubottu, >, geos64, :, Please, do, n't, ask, to, ask, a, question, ,, simply, ask, the, question, (, all, on, ONE, line, ,, so, others, can, read, and, follow, it, easily, ), ., If, anyone, knows, the, answer, they, will, most, likely, reply, ., :-)]\n",
      "190 -> SELF-LOOP [<, geos64, >, CANE, YOU, HELP, ME, HOW, TO, IN, STALL, 1024X760O]\n",
      "191 -> [190] [<, fccf, >, !, caps]\n",
      "192 -> [190, 191] [<, ubottu, >, PLEASE, DON'T, SHOUT, !, We, can, read, lowercase, too, .]\n",
      "193 -> [190] [<, geos64, >, ON, MY, LINUX]\n",
      "194 -> [193] [<, gwydionwaters, >, !, caps]\n",
      "195 -> [192] [<, geos64, >, ok]\n",
      "196 -> SELF-LOOP [<, fale, >, any, news, about, the, b1, ?]\n",
      "197 -> [196] [<, fccf, >, fale, :, b1, ?, ?]\n",
      "198 -> [190] [<, geos64, >, i, what, fix, my, screen, to, 1024x789]\n",
      "199 -> [197] [<, fale, >, fccf, :, beta, 1, ;)]\n",
      "200 -> [199] [<, fccf, >, !, karmic, |, fale]\n",
      "201 -> [199, 200] [<, ubottu, >, fale, :, Karmic, Koala, is, the, codename, for, Ubuntu, 9.10, ,, due, October, 29th, ,, 2009, -, Karmic, WILL, break, -, Discussion, and, support, in, #, ubuntu+1]\n",
      "202 -> SELF-LOOP [<, bjwebb, >, meow]\n",
      "203 -> [201] [<, fale, >, thankyou, fccf]\n",
      "204 -> [203] [<, fccf, >, fale, :, np]\n",
      "205 -> [198] [<, gwydionwaters, >, geos64, :, what, is, it, now, ?]\n",
      "206 -> SELF-LOOP [<, flucksbawks, >, hey, guys, ..., my, comp, just, decided, to, start, using, oss, instead, of, alsa, ..., alsa, says, connection, refused, to, audio, device, ,, etc, .., someone, wanna, help, ?]\n",
      "207 -> [206] [<, flucksbawks, >, oss, does, n't, work, btw]\n",
      "208 -> [205] [<, geos64, >, my, screen, is, low, and, whant, make, it, to, 1024x789]\n",
      "209 -> [208] [<, fccf, >, 1024x768, is, the, correct]\n",
      "210 -> [209] [<, geos64, >, yes]\n",
      "211 -> [208] [<, fccf, >, geos64, :, you, will, probably, need, to, install, restricted, drivers, for, your, video, card, ..., Do, you, know, what, kind, of, card, you, have, ,, as, in, model, number, and, make]\n",
      "212 -> [211] [<, geos64, >, 1024x768, is, in, my, system]\n",
      "213 -> [207] [<, flucksbawks, >, oh, gosh]\n",
      "214 -> [213] [<, fccf, >, !, patience, |, flucksbawks]\n",
      "215 -> [213, 214] [<, ubottu, >, flucksbawks, :, Do, n't, feel, ignored, and, repeat, your, question, quickly, ;, if, nobody, knows, your, answer, ,, nobody, will, answer, you, ., You, can, search, #, http, or, #, http, while, you, wait, .]\n",
      "216 -> SELF-LOOP [<, jaspion_me, >, --, >, --, >, +, y]\n",
      "217 -> [216] [<, Two4, >, what, was, that, for, ?]\n",
      "218 -> [212] [<, geos64, >, i, install, it, today]\n",
      "219 -> [214] [<, flucksbawks, >, fccf, :, that, s, not, why, I, said, oh, gosh, ...]\n",
      "220 -> [217] [<, jaspion_me, >, Liu, Kang, High, Fireball, Dragon]\n",
      "221 -> [211] [<, stefg, >, !, fixres, |, fccf]\n",
      "222 -> [221, 211] [<, ubottu, >, fccf, :, The, X, Window, System, is, the, part, of, your, system, that, 's, responsible, for, graphical, output, ., To, restart, your, X, ,, type, «, sudo, /etc, /, init.d/?dm, restart, », in, a, console, -, To, fix, screen, resolution, or, other, X, problems, :, #, http]\n",
      "223 -> [220] [<, jaspion_me, >, jajajaja]\n",
      "224 -> [221] [<, fccf, >, stefg, :, not, for, me]\n",
      "225 -> [206] [<, stefg, >, !, sound, |, flucksbawks]\n",
      "226 -> [206, 225] [<, ubottu, >, flucksbawks, :, If, you, 're, having, problems, with, sound, ,, first, ensure, ALSA, is, selected, ,, by, double, clicking, on, the, volume, control, ,, then, File, -, >, Change, Device, (, ALSA, Mixer, ), ., If, that, fails, ,, see, #, http, -, #, http, -, #, http, -, For, playing, audio, files, ,, see, !, Players, and, !, MP3]\n",
      "227 -> [226] [<, flucksbawks, >, stefg, :, I, know, ..., unfortunately, I, 'm, not, running, gnome, .., or, any, DE, for, that, matter]\n",
      "228 -> [227] [<, stefg, >, flucksbawks, :, how, then, that, you, have, oss, installed, ?]\n",
      "229 -> [227] [<, Two4, >, flucksbawks, ,, you, 're, running, from, the, bash, ?]\n",
      "230 -> SELF-LOOP [<, ubunoob, >, hello, i, have, a, little, problem, ,, i, do, n't, know, how, to, change, the, password, of, my, normal, user, ,, because, i, forgett, it, ., i, m, now, connected, with, my, su, -, account, .]\n",
      "231 -> [229] [<, flucksbawks, >, Two4, :, well, ,, its, an, HTPC, that, runs, fluxbox, ,, but, when, I, run, mplayer, from, shell, it, tries, all, ao, 's, ,, and, fails, miserably, with, all, of, them, now]\n",
      "232 -> [230] [<, sebsebseb, >, ubunoob, :, ok, that, 's, easy, enough, to, sort, out]\n",
      "233 -> [230] [<, n8tuser, >, ubunoob-, >, passwd, username]\n",
      "234 -> SELF-LOOP [<, lizzzy, >, My, speakers, work, perfectly, but, front, headphones, wo, n't, work, .]\n",
      "235 -> [231] [<, flucksbawks, >, Two4, :, I, install, pulseaudio, from, source, ,, and, it, did, n't, come, with, an, uninstall, script, =, P]\n",
      "236 -> [230] [<, sebsebseb, >, ubunoob, :, In, the, olden, Ubuntu, days, would, have, to, use, a, Live, CD, to, sort, that, out, ,, but, not, for, the, past, few, or, so, releases, since, recovery, mode]\n",
      "237 -> [235] [<, flucksbawks, >, Two4, :, but, alsa, was, still, working, after, that, for, about, 2, -, 3, months]\n",
      "238 -> [237] [<, stefg, >, flucksbawks, :, have, you, checked, lsmod, that, all, your, (, alsa, ), kernel, modules, are, loaded, ?]\n",
      "239 -> [235] [<, euxneks, >, flucksbawks, :, you, should, be, able, to, make, uninstall, in, your, src, directory]\n",
      "240 -> SELF-LOOP [_, server, kai_62656, _, is, now, known, as, kai_62656]\n",
      "241 -> SELF-LOOP [<, sphenxes, >, what, open, source, VOIP, would, you, recommend, to, use, instead, of, skype, ?, and, also, call, land, line]\n",
      "242 -> SELF-LOOP [<, LobbyZ, >, Is, it, correct, to, call, Ubuntu, a, debian, OS, ?, (, just, say, yes, or, no, )]\n",
      "243 -> SELF-LOOP [_, server, sale, _, is, now, known, as, sale]\n",
      "244 -> [231] [<, Two4, >, flucksbawks, ,, you, lost, me, at, HTPC]\n",
      "245 -> [230] [<, sebsebseb, >, ubunoob, :, boot, it, up, from, Grub, ,, get, the, root, shell, ,, and, passwd, username, ,, or, use, the, Live, CD]\n",
      "246 -> [239] [<, euxneks, >, flucksbawks, :, if, you, wanted, to, remove, something, your, installed, by, src, I, mean]\n",
      "247 -> [234] [<, lizzzy, >, anyone, ?]\n",
      "248 -> [239] [<, flucksbawks, >, euxneks, :, I, tried, that, ,, no, target, to, uninstall]\n",
      "249 -> [248] [<, euxneks, >, d'oh]\n"
     ]
    }
   ],
   "source": [
    "display_chat(dev_instances,dev_gold,chat_id)"
   ]
  },
  {
   "cell_type": "code",
   "execution_count": 43,
   "metadata": {},
   "outputs": [],
   "source": [
    "SAVE=FALSE\n",
    "\n",
    "if SAVE:\n",
    "    with open(\"log.chat\",\"w\") as f_out:\n",
    "        for chat_id in range(len(dev_instances)):\n",
    "            print(\"==============DEV CHAT nb %s =======\"%chat_id,file=f_out)\n",
    "            display_chat(dev_instances,dev_gold,chat_id,file=f_out)"
   ]
  },
  {
   "cell_type": "code",
   "execution_count": 23,
   "metadata": {},
   "outputs": [],
   "source": [
    "#sorted(dev_instances[0][\"arcs\"].indices)"
   ]
  },
  {
   "cell_type": "code",
   "execution_count": 22,
   "metadata": {},
   "outputs": [],
   "source": [
    "from IPython.display import HTML as html_print\n",
    "import pylab as plt\n",
    "\n",
    "def cstr(s, color='black'):\n",
    "    return \"<text style=color:{}>{}</text>\".format(color, s)\n",
    "\n",
    "map = [\"green\",\"blue\",\"yellow\",\"red\",\"gray\",\n",
    "       \"magenta\",\"olive\",\"purple\",\"lightblue\",\"salmon\",\n",
    "       \"orange\",\"teal\",\"tomato\",\"black\"]\n",
    "\n",
    "\n",
    "def print_color(s,color=\"black\"):\n",
    "    display(html_print(cstr(s,color=color)))\n",
    "\n",
    "def gen_color(map,nmax=30):\n",
    "    i = 0\n",
    "    c = 0\n",
    "    nb = len(map)\n",
    "    while c<nmax:\n",
    "        yield map[i]\n",
    "        i = i + 1\n",
    "        if i==nb:\n",
    "            i=0  \n",
    "        c = c + 1\n",
    "        \n",
    "        \n",
    "colors = list(gen_color(map,nmax=250))\n",
    "#colors"
   ]
  },
  {
   "cell_type": "code",
   "execution_count": 23,
   "metadata": {},
   "outputs": [],
   "source": [
    "#for i in gen_color(map): print_color(\"test\",color=i)"
   ]
  },
  {
   "cell_type": "code",
   "execution_count": 30,
   "metadata": {},
   "outputs": [],
   "source": [
    "def display_clusters(dev_instances,dev_gold,chat_id = 0):\n",
    "    clusters = {}\n",
    "    cid = -1\n",
    "    result = []\n",
    "    all_users = []\n",
    "    for i,turn in enumerate(dev_instances[chat_id][\"lines\"]):\n",
    "        head = dev_gold[chat_id].get(i,\"None\")\n",
    "        user = turn.tokens[1]\n",
    "        auto = (head[0]==i) # self-loop\n",
    "        #print(i,head)\n",
    "        if True:\n",
    "            if auto or head==\"None\":\n",
    "                cid += 1\n",
    "                clusters[i] = cid\n",
    "                if auto: \n",
    "                    symbol = \"X\"\n",
    "                else:\n",
    "                    symbol = \"x\"\n",
    "            else:\n",
    "                clusters[i] = clusters[head[0]]\n",
    "                symbol = \"■\"\n",
    "            color = colors[clusters[i]]\n",
    "            result.append(cstr(symbol,color=color))\n",
    "            if i%50==0:\n",
    "                result.append(\"\\n\")\n",
    "    return clusters, html_print(\"\".join(result))\n"
   ]
  },
  {
   "cell_type": "code",
   "execution_count": 31,
   "metadata": {},
   "outputs": [
    {
     "data": {
      "text/html": [
       "<text style=color:green>x</text>\n",
       "<text style=color:green>■</text><text style=color:blue>x</text><text style=color:yellow>x</text><text style=color:yellow>■</text><text style=color:red>X</text><text style=color:blue>■</text><text style=color:yellow>■</text><text style=color:yellow>■</text><text style=color:yellow>■</text><text style=color:yellow>■</text><text style=color:gray>X</text><text style=color:yellow>■</text><text style=color:blue>■</text><text style=color:yellow>■</text><text style=color:yellow>■</text><text style=color:magenta>X</text><text style=color:blue>■</text><text style=color:yellow>■</text><text style=color:red>■</text><text style=color:magenta>■</text><text style=color:yellow>■</text><text style=color:olive>X</text><text style=color:yellow>■</text><text style=color:olive>■</text><text style=color:yellow>■</text><text style=color:purple>X</text><text style=color:olive>■</text><text style=color:lightblue>X</text><text style=color:yellow>■</text><text style=color:olive>■</text><text style=color:olive>■</text><text style=color:olive>■</text><text style=color:lightblue>■</text><text style=color:magenta>■</text><text style=color:olive>■</text><text style=color:yellow>■</text><text style=color:lightblue>■</text><text style=color:olive>■</text><text style=color:olive>■</text><text style=color:yellow>■</text><text style=color:olive>■</text><text style=color:olive>■</text><text style=color:olive>■</text><text style=color:olive>■</text><text style=color:yellow>■</text><text style=color:olive>■</text><text style=color:olive>■</text><text style=color:yellow>■</text><text style=color:salmon>x</text><text style=color:olive>■</text>\n",
       "<text style=color:orange>X</text><text style=color:olive>■</text><text style=color:blue>■</text><text style=color:olive>■</text><text style=color:blue>■</text><text style=color:blue>■</text><text style=color:blue>■</text><text style=color:blue>■</text><text style=color:blue>■</text><text style=color:blue>■</text><text style=color:olive>■</text><text style=color:olive>■</text><text style=color:blue>■</text><text style=color:yellow>■</text><text style=color:blue>■</text><text style=color:olive>■</text><text style=color:olive>■</text><text style=color:blue>■</text><text style=color:blue>■</text><text style=color:olive>■</text><text style=color:blue>■</text><text style=color:olive>■</text><text style=color:yellow>■</text><text style=color:olive>■</text><text style=color:olive>■</text><text style=color:olive>■</text><text style=color:yellow>■</text><text style=color:olive>■</text><text style=color:yellow>■</text><text style=color:yellow>■</text><text style=color:olive>■</text><text style=color:teal>X</text><text style=color:olive>■</text><text style=color:olive>■</text><text style=color:olive>■</text><text style=color:olive>■</text><text style=color:olive>■</text><text style=color:teal>■</text><text style=color:teal>■</text><text style=color:teal>■</text><text style=color:olive>■</text><text style=color:teal>■</text><text style=color:olive>■</text><text style=color:olive>■</text><text style=color:teal>■</text><text style=color:teal>■</text><text style=color:olive>■</text><text style=color:teal>■</text><text style=color:olive>■</text><text style=color:tomato>X</text>\n",
       "<text style=color:olive>■</text><text style=color:tomato>■</text><text style=color:olive>■</text><text style=color:black>x</text><text style=color:teal>■</text><text style=color:olive>■</text><text style=color:olive>■</text><text style=color:teal>■</text><text style=color:tomato>■</text><text style=color:teal>■</text><text style=color:teal>■</text><text style=color:teal>■</text><text style=color:teal>■</text><text style=color:teal>■</text><text style=color:green>x</text><text style=color:teal>■</text><text style=color:blue>X</text><text style=color:teal>■</text><text style=color:yellow>x</text><text style=color:teal>■</text><text style=color:teal>■</text><text style=color:olive>■</text><text style=color:olive>■</text><text style=color:teal>■</text><text style=color:blue>■</text><text style=color:red>X</text><text style=color:olive>■</text><text style=color:red>■</text><text style=color:red>■</text><text style=color:red>■</text><text style=color:red>■</text><text style=color:gray>X</text><text style=color:magenta>X</text><text style=color:gray>■</text><text style=color:blue>■</text><text style=color:magenta>■</text><text style=color:blue>■</text><text style=color:magenta>■</text><text style=color:teal>■</text><text style=color:blue>■</text><text style=color:blue>■</text><text style=color:blue>■</text><text style=color:blue>■</text><text style=color:blue>■</text><text style=color:magenta>■</text><text style=color:blue>■</text><text style=color:blue>■</text><text style=color:teal>■</text><text style=color:teal>■</text><text style=color:teal>■</text>\n",
       "<text style=color:olive>■</text><text style=color:olive>X</text><text style=color:teal>■</text><text style=color:olive>■</text><text style=color:olive>■</text><text style=color:teal>■</text><text style=color:teal>■</text><text style=color:teal>■</text><text style=color:teal>■</text><text style=color:red>■</text><text style=color:teal>■</text><text style=color:teal>■</text><text style=color:teal>■</text><text style=color:purple>X</text><text style=color:red>■</text><text style=color:lightblue>X</text><text style=color:olive>■</text><text style=color:teal>■</text><text style=color:salmon>X</text><text style=color:olive>■</text><text style=color:red>■</text><text style=color:teal>■</text><text style=color:orange>X</text><text style=color:teal>X</text><text style=color:tomato>X</text><text style=color:teal>■</text><text style=color:blue>■</text><text style=color:teal>■</text><text style=color:lightblue>■</text><text style=color:teal>■</text><text style=color:teal>■</text><text style=color:black>X</text><text style=color:olive>■</text><text style=color:teal>■</text><text style=color:lightblue>■</text><text style=color:teal>■</text><text style=color:lightblue>■</text><text style=color:green>X</text><text style=color:blue>X</text><text style=color:lightblue>■</text><text style=color:teal>■</text><text style=color:olive>■</text><text style=color:teal>■</text><text style=color:olive>■</text><text style=color:lightblue>■</text><text style=color:olive>■</text><text style=color:blue>■</text><text style=color:blue>■</text><text style=color:blue>■</text><text style=color:teal>■</text>\n",
       "<text style=color:teal>■</text><text style=color:yellow>X</text><text style=color:yellow>■</text><text style=color:yellow>■</text><text style=color:yellow>■</text><text style=color:lightblue>■</text><text style=color:teal>■</text><text style=color:red>X</text><text style=color:red>■</text><text style=color:olive>■</text><text style=color:lightblue>■</text><text style=color:lightblue>■</text><text style=color:lightblue>■</text><text style=color:olive>■</text><text style=color:lightblue>■</text><text style=color:lightblue>■</text><text style=color:yellow>■</text><text style=color:olive>■</text><text style=color:red>■</text><text style=color:gray>X</text><text style=color:gray>■</text><text style=color:red>■</text><text style=color:yellow>■</text><text style=color:olive>■</text><text style=color:olive>■</text><text style=color:olive>■</text><text style=color:olive>■</text><text style=color:red>■</text><text style=color:olive>■</text><text style=color:olive>■</text><text style=color:red>■</text><text style=color:magenta>X</text><text style=color:olive>x</text><text style=color:teal>■</text><text style=color:red>■</text><text style=color:olive>■</text><text style=color:teal>■</text><text style=color:teal>■</text><text style=color:olive>■</text><text style=color:purple>X</text><text style=color:teal>■</text><text style=color:olive>■</text><text style=color:teal>■</text><text style=color:teal>■</text><text style=color:olive>■</text><text style=color:olive>■</text><text style=color:olive>■</text><text style=color:teal>■</text><text style=color:olive>■</text>"
      ],
      "text/plain": [
       "<IPython.core.display.HTML object>"
      ]
     },
     "execution_count": 31,
     "metadata": {},
     "output_type": "execute_result"
    }
   ],
   "source": [
    "clusters, figure = display_clusters(dev_instances,dev_gold,1)\n",
    "figure"
   ]
  },
  {
   "cell_type": "code",
   "execution_count": 32,
   "metadata": {},
   "outputs": [
    {
     "data": {
      "text/plain": [
       "(array([15.,  4.,  3.,  4.,  4.,  3.,  1.,  1.,  1.,  0.]),\n",
       " array([  1,   2,   3,   4,   5,  10,  20,  40,  60, 100, 250]),\n",
       " <BarContainer object of 10 artists>)"
      ]
     },
     "execution_count": 32,
     "metadata": {},
     "output_type": "execute_result"
    },
    {
     "data": {
      "image/png": "[encoded data removed]",
      "text/plain": [
       "<Figure size 432x288 with 1 Axes>"
      ]
     },
     "metadata": {
      "needs_background": "light"
     },
     "output_type": "display_data"
    }
   ],
   "source": [
    "plt.hist(list((Counter(clusters.values()).values())),bins=[1,2,3,4,5,10,20,40,60,100,250])"
   ]
  },
  {
   "cell_type": "code",
   "execution_count": 33,
   "metadata": {},
   "outputs": [
    {
     "name": "stdout",
     "output_type": "stream",
     "text": [
      "cluster  0 --- 44  clusters found\n"
     ]
    },
    {
     "data": {
      "text/html": [
       "<text style=color:green>X</text>\n",
       "<text style=color:blue>x</text><text style=color:yellow>x</text><text style=color:green>■</text><text style=color:yellow>■</text><text style=color:yellow>■</text><text style=color:green>■</text><text style=color:blue>■</text><text style=color:green>■</text><text style=color:yellow>■</text><text style=color:green>■</text><text style=color:green>■</text><text style=color:yellow>■</text><text style=color:blue>■</text><text style=color:blue>■</text><text style=color:green>■</text><text style=color:red>X</text><text style=color:yellow>■</text><text style=color:gray>X</text><text style=color:gray>■</text><text style=color:gray>■</text><text style=color:magenta>X</text><text style=color:magenta>■</text><text style=color:gray>■</text><text style=color:gray>■</text><text style=color:gray>■</text><text style=color:gray>■</text><text style=color:gray>■</text><text style=color:olive>X</text><text style=color:gray>■</text><text style=color:gray>■</text><text style=color:gray>■</text><text style=color:purple>X</text><text style=color:lightblue>X</text><text style=color:gray>■</text><text style=color:gray>■</text><text style=color:salmon>X</text><text style=color:orange>X</text><text style=color:purple>■</text><text style=color:gray>■</text><text style=color:teal>X</text><text style=color:tomato>X</text><text style=color:gray>■</text><text style=color:gray>■</text><text style=color:gray>■</text><text style=color:gray>■</text><text style=color:gray>■</text><text style=color:black>X</text><text style=color:black>■</text><text style=color:gray>■</text><text style=color:black>■</text>\n",
       "<text style=color:black>■</text><text style=color:black>■</text><text style=color:green>X</text><text style=color:black>■</text><text style=color:black>■</text><text style=color:black>■</text><text style=color:black>■</text><text style=color:blue>X</text><text style=color:black>■</text><text style=color:black>■</text><text style=color:black>■</text><text style=color:black>■</text><text style=color:black>■</text><text style=color:black>■</text><text style=color:black>■</text><text style=color:black>■</text><text style=color:yellow>X</text><text style=color:black>■</text><text style=color:yellow>■</text><text style=color:black>■</text><text style=color:red>X</text><text style=color:black>■</text><text style=color:gray>X</text><text style=color:gray>■</text><text style=color:black>■</text><text style=color:gray>■</text><text style=color:gray>■</text><text style=color:gray>■</text><text style=color:black>■</text><text style=color:gray>■</text><text style=color:gray>■</text><text style=color:gray>■</text><text style=color:gray>■</text><text style=color:magenta>X</text><text style=color:gray>■</text><text style=color:gray>■</text><text style=color:gray>■</text><text style=color:black>■</text><text style=color:gray>■</text><text style=color:olive>X</text><text style=color:black>■</text><text style=color:gray>■</text><text style=color:black>■</text><text style=color:black>■</text><text style=color:purple>X</text><text style=color:black>■</text><text style=color:purple>■</text><text style=color:black>■</text><text style=color:black>■</text><text style=color:lightblue>X</text>\n",
       "<text style=color:black>■</text><text style=color:black>■</text><text style=color:salmon>X</text><text style=color:lightblue>■</text><text style=color:black>■</text><text style=color:black>■</text><text style=color:orange>X</text><text style=color:black>■</text><text style=color:black>■</text><text style=color:lightblue>■</text><text style=color:black>■</text><text style=color:lightblue>■</text><text style=color:black>■</text><text style=color:orange>■</text><text style=color:orange>■</text><text style=color:black>■</text><text style=color:lightblue>■</text><text style=color:orange>■</text><text style=color:orange>■</text><text style=color:black>■</text><text style=color:lightblue>■</text><text style=color:orange>■</text><text style=color:black>■</text><text style=color:teal>X</text><text style=color:lightblue>■</text><text style=color:black>■</text><text style=color:black>■</text><text style=color:black>■</text><text style=color:black>■</text><text style=color:black>■</text><text style=color:lightblue>■</text><text style=color:black>■</text><text style=color:black>■</text><text style=color:lightblue>■</text><text style=color:teal>■</text><text style=color:black>■</text><text style=color:black>■</text><text style=color:lightblue>■</text><text style=color:lightblue>■</text><text style=color:black>■</text><text style=color:black>■</text><text style=color:tomato>X</text><text style=color:lightblue>■</text><text style=color:black>■</text><text style=color:lightblue>■</text><text style=color:lightblue>■</text><text style=color:lightblue>■</text><text style=color:black>■</text><text style=color:black>X</text><text style=color:black>■</text>\n",
       "<text style=color:black>■</text><text style=color:black>■</text><text style=color:black>■</text><text style=color:black>■</text><text style=color:black>■</text><text style=color:black>■</text><text style=color:black>■</text><text style=color:green>X</text><text style=color:black>■</text><text style=color:green>■</text><text style=color:black>■</text><text style=color:blue>X</text><text style=color:black>■</text><text style=color:yellow>X</text><text style=color:black>■</text><text style=color:red>X</text><text style=color:gray>X</text><text style=color:red>■</text><text style=color:black>■</text><text style=color:black>■</text><text style=color:red>■</text><text style=color:black>■</text><text style=color:red>■</text><text style=color:red>■</text><text style=color:red>■</text><text style=color:black>■</text><text style=color:blue>■</text><text style=color:magenta>X</text><text style=color:yellow>■</text><text style=color:blue>■</text><text style=color:olive>X</text><text style=color:purple>X</text><text style=color:red>■</text><text style=color:yellow>■</text><text style=color:red>■</text><text style=color:yellow>■</text><text style=color:red>■</text><text style=color:yellow>■</text><text style=color:red>■</text><text style=color:yellow>■</text><text style=color:lightblue>X</text><text style=color:salmon>X</text><text style=color:red>■</text><text style=color:orange>X</text><text style=color:black>■</text><text style=color:lightblue>■</text><text style=color:black>■</text><text style=color:green>■</text><text style=color:red>■</text><text style=color:teal>X</text>\n",
       "<text style=color:black>■</text><text style=color:teal>■</text><text style=color:teal>■</text><text style=color:lightblue>■</text><text style=color:red>■</text><text style=color:lightblue>■</text><text style=color:red>■</text><text style=color:teal>■</text><text style=color:yellow>■</text><text style=color:lightblue>■</text><text style=color:teal>■</text><text style=color:teal>■</text><text style=color:teal>■</text><text style=color:teal>■</text><text style=color:red>■</text><text style=color:lightblue>■</text><text style=color:tomato>X</text><text style=color:yellow>■</text><text style=color:red>■</text><text style=color:yellow>■</text><text style=color:yellow>■</text><text style=color:black>X</text><text style=color:green>X</text><text style=color:yellow>■</text><text style=color:red>■</text><text style=color:yellow>■</text><text style=color:teal>■</text><text style=color:teal>■</text><text style=color:teal>■</text><text style=color:teal>■</text><text style=color:teal>■</text><text style=color:teal>■</text><text style=color:red>■</text><text style=color:teal>■</text><text style=color:teal>■</text><text style=color:teal>■</text><text style=color:teal>■</text><text style=color:teal>■</text><text style=color:teal>■</text><text style=color:teal>■</text><text style=color:teal>■</text><text style=color:black>■</text><text style=color:teal>■</text><text style=color:teal>■</text><text style=color:teal>■</text><text style=color:blue>X</text><text style=color:teal>■</text><text style=color:teal>■</text><text style=color:teal>■</text>"
      ],
      "text/plain": [
       "<IPython.core.display.HTML object>"
      ]
     },
     "metadata": {},
     "output_type": "display_data"
    },
    {
     "name": "stdout",
     "output_type": "stream",
     "text": [
      "cluster  1 --- 36  clusters found\n"
     ]
    },
    {
     "data": {
      "text/html": [
       "<text style=color:green>x</text>\n",
       "<text style=color:green>■</text><text style=color:blue>x</text><text style=color:yellow>x</text><text style=color:yellow>■</text><text style=color:red>X</text><text style=color:blue>■</text><text style=color:yellow>■</text><text style=color:yellow>■</text><text style=color:yellow>■</text><text style=color:yellow>■</text><text style=color:gray>X</text><text style=color:yellow>■</text><text style=color:blue>■</text><text style=color:yellow>■</text><text style=color:yellow>■</text><text style=color:magenta>X</text><text style=color:blue>■</text><text style=color:yellow>■</text><text style=color:red>■</text><text style=color:magenta>■</text><text style=color:yellow>■</text><text style=color:olive>X</text><text style=color:yellow>■</text><text style=color:olive>■</text><text style=color:yellow>■</text><text style=color:purple>X</text><text style=color:olive>■</text><text style=color:lightblue>X</text><text style=color:yellow>■</text><text style=color:olive>■</text><text style=color:olive>■</text><text style=color:olive>■</text><text style=color:lightblue>■</text><text style=color:magenta>■</text><text style=color:olive>■</text><text style=color:yellow>■</text><text style=color:lightblue>■</text><text style=color:olive>■</text><text style=color:olive>■</text><text style=color:yellow>■</text><text style=color:olive>■</text><text style=color:olive>■</text><text style=color:olive>■</text><text style=color:olive>■</text><text style=color:yellow>■</text><text style=color:olive>■</text><text style=color:olive>■</text><text style=color:yellow>■</text><text style=color:salmon>x</text><text style=color:olive>■</text>\n",
       "<text style=color:orange>X</text><text style=color:olive>■</text><text style=color:blue>■</text><text style=color:olive>■</text><text style=color:blue>■</text><text style=color:blue>■</text><text style=color:blue>■</text><text style=color:blue>■</text><text style=color:blue>■</text><text style=color:blue>■</text><text style=color:olive>■</text><text style=color:olive>■</text><text style=color:blue>■</text><text style=color:yellow>■</text><text style=color:blue>■</text><text style=color:olive>■</text><text style=color:olive>■</text><text style=color:blue>■</text><text style=color:blue>■</text><text style=color:olive>■</text><text style=color:blue>■</text><text style=color:olive>■</text><text style=color:yellow>■</text><text style=color:olive>■</text><text style=color:olive>■</text><text style=color:olive>■</text><text style=color:yellow>■</text><text style=color:olive>■</text><text style=color:yellow>■</text><text style=color:yellow>■</text><text style=color:olive>■</text><text style=color:teal>X</text><text style=color:olive>■</text><text style=color:olive>■</text><text style=color:olive>■</text><text style=color:olive>■</text><text style=color:olive>■</text><text style=color:teal>■</text><text style=color:teal>■</text><text style=color:teal>■</text><text style=color:olive>■</text><text style=color:teal>■</text><text style=color:olive>■</text><text style=color:olive>■</text><text style=color:teal>■</text><text style=color:teal>■</text><text style=color:olive>■</text><text style=color:teal>■</text><text style=color:olive>■</text><text style=color:tomato>X</text>\n",
       "<text style=color:olive>■</text><text style=color:tomato>■</text><text style=color:olive>■</text><text style=color:black>x</text><text style=color:teal>■</text><text style=color:olive>■</text><text style=color:olive>■</text><text style=color:teal>■</text><text style=color:tomato>■</text><text style=color:teal>■</text><text style=color:teal>■</text><text style=color:teal>■</text><text style=color:teal>■</text><text style=color:teal>■</text><text style=color:green>x</text><text style=color:teal>■</text><text style=color:blue>X</text><text style=color:teal>■</text><text style=color:yellow>x</text><text style=color:teal>■</text><text style=color:teal>■</text><text style=color:olive>■</text><text style=color:olive>■</text><text style=color:teal>■</text><text style=color:blue>■</text><text style=color:red>X</text><text style=color:olive>■</text><text style=color:red>■</text><text style=color:red>■</text><text style=color:red>■</text><text style=color:red>■</text><text style=color:gray>X</text><text style=color:magenta>X</text><text style=color:gray>■</text><text style=color:blue>■</text><text style=color:magenta>■</text><text style=color:blue>■</text><text style=color:magenta>■</text><text style=color:teal>■</text><text style=color:blue>■</text><text style=color:blue>■</text><text style=color:blue>■</text><text style=color:blue>■</text><text style=color:blue>■</text><text style=color:magenta>■</text><text style=color:blue>■</text><text style=color:blue>■</text><text style=color:teal>■</text><text style=color:teal>■</text><text style=color:teal>■</text>\n",
       "<text style=color:olive>■</text><text style=color:olive>X</text><text style=color:teal>■</text><text style=color:olive>■</text><text style=color:olive>■</text><text style=color:teal>■</text><text style=color:teal>■</text><text style=color:teal>■</text><text style=color:teal>■</text><text style=color:red>■</text><text style=color:teal>■</text><text style=color:teal>■</text><text style=color:teal>■</text><text style=color:purple>X</text><text style=color:red>■</text><text style=color:lightblue>X</text><text style=color:olive>■</text><text style=color:teal>■</text><text style=color:salmon>X</text><text style=color:olive>■</text><text style=color:red>■</text><text style=color:teal>■</text><text style=color:orange>X</text><text style=color:teal>X</text><text style=color:tomato>X</text><text style=color:teal>■</text><text style=color:blue>■</text><text style=color:teal>■</text><text style=color:lightblue>■</text><text style=color:teal>■</text><text style=color:teal>■</text><text style=color:black>X</text><text style=color:olive>■</text><text style=color:teal>■</text><text style=color:lightblue>■</text><text style=color:teal>■</text><text style=color:lightblue>■</text><text style=color:green>X</text><text style=color:blue>X</text><text style=color:lightblue>■</text><text style=color:teal>■</text><text style=color:olive>■</text><text style=color:teal>■</text><text style=color:olive>■</text><text style=color:lightblue>■</text><text style=color:olive>■</text><text style=color:blue>■</text><text style=color:blue>■</text><text style=color:blue>■</text><text style=color:teal>■</text>\n",
       "<text style=color:teal>■</text><text style=color:yellow>X</text><text style=color:yellow>■</text><text style=color:yellow>■</text><text style=color:yellow>■</text><text style=color:lightblue>■</text><text style=color:teal>■</text><text style=color:red>X</text><text style=color:red>■</text><text style=color:olive>■</text><text style=color:lightblue>■</text><text style=color:lightblue>■</text><text style=color:lightblue>■</text><text style=color:olive>■</text><text style=color:lightblue>■</text><text style=color:lightblue>■</text><text style=color:yellow>■</text><text style=color:olive>■</text><text style=color:red>■</text><text style=color:gray>X</text><text style=color:gray>■</text><text style=color:red>■</text><text style=color:yellow>■</text><text style=color:olive>■</text><text style=color:olive>■</text><text style=color:olive>■</text><text style=color:olive>■</text><text style=color:red>■</text><text style=color:olive>■</text><text style=color:olive>■</text><text style=color:red>■</text><text style=color:magenta>X</text><text style=color:olive>x</text><text style=color:teal>■</text><text style=color:red>■</text><text style=color:olive>■</text><text style=color:teal>■</text><text style=color:teal>■</text><text style=color:olive>■</text><text style=color:purple>X</text><text style=color:teal>■</text><text style=color:olive>■</text><text style=color:teal>■</text><text style=color:teal>■</text><text style=color:olive>■</text><text style=color:olive>■</text><text style=color:olive>■</text><text style=color:teal>■</text><text style=color:olive>■</text>"
      ],
      "text/plain": [
       "<IPython.core.display.HTML object>"
      ]
     },
     "metadata": {},
     "output_type": "display_data"
    },
    {
     "name": "stdout",
     "output_type": "stream",
     "text": [
      "cluster  2 --- 66  clusters found\n"
     ]
    },
    {
     "data": {
      "text/html": [
       "<text style=color:green>X</text>\n",
       "<text style=color:blue>X</text><text style=color:yellow>X</text><text style=color:yellow>■</text><text style=color:yellow>■</text><text style=color:yellow>■</text><text style=color:yellow>■</text><text style=color:yellow>■</text><text style=color:yellow>■</text><text style=color:yellow>■</text><text style=color:yellow>■</text><text style=color:yellow>■</text><text style=color:yellow>■</text><text style=color:yellow>■</text><text style=color:red>X</text><text style=color:gray>X</text><text style=color:magenta>X</text><text style=color:olive>X</text><text style=color:purple>X</text><text style=color:lightblue>X</text><text style=color:salmon>X</text><text style=color:purple>■</text><text style=color:orange>X</text><text style=color:purple>■</text><text style=color:purple>■</text><text style=color:purple>■</text><text style=color:purple>■</text><text style=color:purple>■</text><text style=color:purple>■</text><text style=color:purple>■</text><text style=color:purple>■</text><text style=color:teal>X</text><text style=color:purple>■</text><text style=color:purple>■</text><text style=color:tomato>X</text><text style=color:purple>■</text><text style=color:black>X</text><text style=color:green>X</text><text style=color:black>■</text><text style=color:blue>X</text><text style=color:black>■</text><text style=color:yellow>X</text><text style=color:black>■</text><text style=color:black>■</text><text style=color:red>X</text><text style=color:black>■</text><text style=color:black>■</text><text style=color:purple>■</text><text style=color:gray>X</text><text style=color:purple>■</text><text style=color:purple>■</text>\n",
       "<text style=color:magenta>X</text><text style=color:purple>■</text><text style=color:gray>■</text><text style=color:magenta>■</text><text style=color:magenta>■</text><text style=color:magenta>■</text><text style=color:magenta>■</text><text style=color:magenta>■</text><text style=color:magenta>■</text><text style=color:olive>X</text><text style=color:magenta>■</text><text style=color:magenta>■</text><text style=color:magenta>■</text><text style=color:magenta>■</text><text style=color:magenta>■</text><text style=color:magenta>■</text><text style=color:magenta>■</text><text style=color:purple>X</text><text style=color:magenta>■</text><text style=color:magenta>■</text><text style=color:lightblue>X</text><text style=color:magenta>■</text><text style=color:salmon>X</text><text style=color:magenta>■</text><text style=color:orange>X</text><text style=color:teal>X</text><text style=color:tomato>X</text><text style=color:black>X</text><text style=color:purple>■</text><text style=color:green>X</text><text style=color:purple>■</text><text style=color:blue>X</text><text style=color:blue>■</text><text style=color:blue>■</text><text style=color:blue>■</text><text style=color:blue>■</text><text style=color:yellow>x</text><text style=color:blue>■</text><text style=color:blue>■</text><text style=color:yellow>■</text><text style=color:red>X</text><text style=color:yellow>■</text><text style=color:yellow>■</text><text style=color:yellow>■</text><text style=color:yellow>■</text><text style=color:yellow>■</text><text style=color:yellow>■</text><text style=color:yellow>■</text><text style=color:yellow>■</text><text style=color:yellow>■</text>\n",
       "<text style=color:yellow>■</text><text style=color:yellow>■</text><text style=color:yellow>■</text><text style=color:yellow>■</text><text style=color:yellow>■</text><text style=color:yellow>■</text><text style=color:yellow>■</text><text style=color:yellow>■</text><text style=color:yellow>■</text><text style=color:yellow>■</text><text style=color:yellow>■</text><text style=color:yellow>■</text><text style=color:yellow>■</text><text style=color:yellow>■</text><text style=color:yellow>■</text><text style=color:yellow>■</text><text style=color:yellow>■</text><text style=color:yellow>■</text><text style=color:yellow>■</text><text style=color:yellow>■</text><text style=color:yellow>■</text><text style=color:yellow>■</text><text style=color:yellow>■</text><text style=color:yellow>■</text><text style=color:yellow>■</text><text style=color:gray>X</text><text style=color:yellow>■</text><text style=color:yellow>■</text><text style=color:yellow>■</text><text style=color:magenta>X</text><text style=color:magenta>■</text><text style=color:yellow>■</text><text style=color:yellow>■</text><text style=color:yellow>■</text><text style=color:olive>X</text><text style=color:yellow>■</text><text style=color:magenta>■</text><text style=color:magenta>■</text><text style=color:yellow>■</text><text style=color:yellow>■</text><text style=color:magenta>■</text><text style=color:purple>X</text><text style=color:yellow>■</text><text style=color:magenta>■</text><text style=color:lightblue>X</text><text style=color:magenta>■</text><text style=color:magenta>■</text><text style=color:magenta>■</text><text style=color:salmon>X</text><text style=color:magenta>■</text>\n",
       "<text style=color:magenta>■</text><text style=color:magenta>■</text><text style=color:orange>X</text><text style=color:teal>X</text><text style=color:blue>■</text><text style=color:blue>■</text><text style=color:magenta>■</text><text style=color:orange>■</text><text style=color:magenta>■</text><text style=color:magenta>■</text><text style=color:tomato>X</text><text style=color:black>X</text><text style=color:magenta>■</text><text style=color:magenta>■</text><text style=color:magenta>■</text><text style=color:magenta>■</text><text style=color:magenta>■</text><text style=color:magenta>■</text><text style=color:magenta>■</text><text style=color:magenta>■</text><text style=color:green>X</text><text style=color:blue>X</text><text style=color:magenta>■</text><text style=color:yellow>X</text><text style=color:red>X</text><text style=color:magenta>■</text><text style=color:magenta>■</text><text style=color:magenta>■</text><text style=color:magenta>■</text><text style=color:gray>X</text><text style=color:magenta>X</text><text style=color:olive>X</text><text style=color:magenta>■</text><text style=color:magenta>■</text><text style=color:magenta>■</text><text style=color:magenta>■</text><text style=color:magenta>■</text><text style=color:magenta>■</text><text style=color:magenta>■</text><text style=color:magenta>■</text><text style=color:magenta>■</text><text style=color:purple>X</text><text style=color:lightblue>X</text><text style=color:lightblue>■</text><text style=color:lightblue>■</text><text style=color:salmon>X</text><text style=color:salmon>■</text><text style=color:orange>X</text><text style=color:salmon>■</text><text style=color:salmon>■</text>\n",
       "<text style=color:salmon>■</text><text style=color:lightblue>■</text><text style=color:salmon>■</text><text style=color:salmon>■</text><text style=color:teal>X</text><text style=color:salmon>■</text><text style=color:salmon>■</text><text style=color:tomato>X</text><text style=color:lightblue>■</text><text style=color:lightblue>■</text><text style=color:lightblue>■</text><text style=color:lightblue>■</text><text style=color:lightblue>■</text><text style=color:black>X</text><text style=color:green>X</text><text style=color:blue>X</text><text style=color:yellow>X</text><text style=color:lightblue>■</text><text style=color:red>X</text><text style=color:lightblue>■</text><text style=color:black>■</text><text style=color:lightblue>■</text><text style=color:lightblue>■</text><text style=color:lightblue>■</text><text style=color:lightblue>■</text><text style=color:gray>X</text><text style=color:lightblue>■</text><text style=color:magenta>X</text><text style=color:salmon>■</text><text style=color:olive>X</text><text style=color:purple>X</text><text style=color:lightblue>X</text><text style=color:salmon>■</text><text style=color:salmon>■</text><text style=color:salmon>X</text><text style=color:salmon>■</text><text style=color:salmon>■</text><text style=color:lightblue>■</text><text style=color:lightblue>■</text><text style=color:lightblue>■</text><text style=color:lightblue>■</text><text style=color:salmon>■</text><text style=color:purple>■</text><text style=color:lightblue>■</text><text style=color:lightblue>■</text><text style=color:purple>■</text><text style=color:purple>■</text><text style=color:purple>■</text><text style=color:salmon>■</text>"
      ],
      "text/plain": [
       "<IPython.core.display.HTML object>"
      ]
     },
     "metadata": {},
     "output_type": "display_data"
    },
    {
     "name": "stdout",
     "output_type": "stream",
     "text": [
      "cluster  3 --- 47  clusters found\n"
     ]
    },
    {
     "data": {
      "text/html": [
       "<text style=color:green>x</text>\n",
       "<text style=color:blue>X</text><text style=color:blue>■</text><text style=color:yellow>x</text><text style=color:yellow>■</text><text style=color:red>X</text><text style=color:yellow>■</text><text style=color:gray>X</text><text style=color:green>■</text><text style=color:gray>■</text><text style=color:gray>■</text><text style=color:gray>■</text><text style=color:magenta>x</text><text style=color:olive>X</text><text style=color:olive>■</text><text style=color:olive>■</text><text style=color:olive>■</text><text style=color:purple>X</text><text style=color:gray>■</text><text style=color:lightblue>X</text><text style=color:olive>■</text><text style=color:salmon>X</text><text style=color:orange>X</text><text style=color:olive>■</text><text style=color:salmon>■</text><text style=color:olive>■</text><text style=color:teal>X</text><text style=color:salmon>■</text><text style=color:salmon>■</text><text style=color:yellow>■</text><text style=color:orange>■</text><text style=color:teal>■</text><text style=color:yellow>■</text><text style=color:teal>■</text><text style=color:yellow>■</text><text style=color:orange>■</text><text style=color:teal>■</text><text style=color:tomato>X</text><text style=color:teal>■</text><text style=color:black>X</text><text style=color:teal>■</text><text style=color:green>X</text><text style=color:green>■</text><text style=color:teal>■</text><text style=color:teal>■</text><text style=color:teal>■</text><text style=color:blue>X</text><text style=color:teal>■</text><text style=color:black>■</text><text style=color:yellow>■</text><text style=color:yellow>X</text>\n",
       "<text style=color:black>■</text><text style=color:black>■</text><text style=color:blue>■</text><text style=color:salmon>■</text><text style=color:red>X</text><text style=color:gray>X</text><text style=color:salmon>■</text><text style=color:yellow>■</text><text style=color:yellow>■</text><text style=color:magenta>X</text><text style=color:yellow>■</text><text style=color:yellow>■</text><text style=color:salmon>■</text><text style=color:magenta>■</text><text style=color:magenta>■</text><text style=color:magenta>■</text><text style=color:salmon>■</text><text style=color:yellow>■</text><text style=color:magenta>■</text><text style=color:magenta>■</text><text style=color:yellow>■</text><text style=color:yellow>■</text><text style=color:yellow>■</text><text style=color:olive>X</text><text style=color:yellow>■</text><text style=color:yellow>■</text><text style=color:yellow>■</text><text style=color:yellow>■</text><text style=color:purple>X</text><text style=color:magenta>■</text><text style=color:magenta>■</text><text style=color:purple>■</text><text style=color:purple>■</text><text style=color:yellow>■</text><text style=color:purple>■</text><text style=color:magenta>■</text><text style=color:magenta>■</text><text style=color:lightblue>X</text><text style=color:purple>■</text><text style=color:salmon>X</text><text style=color:purple>■</text><text style=color:lightblue>■</text><text style=color:lightblue>■</text><text style=color:purple>■</text><text style=color:purple>■</text><text style=color:teal>■</text><text style=color:orange>X</text><text style=color:purple>■</text><text style=color:teal>■</text><text style=color:purple>■</text>\n",
       "<text style=color:purple>■</text><text style=color:purple>■</text><text style=color:teal>X</text><text style=color:purple>■</text><text style=color:teal>■</text><text style=color:teal>■</text><text style=color:teal>■</text><text style=color:teal>■</text><text style=color:teal>■</text><text style=color:teal>■</text><text style=color:teal>■</text><text style=color:teal>■</text><text style=color:teal>■</text><text style=color:purple>■</text><text style=color:purple>■</text><text style=color:teal>■</text><text style=color:teal>■</text><text style=color:teal>■</text><text style=color:teal>■</text><text style=color:teal>■</text><text style=color:teal>■</text><text style=color:tomato>X</text><text style=color:green>■</text><text style=color:tomato>■</text><text style=color:purple>■</text><text style=color:teal>■</text><text style=color:teal>■</text><text style=color:tomato>■</text><text style=color:teal>■</text><text style=color:teal>■</text><text style=color:teal>■</text><text style=color:black>X</text><text style=color:purple>■</text><text style=color:green>X</text><text style=color:green>■</text><text style=color:blue>X</text><text style=color:blue>■</text><text style=color:teal>■</text><text style=color:teal>■</text><text style=color:teal>■</text><text style=color:teal>■</text><text style=color:teal>■</text><text style=color:yellow>X</text><text style=color:teal>■</text><text style=color:yellow>■</text><text style=color:teal>■</text><text style=color:red>X</text><text style=color:red>■</text><text style=color:red>■</text><text style=color:yellow>■</text>\n",
       "<text style=color:purple>■</text><text style=color:black>■</text><text style=color:red>■</text><text style=color:gray>X</text><text style=color:magenta>X</text><text style=color:olive>X</text><text style=color:teal>■</text><text style=color:yellow>■</text><text style=color:purple>X</text><text style=color:olive>■</text><text style=color:purple>■</text><text style=color:purple>■</text><text style=color:purple>■</text><text style=color:purple>■</text><text style=color:purple>■</text><text style=color:purple>■</text><text style=color:purple>■</text><text style=color:lightblue>X</text><text style=color:purple>■</text><text style=color:red>■</text><text style=color:red>■</text><text style=color:purple>■</text><text style=color:purple>■</text><text style=color:purple>■</text><text style=color:salmon>X</text><text style=color:salmon>■</text><text style=color:salmon>■</text><text style=color:salmon>■</text><text style=color:salmon>■</text><text style=color:salmon>■</text><text style=color:orange>X</text><text style=color:lightblue>■</text><text style=color:orange>■</text><text style=color:teal>X</text><text style=color:tomato>X</text><text style=color:teal>■</text><text style=color:lightblue>■</text><text style=color:teal>■</text><text style=color:teal>■</text><text style=color:teal>■</text><text style=color:lightblue>■</text><text style=color:black>X</text><text style=color:black>■</text><text style=color:green>X</text><text style=color:black>■</text><text style=color:black>■</text><text style=color:lightblue>■</text><text style=color:blue>X</text><text style=color:black>■</text><text style=color:lightblue>■</text>\n",
       "<text style=color:lightblue>■</text><text style=color:lightblue>■</text><text style=color:lightblue>■</text><text style=color:teal>■</text><text style=color:teal>■</text><text style=color:yellow>X</text><text style=color:black>■</text><text style=color:teal>■</text><text style=color:yellow>■</text><text style=color:green>■</text><text style=color:green>■</text><text style=color:lightblue>■</text><text style=color:black>■</text><text style=color:green>■</text><text style=color:black>■</text><text style=color:lightblue>■</text><text style=color:black>■</text><text style=color:red>X</text><text style=color:teal>■</text><text style=color:black>■</text><text style=color:teal>■</text><text style=color:red>■</text><text style=color:yellow>■</text><text style=color:teal>■</text><text style=color:teal>■</text><text style=color:teal>■</text><text style=color:yellow>■</text><text style=color:teal>■</text><text style=color:gray>X</text><text style=color:teal>■</text><text style=color:red>■</text><text style=color:black>■</text><text style=color:red>■</text><text style=color:yellow>■</text><text style=color:teal>■</text><text style=color:yellow>■</text><text style=color:teal>■</text><text style=color:teal>■</text><text style=color:teal>■</text><text style=color:teal>■</text><text style=color:red>■</text><text style=color:black>■</text><text style=color:black>■</text><text style=color:black>■</text><text style=color:black>■</text><text style=color:black>■</text><text style=color:black>■</text><text style=color:black>■</text>"
      ],
      "text/plain": [
       "<IPython.core.display.HTML object>"
      ]
     },
     "metadata": {},
     "output_type": "display_data"
    },
    {
     "name": "stdout",
     "output_type": "stream",
     "text": [
      "cluster  4 --- 74  clusters found\n"
     ]
    },
    {
     "data": {
      "text/html": [
       "<text style=color:green>X</text>\n",
       "<text style=color:blue>x</text><text style=color:yellow>x</text><text style=color:yellow>■</text><text style=color:red>x</text><text style=color:gray>X</text><text style=color:red>■</text><text style=color:red>■</text><text style=color:red>■</text><text style=color:red>■</text><text style=color:magenta>X</text><text style=color:olive>X</text><text style=color:green>■</text><text style=color:purple>X</text><text style=color:red>■</text><text style=color:green>■</text><text style=color:red>■</text><text style=color:yellow>■</text><text style=color:lightblue>x</text><text style=color:red>■</text><text style=color:red>■</text><text style=color:salmon>X</text><text style=color:orange>X</text><text style=color:red>■</text><text style=color:red>■</text><text style=color:red>■</text><text style=color:red>■</text><text style=color:teal>X</text><text style=color:tomato>X</text><text style=color:red>■</text><text style=color:red>■</text><text style=color:orange>■</text><text style=color:red>■</text><text style=color:black>X</text><text style=color:black>■</text><text style=color:green>X</text><text style=color:yellow>■</text><text style=color:blue>X</text><text style=color:yellow>X</text><text style=color:yellow>■</text><text style=color:red>X</text><text style=color:yellow>■</text><text style=color:gray>X</text><text style=color:green>■</text><text style=color:red>■</text><text style=color:red>■</text><text style=color:green>■</text><text style=color:yellow>■</text><text style=color:red>■</text><text style=color:red>■</text><text style=color:magenta>X</text>\n",
       "<text style=color:olive>X</text><text style=color:red>■</text><text style=color:yellow>■</text><text style=color:purple>X</text><text style=color:yellow>■</text><text style=color:yellow>■</text><text style=color:magenta>■</text><text style=color:yellow>■</text><text style=color:yellow>■</text><text style=color:yellow>■</text><text style=color:black>■</text><text style=color:yellow>■</text><text style=color:yellow>■</text><text style=color:yellow>■</text><text style=color:yellow>■</text><text style=color:magenta>■</text><text style=color:yellow>■</text><text style=color:green>■</text><text style=color:yellow>■</text><text style=color:yellow>■</text><text style=color:magenta>■</text><text style=color:magenta>■</text><text style=color:black>■</text><text style=color:lightblue>X</text><text style=color:salmon>X</text><text style=color:magenta>■</text><text style=color:yellow>■</text><text style=color:magenta>■</text><text style=color:green>■</text><text style=color:magenta>■</text><text style=color:magenta>■</text><text style=color:magenta>■</text><text style=color:orange>X</text><text style=color:green>■</text><text style=color:teal>X</text><text style=color:magenta>■</text><text style=color:magenta>■</text><text style=color:magenta>■</text><text style=color:tomato>X</text><text style=color:black>X</text><text style=color:magenta>■</text><text style=color:green>■</text><text style=color:magenta>■</text><text style=color:magenta>■</text><text style=color:green>■</text><text style=color:magenta>■</text><text style=color:magenta>■</text><text style=color:magenta>■</text><text style=color:magenta>■</text><text style=color:magenta>■</text>\n",
       "<text style=color:magenta>■</text><text style=color:green>X</text><text style=color:salmon>■</text><text style=color:salmon>■</text><text style=color:blue>X</text><text style=color:magenta>■</text><text style=color:yellow>X</text><text style=color:red>X</text><text style=color:blue>■</text><text style=color:blue>■</text><text style=color:blue>■</text><text style=color:blue>■</text><text style=color:gray>X</text><text style=color:green>■</text><text style=color:magenta>X</text><text style=color:olive>X</text><text style=color:blue>■</text><text style=color:blue>■</text><text style=color:blue>■</text><text style=color:purple>X</text><text style=color:lightblue>X</text><text style=color:blue>■</text><text style=color:blue>■</text><text style=color:salmon>■</text><text style=color:blue>■</text><text style=color:green>■</text><text style=color:blue>■</text><text style=color:salmon>X</text><text style=color:salmon>■</text><text style=color:green>■</text><text style=color:salmon>■</text><text style=color:orange>X</text><text style=color:green>■</text><text style=color:teal>X</text><text style=color:salmon>■</text><text style=color:green>■</text><text style=color:blue>■</text><text style=color:tomato>X</text><text style=color:salmon>■</text><text style=color:blue>■</text><text style=color:green>■</text><text style=color:black>X</text><text style=color:black>■</text><text style=color:blue>■</text><text style=color:green>■</text><text style=color:tomato>■</text><text style=color:blue>■</text><text style=color:green>X</text><text style=color:salmon>■</text><text style=color:blue>X</text>\n",
       "<text style=color:tomato>■</text><text style=color:yellow>X</text><text style=color:salmon>■</text><text style=color:tomato>■</text><text style=color:red>X</text><text style=color:gray>X</text><text style=color:gray>■</text><text style=color:magenta>X</text><text style=color:salmon>■</text><text style=color:magenta>■</text><text style=color:magenta>■</text><text style=color:green>■</text><text style=color:blue>■</text><text style=color:olive>X</text><text style=color:blue>■</text><text style=color:salmon>■</text><text style=color:purple>X</text><text style=color:salmon>■</text><text style=color:lightblue>X</text><text style=color:salmon>X</text><text style=color:orange>X</text><text style=color:teal>X</text><text style=color:lightblue>■</text><text style=color:salmon>■</text><text style=color:tomato>X</text><text style=color:orange>■</text><text style=color:blue>■</text><text style=color:salmon>■</text><text style=color:black>■</text><text style=color:tomato>■</text><text style=color:black>X</text><text style=color:salmon>■</text><text style=color:green>■</text><text style=color:blue>■</text><text style=color:orange>■</text><text style=color:salmon>■</text><text style=color:teal>■</text><text style=color:tomato>■</text><text style=color:tomato>■</text><text style=color:tomato>■</text><text style=color:blue>■</text><text style=color:tomato>■</text><text style=color:green>■</text><text style=color:tomato>■</text><text style=color:blue>■</text><text style=color:orange>■</text><text style=color:green>X</text><text style=color:blue>■</text><text style=color:orange>■</text><text style=color:orange>■</text>\n",
       "<text style=color:salmon>■</text><text style=color:salmon>■</text><text style=color:lightblue>■</text><text style=color:orange>■</text><text style=color:salmon>■</text><text style=color:blue>■</text><text style=color:green>■</text><text style=color:blue>X</text><text style=color:yellow>X</text><text style=color:green>■</text><text style=color:red>X</text><text style=color:lightblue>■</text><text style=color:blue>■</text><text style=color:salmon>■</text><text style=color:gray>X</text><text style=color:lightblue>■</text><text style=color:lightblue>■</text><text style=color:tomato>■</text><text style=color:magenta>X</text><text style=color:salmon>■</text><text style=color:blue>■</text><text style=color:olive>X</text><text style=color:blue>■</text><text style=color:blue>■</text><text style=color:orange>■</text><text style=color:green>■</text><text style=color:blue>■</text><text style=color:blue>■</text><text style=color:purple>X</text><text style=color:lightblue>X</text><text style=color:blue>■</text><text style=color:salmon>X</text><text style=color:green>■</text><text style=color:salmon>■</text><text style=color:salmon>■</text><text style=color:green>■</text><text style=color:green>■</text><text style=color:salmon>■</text><text style=color:green>■</text><text style=color:orange>X</text><text style=color:green>■</text><text style=color:teal>X</text><text style=color:tomato>X</text><text style=color:teal>■</text><text style=color:black>X</text><text style=color:green>X</text><text style=color:blue>X</text><text style=color:yellow>X</text><text style=color:red>X</text>"
      ],
      "text/plain": [
       "<IPython.core.display.HTML object>"
      ]
     },
     "metadata": {},
     "output_type": "display_data"
    },
    {
     "name": "stdout",
     "output_type": "stream",
     "text": [
      "cluster  5 --- 58  clusters found\n"
     ]
    },
    {
     "data": {
      "text/html": [
       "<text style=color:green>x</text>\n",
       "<text style=color:green>■</text><text style=color:blue>X</text><text style=color:yellow>x</text><text style=color:blue>■</text><text style=color:blue>■</text><text style=color:blue>■</text><text style=color:yellow>■</text><text style=color:blue>■</text><text style=color:yellow>■</text><text style=color:blue>■</text><text style=color:red>X</text><text style=color:blue>■</text><text style=color:blue>■</text><text style=color:blue>■</text><text style=color:blue>■</text><text style=color:blue>■</text><text style=color:blue>■</text><text style=color:yellow>■</text><text style=color:yellow>■</text><text style=color:blue>■</text><text style=color:blue>■</text><text style=color:blue>■</text><text style=color:blue>■</text><text style=color:blue>■</text><text style=color:blue>■</text><text style=color:blue>■</text><text style=color:blue>■</text><text style=color:gray>X</text><text style=color:yellow>■</text><text style=color:yellow>■</text><text style=color:blue>■</text><text style=color:blue>■</text><text style=color:yellow>■</text><text style=color:yellow>■</text><text style=color:magenta>X</text><text style=color:yellow>■</text><text style=color:magenta>■</text><text style=color:yellow>■</text><text style=color:yellow>■</text><text style=color:yellow>■</text><text style=color:olive>X</text><text style=color:magenta>■</text><text style=color:yellow>■</text><text style=color:magenta>■</text><text style=color:yellow>■</text><text style=color:yellow>■</text><text style=color:magenta>■</text><text style=color:yellow>■</text><text style=color:magenta>■</text><text style=color:magenta>■</text>\n",
       "<text style=color:purple>X</text><text style=color:yellow>■</text><text style=color:lightblue>X</text><text style=color:magenta>■</text><text style=color:salmon>x</text><text style=color:lightblue>■</text><text style=color:lightblue>■</text><text style=color:magenta>■</text><text style=color:yellow>■</text><text style=color:yellow>■</text><text style=color:blue>■</text><text style=color:blue>■</text><text style=color:yellow>■</text><text style=color:blue>■</text><text style=color:yellow>■</text><text style=color:yellow>■</text><text style=color:blue>■</text><text style=color:yellow>■</text><text style=color:blue>■</text><text style=color:blue>■</text><text style=color:blue>■</text><text style=color:blue>■</text><text style=color:blue>■</text><text style=color:blue>■</text><text style=color:blue>■</text><text style=color:orange>x</text><text style=color:blue>■</text><text style=color:blue>■</text><text style=color:teal>x</text><text style=color:tomato>X</text><text style=color:black>X</text><text style=color:black>■</text><text style=color:green>X</text><text style=color:orange>■</text><text style=color:orange>■</text><text style=color:green>■</text><text style=color:green>■</text><text style=color:green>■</text><text style=color:green>■</text><text style=color:blue>X</text><text style=color:blue>■</text><text style=color:green>■</text><text style=color:green>■</text><text style=color:green>■</text><text style=color:orange>■</text><text style=color:yellow>X</text><text style=color:orange>■</text><text style=color:green>■</text><text style=color:green>■</text><text style=color:orange>■</text>\n",
       "<text style=color:green>■</text><text style=color:green>■</text><text style=color:green>■</text><text style=color:green>■</text><text style=color:green>■</text><text style=color:green>■</text><text style=color:green>■</text><text style=color:red>X</text><text style=color:red>■</text><text style=color:red>■</text><text style=color:gray>X</text><text style=color:green>■</text><text style=color:green>■</text><text style=color:green>■</text><text style=color:gray>■</text><text style=color:green>■</text><text style=color:magenta>X</text><text style=color:magenta>■</text><text style=color:green>■</text><text style=color:olive>X</text><text style=color:magenta>■</text><text style=color:magenta>■</text><text style=color:magenta>■</text><text style=color:purple>X</text><text style=color:lightblue>X</text><text style=color:salmon>X</text><text style=color:orange>X</text><text style=color:orange>■</text><text style=color:teal>X</text><text style=color:tomato>X</text><text style=color:black>X</text><text style=color:black>■</text><text style=color:black>■</text><text style=color:green>■</text><text style=color:black>■</text><text style=color:green>X</text><text style=color:blue>X</text><text style=color:black>■</text><text style=color:blue>■</text><text style=color:blue>■</text><text style=color:blue>■</text><text style=color:blue>■</text><text style=color:blue>■</text><text style=color:blue>■</text><text style=color:blue>■</text><text style=color:blue>■</text><text style=color:blue>■</text><text style=color:blue>■</text><text style=color:blue>■</text><text style=color:blue>■</text>\n",
       "<text style=color:blue>■</text><text style=color:blue>■</text><text style=color:blue>■</text><text style=color:blue>■</text><text style=color:blue>■</text><text style=color:blue>■</text><text style=color:blue>■</text><text style=color:blue>■</text><text style=color:yellow>X</text><text style=color:blue>■</text><text style=color:blue>■</text><text style=color:blue>■</text><text style=color:blue>■</text><text style=color:blue>■</text><text style=color:red>X</text><text style=color:blue>■</text><text style=color:gray>X</text><text style=color:blue>■</text><text style=color:blue>■</text><text style=color:blue>■</text><text style=color:blue>■</text><text style=color:green>■</text><text style=color:magenta>X</text><text style=color:magenta>■</text><text style=color:magenta>■</text><text style=color:magenta>■</text><text style=color:olive>X</text><text style=color:purple>X</text><text style=color:lightblue>X</text><text style=color:salmon>X</text><text style=color:magenta>■</text><text style=color:salmon>■</text><text style=color:salmon>■</text><text style=color:magenta>■</text><text style=color:salmon>■</text><text style=color:magenta>■</text><text style=color:gray>■</text><text style=color:salmon>■</text><text style=color:green>■</text><text style=color:magenta>■</text><text style=color:magenta>■</text><text style=color:gray>■</text><text style=color:gray>■</text><text style=color:orange>X</text><text style=color:magenta>■</text><text style=color:magenta>■</text><text style=color:teal>X</text><text style=color:red>■</text><text style=color:teal>■</text><text style=color:purple>■</text>\n",
       "<text style=color:teal>■</text><text style=color:teal>■</text><text style=color:tomato>X</text><text style=color:tomato>■</text><text style=color:gray>■</text><text style=color:gray>■</text><text style=color:black>X</text><text style=color:gray>■</text><text style=color:gray>■</text><text style=color:green>X</text><text style=color:tomato>■</text><text style=color:tomato>■</text><text style=color:gray>■</text><text style=color:blue>X</text><text style=color:tomato>■</text><text style=color:yellow>X</text><text style=color:red>X</text><text style=color:gray>X</text><text style=color:tomato>■</text><text style=color:tomato>■</text><text style=color:gray>■</text><text style=color:red>■</text><text style=color:magenta>X</text><text style=color:olive>X</text><text style=color:purple>X</text><text style=color:red>■</text><text style=color:lightblue>X</text><text style=color:salmon>X</text><text style=color:tomato>■</text><text style=color:tomato>■</text><text style=color:orange>X</text><text style=color:tomato>■</text><text style=color:teal>X</text><text style=color:olive>■</text><text style=color:orange>■</text><text style=color:tomato>X</text><text style=color:orange>■</text><text style=color:orange>■</text><text style=color:orange>■</text><text style=color:orange>■</text><text style=color:olive>■</text><text style=color:black>X</text><text style=color:black>■</text><text style=color:green>X</text><text style=color:magenta>■</text><text style=color:blue>X</text><text style=color:purple>■</text><text style=color:magenta>■</text><text style=color:purple>■</text>"
      ],
      "text/plain": [
       "<IPython.core.display.HTML object>"
      ]
     },
     "metadata": {},
     "output_type": "display_data"
    },
    {
     "name": "stdout",
     "output_type": "stream",
     "text": [
      "cluster  6 --- 45  clusters found\n"
     ]
    },
    {
     "data": {
      "text/html": [
       "<text style=color:green>X</text>\n",
       "<text style=color:blue>x</text><text style=color:green>■</text><text style=color:green>■</text><text style=color:green>■</text><text style=color:yellow>x</text><text style=color:yellow>■</text><text style=color:yellow>■</text><text style=color:yellow>■</text><text style=color:yellow>■</text><text style=color:yellow>■</text><text style=color:yellow>■</text><text style=color:yellow>■</text><text style=color:yellow>■</text><text style=color:yellow>■</text><text style=color:red>X</text><text style=color:yellow>■</text><text style=color:yellow>■</text><text style=color:gray>X</text><text style=color:yellow>■</text><text style=color:yellow>■</text><text style=color:magenta>X</text><text style=color:magenta>■</text><text style=color:magenta>■</text><text style=color:yellow>■</text><text style=color:magenta>■</text><text style=color:olive>X</text><text style=color:yellow>■</text><text style=color:magenta>■</text><text style=color:purple>x</text><text style=color:lightblue>X</text><text style=color:salmon>X</text><text style=color:purple>■</text><text style=color:orange>X</text><text style=color:magenta>■</text><text style=color:purple>■</text><text style=color:purple>■</text><text style=color:purple>■</text><text style=color:teal>X</text><text style=color:tomato>X</text><text style=color:black>X</text><text style=color:yellow>■</text><text style=color:tomato>■</text><text style=color:green>X</text><text style=color:yellow>■</text><text style=color:yellow>■</text><text style=color:yellow>■</text><text style=color:yellow>■</text><text style=color:blue>X</text><text style=color:black>■</text><text style=color:yellow>■</text>\n",
       "<text style=color:yellow>■</text><text style=color:tomato>■</text><text style=color:yellow>■</text><text style=color:tomato>■</text><text style=color:tomato>■</text><text style=color:yellow>X</text><text style=color:yellow>■</text><text style=color:yellow>■</text><text style=color:green>■</text><text style=color:purple>■</text><text style=color:magenta>■</text><text style=color:yellow>■</text><text style=color:black>■</text><text style=color:tomato>■</text><text style=color:yellow>■</text><text style=color:green>■</text><text style=color:yellow>■</text><text style=color:green>■</text><text style=color:black>■</text><text style=color:black>■</text><text style=color:yellow>■</text><text style=color:tomato>■</text><text style=color:tomato>■</text><text style=color:green>■</text><text style=color:yellow>■</text><text style=color:yellow>■</text><text style=color:magenta>■</text><text style=color:magenta>■</text><text style=color:yellow>■</text><text style=color:yellow>■</text><text style=color:red>X</text><text style=color:tomato>■</text><text style=color:yellow>■</text><text style=color:yellow>■</text><text style=color:gray>X</text><text style=color:tomato>■</text><text style=color:green>■</text><text style=color:gray>■</text><text style=color:tomato>■</text><text style=color:tomato>■</text><text style=color:magenta>X</text><text style=color:tomato>■</text><text style=color:magenta>■</text><text style=color:olive>X</text><text style=color:purple>X</text><text style=color:magenta>■</text><text style=color:lightblue>X</text><text style=color:olive>■</text><text style=color:magenta>■</text><text style=color:olive>■</text>\n",
       "<text style=color:salmon>X</text><text style=color:magenta>■</text><text style=color:tomato>■</text><text style=color:orange>X</text><text style=color:tomato>■</text><text style=color:tomato>■</text><text style=color:teal>X</text><text style=color:magenta>■</text><text style=color:tomato>X</text><text style=color:magenta>■</text><text style=color:magenta>■</text><text style=color:magenta>■</text><text style=color:magenta>■</text><text style=color:magenta>■</text><text style=color:magenta>■</text><text style=color:magenta>■</text><text style=color:magenta>■</text><text style=color:magenta>■</text><text style=color:magenta>■</text><text style=color:magenta>■</text><text style=color:tomato>■</text><text style=color:black>X</text><text style=color:magenta>■</text><text style=color:tomato>■</text><text style=color:magenta>■</text><text style=color:tomato>■</text><text style=color:magenta>■</text><text style=color:magenta>■</text><text style=color:tomato>■</text><text style=color:magenta>■</text><text style=color:magenta>■</text><text style=color:tomato>■</text><text style=color:magenta>■</text><text style=color:green>X</text><text style=color:tomato>■</text><text style=color:tomato>■</text><text style=color:magenta>■</text><text style=color:tomato>■</text><text style=color:tomato>■</text><text style=color:blue>X</text><text style=color:yellow>x</text><text style=color:magenta>■</text><text style=color:magenta>■</text><text style=color:red>X</text><text style=color:gray>X</text><text style=color:magenta>X</text><text style=color:magenta>■</text><text style=color:olive>X</text><text style=color:magenta>■</text><text style=color:purple>X</text>\n",
       "<text style=color:magenta>■</text><text style=color:magenta>■</text><text style=color:lightblue>X</text><text style=color:magenta>■</text><text style=color:magenta>■</text><text style=color:magenta>■</text><text style=color:magenta>■</text><text style=color:magenta>■</text><text style=color:magenta>■</text><text style=color:magenta>■</text><text style=color:magenta>■</text><text style=color:magenta>■</text><text style=color:magenta>■</text><text style=color:magenta>■</text><text style=color:magenta>■</text><text style=color:magenta>■</text><text style=color:magenta>■</text><text style=color:magenta>■</text><text style=color:salmon>X</text><text style=color:magenta>■</text><text style=color:magenta>■</text><text style=color:magenta>■</text><text style=color:magenta>■</text><text style=color:magenta>■</text><text style=color:magenta>■</text><text style=color:orange>X</text><text style=color:magenta>■</text><text style=color:magenta>■</text><text style=color:magenta>■</text><text style=color:magenta>■</text><text style=color:magenta>■</text><text style=color:magenta>■</text><text style=color:magenta>■</text><text style=color:magenta>■</text><text style=color:magenta>■</text><text style=color:magenta>■</text><text style=color:magenta>■</text><text style=color:magenta>■</text><text style=color:magenta>■</text><text style=color:magenta>■</text><text style=color:magenta>■</text><text style=color:magenta>■</text><text style=color:teal>X</text><text style=color:magenta>■</text><text style=color:magenta>■</text><text style=color:magenta>■</text><text style=color:magenta>■</text><text style=color:tomato>X</text><text style=color:black>X</text><text style=color:green>X</text>\n",
       "<text style=color:lightblue>■</text><text style=color:green>■</text><text style=color:lightblue>■</text><text style=color:green>■</text><text style=color:green>■</text><text style=color:green>■</text><text style=color:lightblue>■</text><text style=color:green>■</text><text style=color:green>■</text><text style=color:green>■</text><text style=color:green>■</text><text style=color:green>■</text><text style=color:green>■</text><text style=color:blue>X</text><text style=color:green>■</text><text style=color:blue>■</text><text style=color:blue>■</text><text style=color:blue>■</text><text style=color:blue>■</text><text style=color:blue>■</text><text style=color:blue>■</text><text style=color:blue>■</text><text style=color:blue>■</text><text style=color:blue>■</text><text style=color:blue>■</text><text style=color:blue>■</text><text style=color:blue>■</text><text style=color:blue>■</text><text style=color:blue>■</text><text style=color:magenta>■</text><text style=color:blue>■</text><text style=color:blue>■</text><text style=color:blue>■</text><text style=color:blue>■</text><text style=color:blue>■</text><text style=color:blue>■</text><text style=color:blue>■</text><text style=color:blue>■</text><text style=color:yellow>X</text><text style=color:blue>■</text><text style=color:blue>■</text><text style=color:blue>■</text><text style=color:blue>■</text><text style=color:blue>■</text><text style=color:yellow>■</text><text style=color:blue>■</text><text style=color:yellow>■</text><text style=color:blue>■</text><text style=color:yellow>■</text>"
      ],
      "text/plain": [
       "<IPython.core.display.HTML object>"
      ]
     },
     "metadata": {},
     "output_type": "display_data"
    },
    {
     "name": "stdout",
     "output_type": "stream",
     "text": [
      "cluster  7 --- 48  clusters found\n"
     ]
    },
    {
     "data": {
      "text/html": [
       "<text style=color:green>x</text>\n",
       "<text style=color:blue>x</text><text style=color:yellow>x</text><text style=color:green>■</text><text style=color:green>■</text><text style=color:yellow>■</text><text style=color:blue>■</text><text style=color:blue>■</text><text style=color:red>X</text><text style=color:blue>■</text><text style=color:gray>X</text><text style=color:gray>■</text><text style=color:blue>■</text><text style=color:blue>■</text><text style=color:blue>■</text><text style=color:blue>■</text><text style=color:blue>■</text><text style=color:magenta>X</text><text style=color:blue>■</text><text style=color:olive>X</text><text style=color:green>■</text><text style=color:blue>■</text><text style=color:olive>■</text><text style=color:olive>■</text><text style=color:olive>■</text><text style=color:blue>■</text><text style=color:purple>X</text><text style=color:blue>■</text><text style=color:lightblue>X</text><text style=color:blue>■</text><text style=color:salmon>X</text><text style=color:salmon>■</text><text style=color:salmon>■</text><text style=color:purple>■</text><text style=color:purple>■</text><text style=color:salmon>■</text><text style=color:salmon>■</text><text style=color:salmon>■</text><text style=color:purple>■</text><text style=color:purple>■</text><text style=color:purple>■</text><text style=color:green>■</text><text style=color:orange>X</text><text style=color:teal>X</text><text style=color:green>■</text><text style=color:green>■</text><text style=color:salmon>■</text><text style=color:green>■</text><text style=color:green>■</text><text style=color:green>■</text><text style=color:green>■</text>\n",
       "<text style=color:salmon>■</text><text style=color:teal>■</text><text style=color:green>■</text><text style=color:salmon>■</text><text style=color:tomato>X</text><text style=color:green>■</text><text style=color:green>■</text><text style=color:purple>■</text><text style=color:green>■</text><text style=color:purple>■</text><text style=color:green>■</text><text style=color:black>X</text><text style=color:green>■</text><text style=color:teal>■</text><text style=color:purple>■</text><text style=color:green>X</text><text style=color:green>■</text><text style=color:green>■</text><text style=color:green>■</text><text style=color:green>■</text><text style=color:purple>■</text><text style=color:green>■</text><text style=color:purple>■</text><text style=color:salmon>■</text><text style=color:purple>■</text><text style=color:purple>■</text><text style=color:salmon>■</text><text style=color:purple>■</text><text style=color:teal>■</text><text style=color:blue>X</text><text style=color:teal>■</text><text style=color:yellow>X</text><text style=color:blue>■</text><text style=color:purple>■</text><text style=color:teal>■</text><text style=color:blue>■</text><text style=color:blue>■</text><text style=color:green>■</text><text style=color:teal>■</text><text style=color:green>■</text><text style=color:blue>■</text><text style=color:green>■</text><text style=color:teal>■</text><text style=color:teal>■</text><text style=color:teal>■</text><text style=color:teal>■</text><text style=color:purple>■</text><text style=color:purple>■</text><text style=color:teal>■</text><text style=color:purple>■</text>\n",
       "<text style=color:red>X</text><text style=color:gray>X</text><text style=color:teal>■</text><text style=color:gray>■</text><text style=color:gray>■</text><text style=color:magenta>X</text><text style=color:red>■</text><text style=color:red>■</text><text style=color:red>■</text><text style=color:green>■</text><text style=color:green>■</text><text style=color:green>■</text><text style=color:red>■</text><text style=color:red>■</text><text style=color:green>■</text><text style=color:olive>X</text><text style=color:purple>X</text><text style=color:red>■</text><text style=color:red>■</text><text style=color:lightblue>X</text><text style=color:lightblue>■</text><text style=color:lightblue>■</text><text style=color:lightblue>■</text><text style=color:lightblue>■</text><text style=color:lightblue>■</text><text style=color:red>■</text><text style=color:salmon>X</text><text style=color:lightblue>■</text><text style=color:orange>X</text><text style=color:lightblue>■</text><text style=color:orange>■</text><text style=color:orange>■</text><text style=color:orange>■</text><text style=color:teal>X</text><text style=color:teal>■</text><text style=color:teal>■</text><text style=color:teal>■</text><text style=color:teal>■</text><text style=color:teal>■</text><text style=color:green>■</text><text style=color:teal>■</text><text style=color:teal>■</text><text style=color:tomato>X</text><text style=color:teal>■</text><text style=color:teal>■</text><text style=color:black>X</text><text style=color:teal>■</text><text style=color:teal>■</text><text style=color:green>X</text><text style=color:green>■</text>\n",
       "<text style=color:green>■</text><text style=color:green>■</text><text style=color:teal>■</text><text style=color:teal>■</text><text style=color:blue>X</text><text style=color:teal>■</text><text style=color:green>■</text><text style=color:green>■</text><text style=color:teal>■</text><text style=color:green>■</text><text style=color:green>■</text><text style=color:yellow>X</text><text style=color:red>X</text><text style=color:red>■</text><text style=color:gray>X</text><text style=color:magenta>X</text><text style=color:gray>■</text><text style=color:gray>■</text><text style=color:olive>X</text><text style=color:gray>■</text><text style=color:olive>■</text><text style=color:gray>■</text><text style=color:blue>■</text><text style=color:magenta>■</text><text style=color:purple>■</text><text style=color:olive>■</text><text style=color:magenta>■</text><text style=color:magenta>■</text><text style=color:magenta>■</text><text style=color:purple>X</text><text style=color:olive>■</text><text style=color:magenta>■</text><text style=color:magenta>■</text><text style=color:lightblue>X</text><text style=color:magenta>■</text><text style=color:magenta>■</text><text style=color:magenta>■</text><text style=color:lightblue>■</text><text style=color:lightblue>■</text><text style=color:salmon>X</text><text style=color:salmon>■</text><text style=color:salmon>■</text><text style=color:salmon>■</text><text style=color:salmon>■</text><text style=color:salmon>■</text><text style=color:orange>X</text><text style=color:orange>■</text><text style=color:salmon>■</text><text style=color:orange>■</text><text style=color:orange>■</text>\n",
       "<text style=color:orange>■</text><text style=color:teal>X</text><text style=color:orange>■</text><text style=color:orange>■</text><text style=color:salmon>■</text><text style=color:tomato>X</text><text style=color:tomato>■</text><text style=color:salmon>■</text><text style=color:salmon>■</text><text style=color:salmon>■</text><text style=color:salmon>■</text><text style=color:salmon>■</text><text style=color:tomato>■</text><text style=color:tomato>■</text><text style=color:tomato>■</text><text style=color:black>X</text><text style=color:black>■</text><text style=color:salmon>■</text><text style=color:tomato>■</text><text style=color:black>■</text><text style=color:salmon>■</text><text style=color:salmon>■</text><text style=color:black>■</text><text style=color:salmon>■</text><text style=color:tomato>■</text><text style=color:tomato>■</text><text style=color:tomato>■</text><text style=color:tomato>■</text><text style=color:tomato>■</text><text style=color:green>X</text><text style=color:tomato>■</text><text style=color:green>■</text><text style=color:green>■</text><text style=color:blue>X</text><text style=color:tomato>■</text><text style=color:green>■</text><text style=color:tomato>■</text><text style=color:tomato>■</text><text style=color:tomato>■</text><text style=color:yellow>X</text><text style=color:red>X</text><text style=color:gray>X</text><text style=color:magenta>X</text><text style=color:tomato>■</text><text style=color:green>■</text><text style=color:tomato>■</text><text style=color:blue>■</text><text style=color:tomato>■</text><text style=color:tomato>■</text>"
      ],
      "text/plain": [
       "<IPython.core.display.HTML object>"
      ]
     },
     "metadata": {},
     "output_type": "display_data"
    },
    {
     "name": "stdout",
     "output_type": "stream",
     "text": [
      "cluster  8 --- 41  clusters found\n"
     ]
    },
    {
     "data": {
      "text/html": [
       "<text style=color:green>X</text>\n",
       "<text style=color:blue>X</text><text style=color:yellow>X</text><text style=color:yellow>■</text><text style=color:yellow>■</text><text style=color:yellow>■</text><text style=color:red>X</text><text style=color:red>■</text><text style=color:yellow>■</text><text style=color:gray>X</text><text style=color:yellow>■</text><text style=color:gray>■</text><text style=color:magenta>X</text><text style=color:yellow>■</text><text style=color:red>■</text><text style=color:red>■</text><text style=color:red>■</text><text style=color:red>■</text><text style=color:olive>X</text><text style=color:olive>■</text><text style=color:olive>■</text><text style=color:olive>■</text><text style=color:olive>■</text><text style=color:olive>■</text><text style=color:purple>X</text><text style=color:purple>■</text><text style=color:olive>■</text><text style=color:lightblue>X</text><text style=color:purple>■</text><text style=color:salmon>X</text><text style=color:orange>X</text><text style=color:teal>X</text><text style=color:purple>■</text><text style=color:orange>■</text><text style=color:orange>■</text><text style=color:purple>■</text><text style=color:teal>■</text><text style=color:purple>■</text><text style=color:teal>■</text><text style=color:purple>■</text><text style=color:purple>■</text><text style=color:orange>■</text><text style=color:orange>■</text><text style=color:orange>■</text><text style=color:salmon>■</text><text style=color:purple>■</text><text style=color:orange>■</text><text style=color:tomato>X</text><text style=color:tomato>■</text><text style=color:tomato>■</text><text style=color:black>X</text>\n",
       "<text style=color:olive>■</text><text style=color:green>X</text><text style=color:tomato>■</text><text style=color:green>■</text><text style=color:blue>x</text><text style=color:green>■</text><text style=color:olive>■</text><text style=color:olive>■</text><text style=color:olive>■</text><text style=color:olive>■</text><text style=color:olive>■</text><text style=color:tomato>■</text><text style=color:olive>■</text><text style=color:olive>■</text><text style=color:olive>■</text><text style=color:olive>■</text><text style=color:yellow>X</text><text style=color:red>X</text><text style=color:olive>■</text><text style=color:olive>■</text><text style=color:gray>X</text><text style=color:gray>■</text><text style=color:olive>■</text><text style=color:gray>■</text><text style=color:gray>■</text><text style=color:olive>■</text><text style=color:magenta>X</text><text style=color:olive>■</text><text style=color:olive>■</text><text style=color:gray>■</text><text style=color:olive>■</text><text style=color:magenta>■</text><text style=color:olive>■</text><text style=color:green>■</text><text style=color:olive>■</text><text style=color:olive>■</text><text style=color:olive>■</text><text style=color:olive>■</text><text style=color:green>■</text><text style=color:green>■</text><text style=color:olive>■</text><text style=color:olive>■</text><text style=color:olive>X</text><text style=color:olive>■</text><text style=color:olive>■</text><text style=color:olive>■</text><text style=color:purple>X</text><text style=color:lightblue>X</text><text style=color:salmon>X</text><text style=color:salmon>■</text>\n",
       "<text style=color:green>■</text><text style=color:olive>■</text><text style=color:orange>X</text><text style=color:teal>X</text><text style=color:teal>■</text><text style=color:olive>■</text><text style=color:teal>■</text><text style=color:teal>■</text><text style=color:olive>■</text><text style=color:teal>■</text><text style=color:teal>■</text><text style=color:olive>■</text><text style=color:teal>■</text><text style=color:teal>■</text><text style=color:teal>■</text><text style=color:olive>■</text><text style=color:teal>■</text><text style=color:tomato>X</text><text style=color:tomato>■</text><text style=color:black>X</text><text style=color:teal>■</text><text style=color:teal>■</text><text style=color:teal>■</text><text style=color:teal>■</text><text style=color:olive>■</text><text style=color:teal>■</text><text style=color:teal>■</text><text style=color:teal>■</text><text style=color:teal>■</text><text style=color:teal>■</text><text style=color:teal>■</text><text style=color:teal>■</text><text style=color:teal>■</text><text style=color:teal>■</text><text style=color:teal>■</text><text style=color:teal>■</text><text style=color:teal>■</text><text style=color:teal>■</text><text style=color:green>X</text><text style=color:teal>■</text><text style=color:teal>■</text><text style=color:teal>■</text><text style=color:teal>■</text><text style=color:teal>■</text><text style=color:green>■</text><text style=color:teal>■</text><text style=color:teal>■</text><text style=color:teal>■</text><text style=color:teal>■</text><text style=color:teal>■</text>\n",
       "<text style=color:green>■</text><text style=color:teal>■</text><text style=color:green>■</text><text style=color:green>■</text><text style=color:green>■</text><text style=color:green>■</text><text style=color:blue>X</text><text style=color:green>■</text><text style=color:green>■</text><text style=color:green>■</text><text style=color:green>■</text><text style=color:green>■</text><text style=color:blue>■</text><text style=color:blue>■</text><text style=color:blue>■</text><text style=color:blue>■</text><text style=color:blue>■</text><text style=color:blue>■</text><text style=color:yellow>X</text><text style=color:blue>■</text><text style=color:blue>■</text><text style=color:blue>■</text><text style=color:blue>■</text><text style=color:blue>■</text><text style=color:red>X</text><text style=color:blue>■</text><text style=color:tomato>■</text><text style=color:gray>x</text><text style=color:blue>■</text><text style=color:red>■</text><text style=color:red>■</text><text style=color:red>■</text><text style=color:gray>■</text><text style=color:gray>■</text><text style=color:gray>■</text><text style=color:magenta>X</text><text style=color:gray>■</text><text style=color:magenta>■</text><text style=color:blue>■</text><text style=color:magenta>■</text><text style=color:gray>■</text><text style=color:blue>■</text><text style=color:magenta>■</text><text style=color:green>■</text><text style=color:gray>■</text><text style=color:gray>■</text><text style=color:gray>■</text><text style=color:gray>■</text><text style=color:gray>■</text><text style=color:gray>■</text>\n",
       "<text style=color:blue>■</text><text style=color:gray>■</text><text style=color:gray>■</text><text style=color:gray>■</text><text style=color:gray>■</text><text style=color:gray>■</text><text style=color:gray>■</text><text style=color:gray>■</text><text style=color:green>■</text><text style=color:gray>■</text><text style=color:olive>X</text><text style=color:gray>■</text><text style=color:gray>■</text><text style=color:olive>■</text><text style=color:gray>■</text><text style=color:gray>■</text><text style=color:purple>X</text><text style=color:purple>■</text><text style=color:gray>■</text><text style=color:purple>■</text><text style=color:purple>■</text><text style=color:gray>■</text><text style=color:purple>■</text><text style=color:lightblue>X</text><text style=color:gray>■</text><text style=color:lightblue>■</text><text style=color:salmon>X</text><text style=color:orange>X</text><text style=color:salmon>■</text><text style=color:gray>■</text><text style=color:salmon>■</text><text style=color:gray>■</text><text style=color:salmon>■</text><text style=color:salmon>■</text><text style=color:purple>■</text><text style=color:purple>■</text><text style=color:purple>■</text><text style=color:lightblue>■</text><text style=color:tomato>■</text><text style=color:salmon>■</text><text style=color:purple>■</text><text style=color:green>■</text><text style=color:lightblue>■</text><text style=color:tomato>■</text><text style=color:gray>■</text><text style=color:teal>X</text><text style=color:gray>■</text><text style=color:tomato>X</text>"
      ],
      "text/plain": [
       "<IPython.core.display.HTML object>"
      ]
     },
     "metadata": {},
     "output_type": "display_data"
    },
    {
     "name": "stdout",
     "output_type": "stream",
     "text": [
      "cluster  9 --- 38  clusters found\n"
     ]
    },
    {
     "data": {
      "text/html": [
       "<text style=color:green>x</text>\n",
       "<text style=color:green>■</text><text style=color:blue>X</text><text style=color:green>■</text><text style=color:yellow>x</text><text style=color:green>■</text><text style=color:green>■</text><text style=color:green>■</text><text style=color:green>■</text><text style=color:green>■</text><text style=color:red>X</text><text style=color:red>■</text><text style=color:gray>X</text><text style=color:gray>■</text><text style=color:gray>■</text><text style=color:gray>■</text><text style=color:gray>■</text><text style=color:magenta>X</text><text style=color:gray>■</text><text style=color:olive>X</text><text style=color:gray>■</text><text style=color:gray>■</text><text style=color:olive>■</text><text style=color:green>■</text><text style=color:gray>■</text><text style=color:olive>■</text><text style=color:gray>■</text><text style=color:purple>X</text><text style=color:lightblue>X</text><text style=color:purple>■</text><text style=color:olive>■</text><text style=color:olive>■</text><text style=color:purple>■</text><text style=color:olive>■</text><text style=color:purple>■</text><text style=color:purple>■</text><text style=color:salmon>X</text><text style=color:salmon>■</text><text style=color:purple>■</text><text style=color:purple>■</text><text style=color:purple>■</text><text style=color:salmon>■</text><text style=color:salmon>■</text><text style=color:purple>■</text><text style=color:salmon>■</text><text style=color:purple>■</text><text style=color:purple>■</text><text style=color:purple>■</text><text style=color:salmon>■</text><text style=color:purple>■</text><text style=color:purple>■</text>\n",
       "<text style=color:salmon>■</text><text style=color:salmon>■</text><text style=color:purple>■</text><text style=color:purple>■</text><text style=color:orange>X</text><text style=color:orange>■</text><text style=color:purple>■</text><text style=color:purple>■</text><text style=color:purple>■</text><text style=color:purple>■</text><text style=color:orange>■</text><text style=color:olive>■</text><text style=color:olive>■</text><text style=color:olive>■</text><text style=color:olive>■</text><text style=color:purple>■</text><text style=color:olive>■</text><text style=color:orange>■</text><text style=color:olive>■</text><text style=color:olive>■</text><text style=color:olive>■</text><text style=color:olive>■</text><text style=color:olive>■</text><text style=color:orange>■</text><text style=color:olive>■</text><text style=color:purple>■</text><text style=color:olive>■</text><text style=color:purple>■</text><text style=color:teal>X</text><text style=color:tomato>X</text><text style=color:teal>■</text><text style=color:purple>■</text><text style=color:black>X</text><text style=color:purple>■</text><text style=color:black>■</text><text style=color:teal>■</text><text style=color:purple>■</text><text style=color:purple>■</text><text style=color:purple>■</text><text style=color:teal>■</text><text style=color:teal>■</text><text style=color:teal>■</text><text style=color:black>■</text><text style=color:purple>■</text><text style=color:black>■</text><text style=color:teal>■</text><text style=color:green>X</text><text style=color:blue>x</text><text style=color:green>■</text><text style=color:green>■</text>\n",
       "<text style=color:black>■</text><text style=color:teal>■</text><text style=color:black>■</text><text style=color:black>■</text><text style=color:black>■</text><text style=color:yellow>X</text><text style=color:yellow>■</text><text style=color:black>■</text><text style=color:teal>■</text><text style=color:teal>■</text><text style=color:black>■</text><text style=color:red>X</text><text style=color:black>■</text><text style=color:yellow>■</text><text style=color:black>■</text><text style=color:yellow>■</text><text style=color:yellow>■</text><text style=color:green>■</text><text style=color:green>■</text><text style=color:green>■</text><text style=color:green>■</text><text style=color:teal>■</text><text style=color:yellow>■</text><text style=color:yellow>■</text><text style=color:yellow>■</text><text style=color:yellow>■</text><text style=color:yellow>■</text><text style=color:yellow>■</text><text style=color:gray>X</text><text style=color:yellow>■</text><text style=color:gray>■</text><text style=color:magenta>X</text><text style=color:olive>X</text><text style=color:purple>X</text><text style=color:purple>■</text><text style=color:lightblue>X</text><text style=color:salmon>X</text><text style=color:lightblue>■</text><text style=color:salmon>■</text><text style=color:salmon>■</text><text style=color:lightblue>■</text><text style=color:lightblue>■</text><text style=color:lightblue>■</text><text style=color:lightblue>■</text><text style=color:salmon>■</text><text style=color:salmon>■</text><text style=color:orange>X</text><text style=color:orange>■</text><text style=color:orange>■</text><text style=color:lightblue>■</text>\n",
       "<text style=color:orange>■</text><text style=color:orange>■</text><text style=color:orange>■</text><text style=color:orange>■</text><text style=color:orange>■</text><text style=color:orange>■</text><text style=color:orange>■</text><text style=color:orange>■</text><text style=color:orange>■</text><text style=color:orange>■</text><text style=color:orange>■</text><text style=color:orange>■</text><text style=color:lightblue>■</text><text style=color:orange>■</text><text style=color:lightblue>■</text><text style=color:orange>■</text><text style=color:orange>■</text><text style=color:orange>■</text><text style=color:orange>■</text><text style=color:lightblue>■</text><text style=color:teal>X</text><text style=color:orange>■</text><text style=color:tomato>X</text><text style=color:orange>■</text><text style=color:black>X</text><text style=color:black>■</text><text style=color:black>■</text><text style=color:black>■</text><text style=color:black>■</text><text style=color:black>■</text><text style=color:green>X</text><text style=color:blue>X</text><text style=color:green>■</text><text style=color:yellow>X</text><text style=color:green>■</text><text style=color:yellow>■</text><text style=color:yellow>■</text><text style=color:red>X</text><text style=color:green>■</text><text style=color:yellow>■</text><text style=color:yellow>■</text><text style=color:green>■</text><text style=color:red>■</text><text style=color:red>■</text><text style=color:red>■</text><text style=color:red>■</text><text style=color:yellow>■</text><text style=color:yellow>■</text><text style=color:yellow>■</text><text style=color:green>■</text>\n",
       "<text style=color:green>■</text><text style=color:green>■</text><text style=color:yellow>■</text><text style=color:green>■</text><text style=color:yellow>■</text><text style=color:yellow>■</text><text style=color:yellow>■</text><text style=color:yellow>■</text><text style=color:yellow>■</text><text style=color:green>■</text><text style=color:yellow>■</text><text style=color:gray>X</text><text style=color:magenta>X</text><text style=color:gray>■</text><text style=color:magenta>■</text><text style=color:magenta>■</text><text style=color:yellow>■</text><text style=color:magenta>■</text><text style=color:magenta>■</text><text style=color:yellow>■</text><text style=color:magenta>■</text><text style=color:magenta>■</text><text style=color:green>■</text><text style=color:magenta>■</text><text style=color:magenta>■</text><text style=color:olive>X</text><text style=color:magenta>■</text><text style=color:magenta>■</text><text style=color:magenta>■</text><text style=color:yellow>■</text><text style=color:yellow>■</text><text style=color:yellow>■</text><text style=color:yellow>■</text><text style=color:yellow>■</text><text style=color:yellow>■</text><text style=color:yellow>■</text><text style=color:yellow>■</text><text style=color:purple>X</text><text style=color:purple>■</text><text style=color:purple>■</text><text style=color:yellow>■</text><text style=color:purple>■</text><text style=color:lightblue>X</text><text style=color:lightblue>■</text><text style=color:salmon>X</text><text style=color:yellow>■</text><text style=color:lightblue>■</text><text style=color:salmon>■</text>"
      ],
      "text/plain": [
       "<IPython.core.display.HTML object>"
      ]
     },
     "metadata": {},
     "output_type": "display_data"
    }
   ],
   "source": [
    "for cid in range(10): \n",
    "    print(\"cluster \",cid,\"---\",end=\" \")\n",
    "    clusters, figure = display_clusters(dev_instances,dev_gold,cid)\n",
    "    print(len(set(clusters.values())),\" clusters found\")\n",
    "    display(figure)"
   ]
  },
  {
   "cell_type": "code",
   "execution_count": 176,
   "metadata": {},
   "outputs": [
    {
     "data": {
      "text/plain": [
       "(array([45.,  5.,  3.,  1.,  0.,  0.,  1.,  1.,  1.,  1.]),\n",
       " array([ 1. ,  4.4,  7.8, 11.2, 14.6, 18. , 21.4, 24.8, 28.2, 31.6, 35. ]),\n",
       " <BarContainer object of 10 artists>)"
      ]
     },
     "execution_count": 176,
     "metadata": {},
     "output_type": "execute_result"
    },
    {
     "data": {
      "image/png": "[encoded data removed]",
      "text/plain": [
       "<Figure size 432x288 with 1 Axes>"
      ]
     },
     "metadata": {
      "needs_background": "light"
     },
     "output_type": "display_data"
    }
   ],
   "source": [
    "plt.hist(list((Counter(clusters.values()).values())))"
   ]
  },
  {
   "cell_type": "code",
   "execution_count": 191,
   "metadata": {},
   "outputs": [
    {
     "name": "stdout",
     "output_type": "stream",
     "text": [
      "0 -> NONE [*, ActionParsnip, gives, quibbler, a, spoon]\n",
      "1 -> [0] [<, quibbler, >, ActionParsnip, :, ;-)]\n",
      "2 -> SELF-LOOP [<, subodh, >, hi, plz, tell, me, if, photoshop, CS2, can, be, install, in, ubuntu, ?]\n",
      "3 -> NONE [<, Futurama140, >, it, does, not, exist]\n",
      "4 -> [2] [<, cooldduuudde, >, subodh, use, gimp, man]\n",
      "5 -> [2] [<, eepberries, >, subodh, :, no]\n",
      "6 -> [2] [<, eepberries, >, subodh, :, you, can, try, installing, it, using, wine, though]\n",
      "7 -> [3] [<, quibbler, >, Futurama140, :, then, add, it, on, the, end, of, the, file]\n",
      "8 -> [6] [<, cooldduuudde, >, eepberries, but, that, may, not, be, reliable]\n",
      "9 -> [7] [<, Futurama140, >, ok]\n",
      "10 -> [8] [<, eepberries, >, cooldduuudde, :, better, than, not, being, able, to, use, it, at, all]\n",
      "11 -> SELF-LOOP [_, server, mrak, _, is, now, known, as, mrak]\n",
      "12 -> [8] [<, eepberries, >, somet, things, actually, works, really, well, in, wine]\n",
      "13 -> [12] [<, cooldduuudde, >, true, ., but, gimp, is, gud, enough, eepberries]\n",
      "14 -> [13] [<, eepberries, >, i, hate, gimp]\n",
      "15 -> [12] [<, cooldduuudde, >, ms, office, 2003, works, rlly, bad, in, wine, eepberries]\n",
      "16 -> [6] [<, subodh, >, eepberries, -, can, you, give, me, the, command, for, this]\n",
      "17 -> [16] [<, eepberries, >, subodh, :, sudo, apt, -, get, install, wine]\n",
      "18 -> [7] [<, Futurama140, >, Section, \", module, \"]\n",
      "19 -> [18] [<, Futurama140, >, EndSection]\n",
      "20 -> [17] [<, eepberries, >, that, will, install, a, windows, emulator]\n",
      "21 -> [20] [<, eepberries, >, then, you, will, be, able, to, run, windows, executable, programs, ,, so, you, 'll, be, able, to, install, and, run, photoshop, hopefully]\n",
      "22 -> [17] [<, subodh, >, eepberries, ,, wine, already, running, ..., i, need, photoshop, command, to, run, in, wine]\n",
      "23 -> [21] [<, eepberries, >, there, are, n't, any, guarantees, though, ., it, could, work, perfectly, or, not, work, at, all]\n",
      "24 -> [22] [<, cooldduuudde, >, subodh, just, double, click, on, the, setup, file]\n",
      "25 -> [22] [<, eepberries, >, subodh, :, you, do, n't, need, any, special, commands, ., you, can, run, the, exe, files, the, same, way, you, would, any, other, file]\n",
      "26 -> [22] [<, arvind_k, >, !, appdb, >, subodh]\n",
      "27 -> [22, 26] [<, ubottu, >, subodh, ,, please, see, my, private, message]\n",
      "28 -> SELF-LOOP [_, server, arvind_k, is, now, known, as, arvind_khadri]\n",
      "29 -> [19] [<, Futurama140, >, actionparsnip, :, is, that, right, ?]\n",
      "30 -> [29] [<, ActionParsnip, >, Futurama140, :, you, did, nt, specify, DRI, ,, I, gave, you, the, exactl, lines, you, need, to, add, earlier]\n",
      "31 -> [27] [<, subodh, >, ubottu, ,, thanks, i, 'll, first, run, exe, from, wine, :)]\n",
      "32 -> [31] [<, ubottu, >, Error, :, I, am, only, a, bot, ,, please, do, n't, think, I, 'm, intelligent, :)]\n",
      "33 -> [30] [<, ActionParsnip, >, Futurama140, :, scroll, up, ,, its, there]\n",
      "34 -> [29] [<, quibbler, >, Futurama140, :, between, Section, \", module, \", and, EndSection, add, :, Load, \", dri, \"]\n",
      "35 -> SELF-LOOP [<, eepberries, >, what, gets, weird, is, when, you, use, wine, to, run, an, emulator, ., emulating, an, emulator, is, just, a, strange, concept]\n",
      "36 -> [34, 33] [<, ActionParsnip, >, Futurama140, :, and, now, quibbler, has, given, you, the, lines, ,]\n",
      "37 -> [35] [<, cooldduuudde, >, eepberries, lol, ., why, would, someone, do, dat]\n",
      "38 -> [36] [<, Futurama140, >, Section, \", module, \"]\n",
      "39 -> [38] [<, Futurama140, >, Load, \", DRI, \"]\n",
      "40 -> [39] [<, Futurama140, >, EndSection]\n",
      "41 -> SELF-LOOP [_, server, solid_li, `, is, now, known, as, solid_liq]\n",
      "42 -> [37] [<, eepberries, >, cooldduuudde, :, windows, has, the, best, emulators]\n",
      "43 -> [40] [<, quibbler, >, Futurama140, :, save, the, file, and, do, ctrl+alt+backspace, to, restart, x]\n",
      "44 -> [42] [<, cooldduuudde, >, eepberries, yeah, ., if, you, are, talkin, about, psp, and, gameboy, emulators]\n",
      "45 -> [43] [<, ActionParsnip, >, quibbler, :, wow, he, 's, hard, work]\n",
      "46 -> [45] [<, quibbler, >, ActionParsnip, :, thanks, for, the, spoon, i, needed, it, ;)]\n",
      "47 -> [44] [<, eepberries, >, cooldduuudde, :, i, wonder, if, pcsx2, runs, in, wine, :)]\n",
      "48 -> [46] [<, ActionParsnip, >, no, ..., he, needs, it, :(]\n",
      "49 -> [47] [<, cooldduuudde, >, hmm, never, tried, dat]\n",
      "50 -> [49] [<, cooldduuudde, >, :)]\n",
      "51 -> SELF-LOOP [<, amruthraj, >, Hi, ,, I, am, looking, at, the, smaps, data, for, a, particular, process, ., My, understanding, of, the, Private_dirty, part, of, a, particular, library, is, that, it, constitutes, the, global, /, static, data, present, in, that, library, ., Is, this, correct, ?]\n",
      "52 -> [46] [<, ActionParsnip, >, do, nt, you, just, wish, you, could, ssh, onto, users, systems, and, fix, their, rigs, in, like, 3, seconds]\n",
      "53 -> SELF-LOOP [<, theCarpenter, >, i, m, trying, to, setup, my, ubuntu, laptop, as, a, wireless, router, ., any, advice, ?]\n",
      "54 -> [47] [<, eepberries, >, it, would, be, funny, to, try, if, only, to, see, how, horrible, it, would, perform]\n",
      "55 -> NONE [<, b1n42y, >, 2hrs, later, xp, is, still, installing, via, qemu, ...]\n",
      "56 -> [53] [<, ActionParsnip, >, !, ics, |, theCarpenter]\n",
      "57 -> [53, 56] [<, ubottu, >, theCarpenter, :, If, you, want, to, share, the, internet, connection, of, your, ubuntu, machine, with, other, machines, in, the, network, see, #, http, -, You, may, also, use, !, firestarter, :, #, http]\n",
      "58 -> [54] [<, cooldduuudde, >, eepberries, yeah, ., hey, duz, disabling, loggin, make, your, system, faster, ?]\n",
      "59 -> [52] [<, quibbler, >, ActionParsnip, :, ja, i, do, that, sometimes, with, a, daughter]\n",
      "60 -> [52] [<, shear, >, ubuntu, and, ssh, was, the, best, thing, that, ever, happened, to, my, parent, 's, computer, ., I, 'm, not, a, guru, ,, but, there, 's, very, little, they, can, break, that, I, ca, n't, fix, that, way, ,, it, 's, awesome]\n",
      "61 -> [20] [<, rww, >, eepberries, :, Wine, Is, Not, an, Emulator, .]\n",
      "62 -> [61] [<, eepberries, >, i, know]\n",
      "63 -> [60] [<, b1n42y, >, hehe]\n",
      "64 -> [61, 62] [<, eepberries, >, loose, terminology]\n",
      "65 -> [60] [<, quibbler, >, shear, :, saves, a, lot, of, tears]\n",
      "66 -> [65] [<, shear, >, quibbler, ,, and, traveltime]\n",
      "67 -> [61] [<, cooldduuudde, >, rww, WINE, =, WINdows, Emulator]\n",
      "68 -> [66] [<, quibbler, >, shear, :, ;)]\n",
      "69 -> [67] [<, cooldduuudde, >, :)]\n",
      "70 -> [61, 67] [<, Nytrix, >, wine, =, crossover]\n",
      "71 -> [70] [<, Nytrix, >, !, crossover]\n",
      "72 -> [71] [<, ubottu, >, Sorry, ,, I, do, n't, know, anything, about, crossover]\n",
      "73 -> [72] [<, Nytrix, >, !, codeweavers]\n",
      "74 -> [73] [<, ubottu, >, Sorry, ,, I, do, n't, know, anything, about, codeweavers]\n",
      "75 -> [74] [<, Nytrix, >, hmm, ok]\n",
      "76 -> NONE [<, yogi, _, >, hi, again, ., i, have, just, re, -, installed, ubuntu, ., it, is, now, a, fresh, install, without, the, updates, ., should, i, go, ahead, and, do, the, updates, or, is, there, something, you, think, i, should, check, ?]\n",
      "77 -> [73] [<, rww, >, !, botabuse, >, Nytrix]\n",
      "78 -> [77, 73] [<, ubottu, >, Nytrix, ,, please, see, my, private, message]\n",
      "79 -> NONE [<, Wille_eee, >, eepberries, », That, did, n't, work, it, out, :(]\n",
      "80 -> SELF-LOOP [<, zhangsha, >, is, there, Market, Analysis, System, with, ubuntu]\n",
      "81 -> SELF-LOOP [<, cooldduuudde, >, !, ubottu]\n",
      "82 -> [81] [<, ubottu, >, Hi, !, I, 'm, #, ubuntu, 's, favorite, infobot, ,, you, can, search, my, brain, yourself, at, #, http, -, Usage, info, :, #, http]\n",
      "83 -> SELF-LOOP [<, stevr1it, >, hello, anyone, can, help, me, to, install, my, webcam, ubuntu, intrepid, Z, -, Star, Microelectronics, Corp., Luxya, WC-1200, USB, 2.0, Webcam, on, ubuntu, intrepid]\n",
      "84 -> [76] [<, ActionParsnip, >, yogi, _, :, yes, get, fully, updated]\n",
      "85 -> [84] [<, yogi, _, >, ok, straight, away]\n",
      "86 -> [83] [<, ActionParsnip, >, stevr1it, :, run, lsusb, ,, you, will, get, a, hex, identifier, ,, you, can, use, this, to, websearch]\n",
      "87 -> [83] [<, ActionParsnip, >, !, webcam, |, stevr1it]\n",
      "88 -> [83, 87] [<, ubottu, >, stevr1it, :, Instructions, for, using, webcams, with, Ubuntu, can, be, found, at, #, http, -, Supported, cams, :, #, http]\n",
      "89 -> [83, 86] [<, b1n42y, >, stevr1it, :, ActionParsnip, :, is, nt, there, an, application, in, repos, that, identifies, it, and, uses, it]\n",
      "90 -> SELF-LOOP [<, cooldduuudde, >, !, pidgin]\n",
      "91 -> [90] [<, ubottu, >, The, Instant, Messenger, Client, Pidgin, (, formerly, Gaim, ), (, #, http, supports, MSN, ,, XMPP, (, Jabber, ,, GTalk, and, variants, ), ,, AIM, ,, Gadu, -, Gadu, ,, Novell, Groupwise, ,, ICQ, ,, YIM, ,, IRC, and, others, ., See, also, !, Kopete]\n",
      "92 -> [89, 86] [<, stevr1it, >, gosh, i, am, trying]\n",
      "93 -> [89] [<, ActionParsnip, >, b1n42y, :, lsusb, will, identify, it]\n",
      "94 -> [86] [<, stevr1it, >, Bus, 005, Device, 003, :, ID, 0ac8:0323, Z, -, Star, Microelectronics, Corp., Luxya, WC-1200, USB]\n",
      "95 -> [84] [<, yogi, _, >, what, about, my, softwaresources, option, ?]\n",
      "96 -> SELF-LOOP [<, rogerio, >, hi]\n",
      "97 -> [95] [<, yogi, _, >, should, i, leave, that, default, ?]\n",
      "98 -> [94] [<, ActionParsnip, >, stevr1it, :, ok, then, websearch, for, :, ubuntu, 0ac8:0323]\n",
      "99 -> [93] [<, b1n42y, >, ActionParsnip, :, yeah, i, messed, with, an, application, about, 4, months, ago, ,, from, memory, no, setup, ,, just, ran, app, and, pic, was, up, .., might, read, the, wiki, ...]\n",
      "100 -> [97] [<, ActionParsnip, >, yogi, _, :, default, is, fine]\n",
      "101 -> [89] [<, stevr1it, >, \", bln42y, \", no, application, in, the, reporsitory, ,, i, have, already, installed, camorama, ,, but, i, have, a, blank, screen]\n",
      "102 -> [98] [<, stevr1it, >, I, already, did, it]\n",
      "103 -> [101] [<, arvind_khadri, >, stevr1it, ,, cheese, ?]\n",
      "104 -> [101] [<, b1n42y, >, stevr1it, :, maybe, it, was, 3rd, party]\n",
      "105 -> [103] [<, stevr1it, >, cheese, is, a, software, ?]\n",
      "106 -> [105] [<, ActionParsnip, >, !, info, cheese, |, stevr1it]\n",
      "107 -> [106, 105] [<, ubottu, >, cheese, (, source, :, cheese, ), :, A, tool, to, take, pictures, and, videos, from, your, webcam, ., In, component, universe, ,, is, optional, ., Version, 2.24.2, -, 0ubuntu0+intrepid1, (, intrepid, ), ,, package, size, 2339, kB, ,, installed, size, 7152, kB]\n",
      "108 -> SELF-LOOP [<, rogerio, >, someone, can, give, a, help]\n",
      "109 -> [108] [<, ActionParsnip, >, !, ask, |, rogerio]\n",
      "110 -> [108, 109] [<, ubottu, >, rogerio, :, Please, do, n't, ask, to, ask, a, question, ,, simply, ask, the, question, (, all, on, ONE, line, ,, so, others, can, read, and, follow, it, easily, ), ., If, anyone, knows, the, answer, they, will, most, likely, reply, ., :-)]\n",
      "111 -> SELF-LOOP [<, alfatah3, >, HAY, ..]\n",
      "112 -> [105] [<, stevr1it, >, !, info, cheese]\n",
      "113 -> [112] [<, ubottu, >, cheese, (, source, :, cheese, ), :, A, tool, to, take, pictures, and, videos, from, your, webcam, ., In, component, universe, ,, is, optional, ., Version, 2.24.2, -, 0ubuntu0+intrepid1, (, intrepid, ), ,, package, size, 2339, kB, ,, installed, size, 7152, kB]\n",
      "114 -> [113] [<, stevr1it, >, i, do, n't, understand]\n",
      "115 -> [111] [<, alfatah3, >, ?, ?]\n",
      "116 -> [114] [<, ActionParsnip, >, stevr1it, :, looks, like, it, uses, the, gspcav1, driver, ,, look, into, how, to, install, it, ., I, got, ta, test, some, WIs]\n",
      "117 -> SELF-LOOP [<, b1n42y, >, is, it, me, or, are, simultaneous, writes, to, hard, disks, slow, in, linx, ,, or, is, it, my, 5400rpm, HD, (, laptop, )]\n",
      "118 -> [117] [<, ActionParsnip, >, b1n42y, :, could, look, into, hdparm, (, can, be, risky, if, yu, go, silly, with, it, )]\n",
      "119 -> [116] [<, stevr1it, >, ok, i, try]\n",
      "120 -> SELF-LOOP [<, Silicium, >, i, have, created, a, bootsplash, with, gimp, ,, 16, indexed, colors, ,, and, compiled, into, a, shared, object, ,, but, it, would, nt, be, loaded, ,, the, bootscreen, is, just, black, with, a, blinking, cursor, while, booting, ...]\n",
      "121 -> [118] [<, b1n42y, >, ActionParsnip, :, been, there, seems, like, all, options, are, correct]\n",
      "122 -> [121] [<, ActionParsnip, >, b1n42y, :, you, can, throttle, your, drive, a, little, to, get, more, speed]\n",
      "123 -> [122] [<, b1n42y, >, ActionParsnip, :, thanks, ,, might, get, into, it, hardcore, and, give, it, another, go]\n",
      "124 -> SELF-LOOP [<, Nytrix, >, [, pErry, ], ,, ok]\n",
      "125 -> SELF-LOOP [_, server, gnu, is, now, known, as, Guest52926]\n",
      "126 -> SELF-LOOP [_, server, Qtpaxa, _, is, now, known, as, Qtpaxa]\n",
      "127 -> SELF-LOOP [<, VSpike, >, Am, i, right, that, in, 8.04, the, option, in, Sound, Preferences, called, \", Enable, software, sound, mixing, (, ESD, ), \", actually, controls, whether, pulseaudio, is, started, at, login, ?]\n",
      "128 -> [100] [<, yogi, _, >, ok, i, think, is, fully, updated]\n",
      "129 -> SELF-LOOP [<, Nytrix, >, bergman, ,, hi]\n",
      "130 -> SELF-LOOP [_, server, mitchell, is, now, known, as, Mitchell]\n",
      "131 -> SELF-LOOP [<, Ethosser, >, anyone, know, how, I, can, query, /, connect, to, mssql, database, on, a, windows, server, machine, ?]\n",
      "132 -> [131] [<, VSpike, >, Ethosser, :, freetds]\n",
      "133 -> [132] [<, Ethosser, >, thanks, mate, ,, i, 'll, look, into, it, :)]\n",
      "134 -> [116] [<, stevr1it, >, I, have, stried, to, install, gspcav, but, with, the, folllowing, result, :, #, http]\n",
      "135 -> [132] [<, VSpike, >, Ethosser, :, not, the, greatest, ,, but, it, does, kinda, work, :)]\n",
      "136 -> SELF-LOOP [_, server, eric, is, now, known, as, Guest27865]\n",
      "137 -> SELF-LOOP [<, TUCKER1979, >, Hi, ,, Can, anyone, help, me, with, a, graphic, problem, ,, i, am, using, a, Nvidia, Gforce, 7, Card, ,, DVI, Cable, ,, when, Ubuntu, start, up, i, see, the, logo, for, the, boot, up, but, when, i, get, to, the, log, in, screen, ,, i, just, see, a, mess, of, graphics, and, i, couple, of, mouse, points]\n",
      "138 -> [135] [<, Ethosser, >, VSpike, ,, ;)]\n",
      "139 -> [137] [<, Silicium, >, TUCKER1979, :]\n",
      "140 -> [139] [<, Silicium, >, actually, i, mean, that, s, a, bug]\n",
      "141 -> [140] [<, Silicium, >, i, had, the, same, Problem, on, my, dualhead, environment, mit, GF7]\n",
      "142 -> [137, 141] [<, Silicium, >, there, are, some, Problem, with, incompatible, b0rked, DVI, protocol, statements, from, cheap, panels]\n",
      "143 -> [142] [<, TUCKER1979, >, what, do, i, do, then, ,]\n",
      "144 -> [137] [<, Silicium, >, TUCKER1979, :, you, can, use, a, DVItoVGA, adapter, to, fix, it]\n",
      "145 -> [144] [<, Silicium, >, then, after, screen, is, up, change, from, VGA, to, DVI, again]\n",
      "146 -> [145] [<, Silicium, >, (, if, needed, )]\n",
      "147 -> [145] [<, Silicium, >, i, run, only, at, DVI, for, now]\n",
      "148 -> [147] [<, Silicium, >, err]\n",
      "149 -> [148] [<, Silicium, >, only, on, VGA]\n",
      "150 -> [144] [<, TUCKER1979, >, i, think, i, got, a, apadter]\n",
      "151 -> [150] [<, Silicium, >, there, should, be, one, shipped, with, the, GFXCard, or, the, screen]\n",
      "152 -> [151] [<, TUCKER1979, >, yeah, i, know, ,, will, that, sort, the, problem]\n",
      "153 -> [152] [<, Silicium, >, to, the, log, in, screen, ,, i, just, see, a, mess, of, graphics, and, i, couple, of, mouse, points]\n",
      "154 -> [153] [<, Silicium, >, but, this, is, really, funny]\n",
      "155 -> [154] [<, Silicium, >, it, coult, be, the, same, Problem]\n",
      "156 -> [155] [<, Silicium, >, or, it, could, be, not, :D]\n",
      "157 -> [153] [<, TUCKER1979, >, yeah, ,, i, do, not, see, the, login, box, ,, just, the, background, and, mouse, points]\n",
      "158 -> [157] [<, Silicium, >, hmm]\n",
      "159 -> SELF-LOOP [_, server, edgex-, _, is, now, known, as, edgex[[a, ], ], ], [, [, ], [, ]]\n",
      "160 -> [157] [<, Silicium, >, then, i, think, it, is, another, PRoblem]\n",
      "161 -> [157] [<, Silicium, >, have, you, tried, to, kill, X, and, run, startx, ?]\n",
      "162 -> [161] [<, TUCKER1979, >, how, do, i, do, that]\n",
      "163 -> [162] [<, Silicium, >, startx, as, user]\n",
      "164 -> [163] [<, Silicium, >, ctrl+alt+backspace]\n",
      "165 -> SELF-LOOP [<, chu, _, >, hey, ,, just, wondering, ,, stupid, question, but, if, I, had, a, directory, of, .tex, files, ,, sequentially, named, (, 1.tex, ,, 2.tex, ,, ..., n.tex, ), ,, what, would, be, I, be, looking, for, to, do, a, loop, ,, I, guess, in, BASH, (, i.e., for, i, =, 0, to, n, ;, textopdf, (, i+1).tex, )]\n",
      "166 -> [163] [<, Silicium, >, or, ctrl+alt+F2]\n",
      "167 -> SELF-LOOP [<, yogi, _, >, i, have, a, 15.4, \", wxga, intel, celeron, laptop, ., not, sure, what, kind, of, graphics, card, it, is, ,, but, i, think, its, ', intel, ', or, maybe, ', sis, ', ., i, am, having, a, problem, with, the, resolution, of, the, screen, ., there, are, only, two, option, given, -, 800, *, 600, &, 640, *, 480, ., otherwise, all, is, well, ., is, there, any, way, too, resolve, this, ?]\n",
      "168 -> [166] [<, Silicium, >, then, login, as, root]\n",
      "169 -> [168] [<, Silicium, >, and, killall, gdm]\n",
      "170 -> [169] [<, Silicium, >, respectivley, ps, aux, |grep, -in, gdm]\n",
      "171 -> [170] [<, Silicium, >, respectivley, ps, aux, |grep, -i, gdm]\n",
      "172 -> [134] [<, stevr1it, >, with, cheese, it, give, me, the, following, error, :, libv4l2, :, error, dequeuing, buf, :, Errore, di, I, /, O]\n",
      "173 -> SELF-LOOP [<, Futurama140, >, i, m, trying, to, install, a, windows, program, using, wine, ,, but, when, i, insert, the, cd, into, the, drive, i, can, not, find, its, contents, anywhere, in, the, system]\n",
      "174 -> [173] [<, Nytrix, >, futsuriai, ,, what, program, are, you, trying, to, install, ?]\n",
      "175 -> [173, 174] [<, Nytrix, >, Futurama140, ,, what, program, are, you, trying, to, install, ?]\n",
      "176 -> [175] [<, Futurama140, >, world, of, warcraft]\n",
      "177 -> SELF-LOOP [<, franic, >, hi, all]\n",
      "178 -> SELF-LOOP [<, ghoulsblade, >, hi, ,, any, makefile, experts, here, ?, i, 've, got, a, var, like, LIBSRC_A, =, a1.c, a2.c, a3.c, and, i, need, to, add, a, prefix, path, like, LIBSRC_A_FULL, =, include, /, myliba, /, a1.c, include, /, myliba, /, a2.c, include, /, myliba, /, a3.c, any, nice, tricks, for, that, ?]\n",
      "179 -> SELF-LOOP [<, fofanaseedy, >, fofanaseedy]\n",
      "180 -> SELF-LOOP [<, vicmen, >, where, is, a, good, resource, for, learning, how, to, move, or, copy, files, from, one, directory, to, another, in, Ubuntu, ?]\n",
      "181 -> [176] [<, Nytrix, >, Futurama140, ,, probably, will, not, work, with, wine]\n",
      "182 -> [180] [<, fyrestrtr, >, !, shell, |, vicmen]\n",
      "183 -> [180, 182] [<, ubottu, >, vicmen, :, The, linux, terminal, or, command, -, line, interface, is, very, powerful, ., Open, a, terminal, via, Applications, -, >, Accessories, -, >, Terminal, (, Gnome, ), or, K, -, menu, -, >, System, -, >, Konsole, (, KDE, ), ., Guide, :, #, http]\n",
      "184 -> [181] [<, Futurama140, >, Nytrix, :, why, not]\n",
      "185 -> [180] [<, fyrestrtr, >, vicmen, :, try, the, link]\n",
      "186 -> [173] [<, Nytrix, >, have, you, tried, in, a, windows, machine, to, see, if, there, is, any, files, in, the, cd, ?]\n",
      "187 -> [167] [<, yogi, _, >, i, have, a, 15.4, \", wxga, intel, celeron, laptop, ., not, sure, what, kind, of, graphics, card, it, is, ,, but, i, think, its, ', intel, ', or, maybe, ', sis, ', ., i, am, having, a, problem, with, the, resolution, of, the, screen, ., there, are, only, two, option, given, -, 800, *, 600, &, 640, *, 480, ., otherwise, all, is, well, ., is, there, any, way, too, resolve, this, ?]\n",
      "188 -> [185] [<, vicmen, >, thanks]\n",
      "189 -> [134] [<, stevr1it, >, i, have, found, that, the, webcam, works, with, gspca_vc032x, ,, where, can, i, find, this, driver, ?]\n",
      "190 -> [184, 186] [<, Nytrix, >, Futurama140, ,, have, you, tried, in, a, windows, machine, to, see, if, there, is, any, files, in, the, cd, ?]\n",
      "191 -> [181] [<, franic, >, Futurama140, :, Wow, works, fine, with, the, latest, Wine, ,, I, use, it, myself, :)]\n",
      "192 -> [187] [<, fyrestrtr, >, !, fixres, |, yogi, _]\n",
      "193 -> [187, 192] [<, ubottu, >, yogi, _, :, The, X, Window, System, is, the, part, of, your, system, that, 's, responsible, for, graphical, output, ., To, restart, your, X, ,, type, «, sudo, /etc, /, init.d/?dm, restart, », in, a, console, -, To, fix, screen, resolution, or, other, X, problems, :, #, http]\n",
      "194 -> SELF-LOOP [_, server, wiz, _, is, now, known, as, Wiz-]\n",
      "195 -> [190] [<, Futurama140, >, yes, it, works, in, windows]\n",
      "196 -> [195] [<, Nytrix, >, Futurama140, ,, msg, me]\n",
      "197 -> SELF-LOOP [<, Futurama140, >, how, do, i, install, wow, using, wine, step, by, step, ?]\n",
      "198 -> [110] [<, rogerio, >, sorry, i, working]\n",
      "199 -> [197] [<, Nytrix, >, Futurama140, ,, try, #, http]\n",
      "200 -> [178] [<, ghoulsblade, >, solved, (, $, (, patsubst, pattern, ,, replacement, ,, text, ), )]\n",
      "201 -> [199] [<, Futurama140, >, i, have, no, money, to, buy, a, program]\n",
      "202 -> [197] [<, franic, >, Futurama140, :, in, a, Terminal, something, like, \", wine, /media, /, cdrom, /, Setup.exe, \"]\n",
      "203 -> SELF-LOOP [<, rogerio, >, I, have, a, laptop, acer, aspire, 5051]\n",
      "204 -> [203] [<, rogerio, >, installed, ubuntu, 8:10]\n",
      "205 -> [193] [<, yogi, _, >, ubottu, :, thanks, ., i, 'll, have, a, go, at, that, ..., should, i, just, copy, and, paste, the, command, ?, what, will, the, command, actually, do, to, the, machine, ?, is, that, not, just, like, a, restart, ?]\n",
      "206 -> [205] [<, ubottu, >, Error, :, I, am, only, a, bot, ,, please, do, n't, think, I, 'm, intelligent, :)]\n",
      "207 -> SELF-LOOP [<, franic, >, someone, knows, if, there, is, a, way, to, redirect, the, output, of, ALSA, to, a, WAV, file, ?]\n",
      "208 -> [193] [<, yogi, _, >, does, that, work, with, ubuntu, 8.10, ?]\n",
      "209 -> [208] [<, fyrestrtr, >, yes]\n",
      "210 -> SELF-LOOP [_, server, shyke2a, is, now, known, as, shryke2a]\n",
      "211 -> [204] [<, rogerio, >, in, getting, me, error]\n",
      "212 -> [211] [<, rogerio, >, boot, args(cat, /proc, /, cmdline, )]\n",
      "213 -> [167] [<, yogi, _, >, i, have, a, 15.4, \", wxga, intel, celeron, laptop, ., not, sure, what, kind, of, graphics, card, it, is, ,, but, i, think, its, ', intel, ', or, maybe, ', sis, ', ., i, am, having, a, problem, with, the, resolution, of, the, screen, ., there, are, only, two, option, given, -, 800, *, 600, &, 640, *, 480, ., otherwise, all, is, well, ., is, there, any, way, too, resolve, this, ?]\n",
      "214 -> SELF-LOOP [_, server, urkki, is, now, known, as, Finnish]\n",
      "215 -> [212, 211] [<, rogerio, >, check, root=(did, the, system, wait, long, enough, ?, )]\n",
      "216 -> SELF-LOOP [<, SERVER_08, >, hello]\n",
      "217 -> SELF-LOOP [<, Scix, >, What, 's, the, point, of, the, K, and, S, prefix, in, rc#.d, folders, ?]\n",
      "218 -> SELF-LOOP [<, eanda, >, morning, all, ,, anyone, have, experience, with, ubuntu, client, authentication, to, ldap, ?, I, have, been, following, guides, and, all, instruct, to, modify, pam_ldap.conf, and, libnss.conf, but, in, 8.10, those, are, not, available, in, /etc/, ..., any, hel, here]\n",
      "219 -> [215] [<, rogerio, >, check, root=(did, the, system, wait, for, the, right, device, ?, )]\n",
      "220 -> [219] [<, rogerio, >, missing, modules, (, cat, /proc, /, modules, ;, ls, /dev, )]\n",
      "221 -> [213] [<, yogi, _, >, anyone, ?]\n",
      "222 -> [217] [<, fyrestrtr, >, Scix, :, startup, /, shutdown]\n",
      "223 -> SELF-LOOP [<, WoTL, >, Greetings]\n",
      "224 -> SELF-LOOP [<, Neocicak, >, gday, ....., i, 've, just, tried, to, install, nvidia, driver, from, nvidia, website, .., but, i, kept, getting, the, following, error, in, Xorg, log, file, :, Failed, to, initialize, GLX, extension, ..., any, idea, ?]\n",
      "225 -> SELF-LOOP [<, Nytrix, >, why, i, do, i, get, a, black, screen, when, i, Remote, Desktop, someone, 's, computer, ?]\n",
      "226 -> [222] [<, Scix, >, fyrestrtr, ,, where, K, is, shutdown, and, S, is, startup, ?]\n",
      "227 -> SELF-LOOP [<, taz, _, >, hello, guys]\n",
      "228 -> SELF-LOOP [<, WoTL, >, I, was, wondering, ,, anyone, knows, what, the, alternative, api, way, of, calling, /usr, /, bin, /, gnome, -, www, -, browser, <, url, >, is, ?, would, like, a, clean, function, to, open, default, gnome, browser, .]\n",
      "229 -> [220] [<, rogerio, >, alert, !, /dev, /, disk, /, by, -, uuid/67821a1b, -, b152, -, 4992, -, 9f74-e50dd6c7864e, does, not, exist, dopping, to, a, shell, !]\n",
      "230 -> [229] [<, rogerio, >, Anybody, know, that, this, error, is, ?]\n",
      "231 -> SELF-LOOP [<, taz, _, >, u, know, HTML, ?, i, have, other, OS, with, windows, xp, it, have, frontpage, 2003, but, not, on, ubuntu, .., which, one, i, should, get, download, with, \", add, /, remove, ?, which, one, ?]\n",
      "232 -> [230] [<, rogerio, >, the, machine, does, not, boot]\n",
      "233 -> SELF-LOOP [<, Iradieh, >, Does, anyone, know, what, bash, loads, for, .profile/.bashrc, when, using, the, terminal, with, an, x, -, session, ., Seems, like, when, i, login, using, SSH, my, user, .profile, is, used, ,, but, when, using, the, x, -, session, terminal, something, else, gets, used, instead]\n",
      "234 -> [224] [<, Neocicak, >, has, anyone, have, any, success, with, installing, nvidia, driver, on, 8.10, ?]\n",
      "235 -> [231] [<, taz, _, >, ubuntu, it, does, have, program, HTML, ?]\n",
      "236 -> SELF-LOOP [<, error404notfound, >, I, am, following, #, http, on, ubuntu, hardy, ,, but, I, ca, n't, find, /etc, /, ssl, /, certs, /, Thawte_Premium_Server_CA.pem]\n",
      "237 -> [235] [<, rogerio, >, taz, _, :, nvu]\n",
      "238 -> [237] [<, taz, _, >, rogerio, :, ok, thanks, i, will, look, in, add, /, remove]\n",
      "239 -> [238] [<, rogerio, >, look, in, synaptic, too]\n",
      "240 -> [237] [<, taz, _, >, rogerio, :, i, did, check, in, nvu, and, it, do, nt, have, one, ?]\n",
      "241 -> [234] [<, Neocicak, >, hmm, ......]\n",
      "242 -> SELF-LOOP [<, Hans, _, >, what, irc, client, do, you, use, ?, ?, ?]\n",
      "243 -> [242] [<, Hans, _, >, i, use, Xchat, gnome, ., and, you, ?]\n",
      "244 -> SELF-LOOP [_, server, Anto, is, now, known, as, Anto_afk]\n",
      "245 -> [173] [<, Futurama140, >, can, anyone, help, me, set, up, world, of, warcraft, using, wine, ?]\n",
      "246 -> SELF-LOOP [_, server, Anto_afk, is, now, known, as, Anto]\n",
      "247 -> [225] [<, Nytrix, >, why, i, do, i, get, a, black, screen, when, i, Remote, Desktop, someone, 's, computer, ?, !]\n",
      "248 -> [245] [<, ikonia, >, Futurama140, :, you, may, get, more, specialised, support, in, #, winehq]\n",
      "249 -> [247] [<, ikonia, >, Nytrix, :, what, are, you, using, to, remote, desktop, from, -, and, what, are, you, remote, desktoping, too]\n"
     ]
    }
   ],
   "source": [
    "display_chat(dev_instances,dev_gold,3)"
   ]
  },
  {
   "cell_type": "code",
   "execution_count": null,
   "metadata": {},
   "outputs": [],
   "source": []
  }
 ],
 "metadata": {
  "kernelspec": {
   "display_name": "Python 3",
   "language": "python",
   "name": "python3"
  },
  "language_info": {
   "codemirror_mode": {
    "name": "ipython",
    "version": 3
   },
   "file_extension": ".py",
   "mimetype": "text/x-python",
   "name": "python",
   "nbconvert_exporter": "python",
   "pygments_lexer": "ipython3",
   "version": "3.7.7"
  }
 },
 "nbformat": 4,
 "nbformat_minor": 4
}
